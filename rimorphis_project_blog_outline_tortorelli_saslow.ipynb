{
 "cells": [
  {
   "cell_type": "markdown",
   "id": "9fa8ffc5",
   "metadata": {},
   "source": [
    "1. Create a catchy title for your blog post that captures your project message and a potential reader (this title should clearly tell the reader know what the blog post is about)\n",
    "\n",
    "2. Create the outline of your post using markdown headers and catchy text that will capture a readers eye who is skimming your post\n",
    "\n",
    "3. Craft an introductory paragraph for your blog post that introduces your topic.\n",
    "\n",
    "4. Contain atleast two Python-created visualizations:\n",
    "    1. A study area map that clearly shows your area of interest (refer back to the science communication presentation notes as discussed in  the earth analytics course last spring)\n",
    "    2. A visualization showing your data or a key data output plot / map.\n",
    "        1. all plots should have titles, axes labels, and captions (either in the plot or as Markdown)\n",
    "        2. additional images that are not created via code are also allowed (but be sure to include them in your upload to CANVAS)\n",
    "        3. Do not include any visualizations or outputs that you do not explain in your blog text\n",
    "        \n",
    "\n",
    "* include subtitles for each section using Markdown\n",
    "* at least 3 paragraphs of no more than 200 words each (i.e. make this blog readable and visually attractive through organization of words and visualizations - break up text with images)\n",
    "* subsections should cover the following:\n",
    "    * what did you find? (begin with 1-2 clear statements about the main finding/point you want to share in this post)\n",
    "    * why does it matter? (significance to general audience - why should they care about the finding?)\n",
    "    * how did you find this out? (very brief explanation in plain/layperson terms)\n",
    "    * final discussion (i.e. other implications or potential applications of findings, future work)\n",
    "    * how can the reader find out more? (include link to GitHub repository)\n",
    "* Hide code cells in Jupyter Notebook using one of the two approaches that I demonstrated during  the first day of class.  (both use nbconvert to remove code)\n",
    "* Cite any references that are included in your text\n",
    "\n",
    "Suggested:\n",
    "* pick one key finding (or an expected finding) of your project that you want to explain or demonstrate (i.e. you do not have to include everything that you did as part of your project)\n",
    "* choose your title and visualizations based on those that help explain/demonstrate the key finding\n",
    "* describe how you completed the project in plain/layperson language (i.e. you can tell your readers how to find your code and more details about your project on GitHub)"
   ]
  },
  {
   "cell_type": "markdown",
   "id": "3d61e516",
   "metadata": {},
   "source": [
    "# Title"
   ]
  },
  {
   "cell_type": "markdown",
   "id": "6359ee49",
   "metadata": {},
   "source": [
    "## Introduction (rename)\n",
    "* Touch on issue of river flooding, and difficulties in correlating things...\n",
    "### What we found\n",
    "* Include final two scatter plots __(INCLUDE SOME LINE OF BEST FIT? LINEAR REGRESSION OR EXPONENTIAL FIT?)__\n",
    "* Talk about what these two charts indicate for this kind of analysis. Discharge appears to have stronger correlation to water surface area (flood extent) than gage height, but would need to be confirmed with more sites and greater time span (and more flood events).\n",
    "* Found valuable insights on potential difficulties with this kind of analysis (nearby agricultural use requiring site-specific boundaries to lessen potential error.)"
   ]
  },
  {
   "cell_type": "markdown",
   "id": "b833fe07",
   "metadata": {},
   "source": [
    "## Why does it matter?\n",
    "* Talk about importance of this project. The more information we have regarding flood events and their surface-area extent as a function of stream gage data, the better chances we have at eventually developing a tool to predict and plan for extreme flood events by using readily available sources of data. Also, creating these kinds of models can help members in the infrastructure industry have more accurate and reliable data and models to base design standards off of. "
   ]
  },
  {
   "cell_type": "markdown",
   "id": "d5510768",
   "metadata": {},
   "source": [
    "## Here's how we did it\n",
    "* Brief explanation of methodology\n",
    "* Include four images of NDWI maps (for both sites) and water maps (for both sites)"
   ]
  },
  {
   "cell_type": "markdown",
   "id": "dfba1607",
   "metadata": {},
   "source": [
    "## Implications and Potential Applications\n",
    "* Talk about implications and potential applications. Revisit using this analysis for other river sites and time periods, so that engineers/planners/designers can use to validate design standards for infrastructure. "
   ]
  },
  {
   "cell_type": "markdown",
   "id": "4791d66f",
   "metadata": {},
   "source": [
    "## Find out more here (link to GitHub)"
   ]
  },
  {
   "cell_type": "code",
   "execution_count": null,
   "id": "38f370e4",
   "metadata": {},
   "outputs": [],
   "source": [
    "!jupyter nbconvert --no-input TITLE HERE.ipynb --to html \n"
   ]
  }
 ],
 "metadata": {
  "kernelspec": {
   "display_name": "Python 3 (ipykernel)",
   "language": "python",
   "name": "python3"
  },
  "language_info": {
   "codemirror_mode": {
    "name": "ipython",
    "version": 3
   },
   "file_extension": ".py",
   "mimetype": "text/x-python",
   "name": "python",
   "nbconvert_exporter": "python",
   "pygments_lexer": "ipython3",
   "version": "3.8.12"
  }
 },
 "nbformat": 4,
 "nbformat_minor": 5
}
