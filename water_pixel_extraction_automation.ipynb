{
 "cells": [
  {
   "cell_type": "code",
   "execution_count": 1,
   "id": "a9c9d998",
   "metadata": {},
   "outputs": [
    {
     "name": "stdout",
     "output_type": "stream",
     "text": [
      "Requirement already satisfied: geemap in /Users/kristenjames/opt/miniconda3/envs/earth-analytics-python/lib/python3.8/site-packages (0.13.1)\n",
      "Requirement already satisfied: python-box in /Users/kristenjames/opt/miniconda3/envs/earth-analytics-python/lib/python3.8/site-packages (from geemap) (6.0.2)\n",
      "Requirement already satisfied: matplotlib in /Users/kristenjames/opt/miniconda3/envs/earth-analytics-python/lib/python3.8/site-packages (from geemap) (3.4.3)\n",
      "Requirement already satisfied: ee-extra>=0.0.10 in /Users/kristenjames/opt/miniconda3/envs/earth-analytics-python/lib/python3.8/site-packages (from geemap) (0.0.13)\n",
      "Requirement already satisfied: pillow in /Users/kristenjames/opt/miniconda3/envs/earth-analytics-python/lib/python3.8/site-packages (from geemap) (8.4.0)\n",
      "Requirement already satisfied: ipyfilechooser>=0.6.0 in /Users/kristenjames/opt/miniconda3/envs/earth-analytics-python/lib/python3.8/site-packages (from geemap) (0.6.0)\n",
      "Requirement already satisfied: xyzservices in /Users/kristenjames/opt/miniconda3/envs/earth-analytics-python/lib/python3.8/site-packages (from geemap) (2021.11.0)\n",
      "Requirement already satisfied: sankee in /Users/kristenjames/opt/miniconda3/envs/earth-analytics-python/lib/python3.8/site-packages (from geemap) (0.0.7)\n",
      "Requirement already satisfied: numpy in /Users/kristenjames/opt/miniconda3/envs/earth-analytics-python/lib/python3.8/site-packages (from geemap) (1.21.4)\n",
      "Requirement already satisfied: colour in /Users/kristenjames/opt/miniconda3/envs/earth-analytics-python/lib/python3.8/site-packages (from geemap) (0.1.5)\n",
      "Requirement already satisfied: whiteboxgui>=0.6.0 in /Users/kristenjames/opt/miniconda3/envs/earth-analytics-python/lib/python3.8/site-packages (from geemap) (0.7.0)\n",
      "Requirement already satisfied: pandas in /Users/kristenjames/opt/miniconda3/envs/earth-analytics-python/lib/python3.8/site-packages (from geemap) (1.3.4)\n",
      "Requirement already satisfied: earthengine-api>=0.1.230 in /Users/kristenjames/opt/miniconda3/envs/earth-analytics-python/lib/python3.8/site-packages (from geemap) (0.1.305)\n",
      "Requirement already satisfied: pycrs in /Users/kristenjames/opt/miniconda3/envs/earth-analytics-python/lib/python3.8/site-packages (from geemap) (1.0.2)\n",
      "Requirement already satisfied: pyshp>=2.1.3 in /Users/kristenjames/opt/miniconda3/envs/earth-analytics-python/lib/python3.8/site-packages (from geemap) (2.1.3)\n",
      "Requirement already satisfied: ipyevents in /Users/kristenjames/opt/miniconda3/envs/earth-analytics-python/lib/python3.8/site-packages (from geemap) (2.0.1)\n",
      "Requirement already satisfied: ffmpeg-python in /Users/kristenjames/opt/miniconda3/envs/earth-analytics-python/lib/python3.8/site-packages (from geemap) (0.2.0)\n",
      "Requirement already satisfied: geeadd>=0.5.1 in /Users/kristenjames/opt/miniconda3/envs/earth-analytics-python/lib/python3.8/site-packages (from geemap) (0.5.5)\n",
      "Requirement already satisfied: folium>=0.11.0 in /Users/kristenjames/opt/miniconda3/envs/earth-analytics-python/lib/python3.8/site-packages (from geemap) (0.12.1.post1)\n",
      "Requirement already satisfied: geocoder in /Users/kristenjames/opt/miniconda3/envs/earth-analytics-python/lib/python3.8/site-packages (from geemap) (1.38.1)\n",
      "Requirement already satisfied: ipytree in /Users/kristenjames/opt/miniconda3/envs/earth-analytics-python/lib/python3.8/site-packages (from geemap) (0.2.1)\n",
      "Requirement already satisfied: geojson in /Users/kristenjames/opt/miniconda3/envs/earth-analytics-python/lib/python3.8/site-packages (from geemap) (2.5.0)\n",
      "Requirement already satisfied: ipyleaflet>=0.14.0 in /Users/kristenjames/opt/miniconda3/envs/earth-analytics-python/lib/python3.8/site-packages (from geemap) (0.15.0)\n",
      "Requirement already satisfied: bqplot in /Users/kristenjames/opt/miniconda3/envs/earth-analytics-python/lib/python3.8/site-packages (from geemap) (0.12.33)\n",
      "Requirement already satisfied: jupyterlab>=3 in /Users/kristenjames/opt/miniconda3/envs/earth-analytics-python/lib/python3.8/site-packages (from geemap) (3.2.3)\n",
      "Requirement already satisfied: gdown in /Users/kristenjames/opt/miniconda3/envs/earth-analytics-python/lib/python3.8/site-packages (from geemap) (4.4.0)\n",
      "Requirement already satisfied: future in /Users/kristenjames/opt/miniconda3/envs/earth-analytics-python/lib/python3.8/site-packages (from earthengine-api>=0.1.230->geemap) (0.18.2)\n",
      "Requirement already satisfied: google-auth>=1.4.1 in /Users/kristenjames/opt/miniconda3/envs/earth-analytics-python/lib/python3.8/site-packages (from earthengine-api>=0.1.230->geemap) (2.6.4)\n",
      "Requirement already satisfied: google-auth-httplib2>=0.0.3 in /Users/kristenjames/opt/miniconda3/envs/earth-analytics-python/lib/python3.8/site-packages (from earthengine-api>=0.1.230->geemap) (0.1.0)\n",
      "Requirement already satisfied: six in /Users/kristenjames/opt/miniconda3/envs/earth-analytics-python/lib/python3.8/site-packages (from earthengine-api>=0.1.230->geemap) (1.16.0)\n",
      "Requirement already satisfied: httplib2<1dev,>=0.9.2 in /Users/kristenjames/opt/miniconda3/envs/earth-analytics-python/lib/python3.8/site-packages (from earthengine-api>=0.1.230->geemap) (0.20.4)\n",
      "Requirement already satisfied: google-api-python-client<2,>=1.12.1 in /Users/kristenjames/opt/miniconda3/envs/earth-analytics-python/lib/python3.8/site-packages (from earthengine-api>=0.1.230->geemap) (1.12.11)\n",
      "Requirement already satisfied: httplib2shim in /Users/kristenjames/opt/miniconda3/envs/earth-analytics-python/lib/python3.8/site-packages (from earthengine-api>=0.1.230->geemap) (0.0.3)\n",
      "Requirement already satisfied: google-cloud-storage in /Users/kristenjames/opt/miniconda3/envs/earth-analytics-python/lib/python3.8/site-packages (from earthengine-api>=0.1.230->geemap) (2.2.1)\n",
      "Requirement already satisfied: requests in /Users/kristenjames/opt/miniconda3/envs/earth-analytics-python/lib/python3.8/site-packages (from folium>=0.11.0->geemap) (2.25.1)\n",
      "Requirement already satisfied: branca>=0.3.0 in /Users/kristenjames/opt/miniconda3/envs/earth-analytics-python/lib/python3.8/site-packages (from folium>=0.11.0->geemap) (0.4.2)\n",
      "Requirement already satisfied: jinja2>=2.9 in /Users/kristenjames/opt/miniconda3/envs/earth-analytics-python/lib/python3.8/site-packages (from folium>=0.11.0->geemap) (3.0.3)\n",
      "Requirement already satisfied: beautifulsoup4>=4.9.0 in /Users/kristenjames/opt/miniconda3/envs/earth-analytics-python/lib/python3.8/site-packages (from geeadd>=0.5.1->geemap) (4.10.0)\n",
      "Requirement already satisfied: logzero>=1.5.0 in /Users/kristenjames/opt/miniconda3/envs/earth-analytics-python/lib/python3.8/site-packages (from geeadd>=0.5.1->geemap) (1.7.0)\n",
      "Requirement already satisfied: ipywidgets in /Users/kristenjames/opt/miniconda3/envs/earth-analytics-python/lib/python3.8/site-packages (from ipyfilechooser>=0.6.0->geemap) (7.6.5)\n",
      "Requirement already satisfied: traittypes<3,>=0.2.1 in /Users/kristenjames/opt/miniconda3/envs/earth-analytics-python/lib/python3.8/site-packages (from ipyleaflet>=0.14.0->geemap) (0.2.1)\n",
      "Requirement already satisfied: packaging in /Users/kristenjames/opt/miniconda3/envs/earth-analytics-python/lib/python3.8/site-packages (from jupyterlab>=3->geemap) (21.0)\n",
      "Requirement already satisfied: jupyter-core in /Users/kristenjames/opt/miniconda3/envs/earth-analytics-python/lib/python3.8/site-packages (from jupyterlab>=3->geemap) (4.9.1)\n",
      "Requirement already satisfied: jupyter-server~=1.4 in /Users/kristenjames/opt/miniconda3/envs/earth-analytics-python/lib/python3.8/site-packages (from jupyterlab>=3->geemap) (1.11.2)\n",
      "Requirement already satisfied: tornado>=6.1.0 in /Users/kristenjames/opt/miniconda3/envs/earth-analytics-python/lib/python3.8/site-packages (from jupyterlab>=3->geemap) (6.1)\n",
      "Requirement already satisfied: nbclassic~=0.2 in /Users/kristenjames/opt/miniconda3/envs/earth-analytics-python/lib/python3.8/site-packages (from jupyterlab>=3->geemap) (0.3.4)\n",
      "Requirement already satisfied: jupyterlab-server~=2.3 in /Users/kristenjames/opt/miniconda3/envs/earth-analytics-python/lib/python3.8/site-packages (from jupyterlab>=3->geemap) (2.8.2)\n",
      "Requirement already satisfied: ipython in /Users/kristenjames/opt/miniconda3/envs/earth-analytics-python/lib/python3.8/site-packages (from jupyterlab>=3->geemap) (7.29.0)\n",
      "Requirement already satisfied: whitebox in /Users/kristenjames/opt/miniconda3/envs/earth-analytics-python/lib/python3.8/site-packages (from whiteboxgui>=0.6.0->geemap) (2.1.2)\n",
      "Requirement already satisfied: traitlets>=4.3.0 in /Users/kristenjames/opt/miniconda3/envs/earth-analytics-python/lib/python3.8/site-packages (from bqplot->geemap) (4.3.3)\n",
      "Requirement already satisfied: python-dateutil>=2.7.3 in /Users/kristenjames/opt/miniconda3/envs/earth-analytics-python/lib/python3.8/site-packages (from pandas->geemap) (2.8.0)\n"
     ]
    },
    {
     "name": "stdout",
     "output_type": "stream",
     "text": [
      "Requirement already satisfied: pytz>=2017.3 in /Users/kristenjames/opt/miniconda3/envs/earth-analytics-python/lib/python3.8/site-packages (from pandas->geemap) (2021.3)\n",
      "Requirement already satisfied: filelock in /Users/kristenjames/opt/miniconda3/envs/earth-analytics-python/lib/python3.8/site-packages (from gdown->geemap) (3.6.0)\n",
      "Requirement already satisfied: tqdm in /Users/kristenjames/opt/miniconda3/envs/earth-analytics-python/lib/python3.8/site-packages (from gdown->geemap) (4.62.3)\n",
      "Requirement already satisfied: click in /Users/kristenjames/opt/miniconda3/envs/earth-analytics-python/lib/python3.8/site-packages (from geocoder->geemap) (8.0.3)\n",
      "Requirement already satisfied: ratelim in /Users/kristenjames/opt/miniconda3/envs/earth-analytics-python/lib/python3.8/site-packages (from geocoder->geemap) (0.1.6)\n",
      "Requirement already satisfied: kiwisolver>=1.0.1 in /Users/kristenjames/opt/miniconda3/envs/earth-analytics-python/lib/python3.8/site-packages (from matplotlib->geemap) (1.3.2)\n",
      "Requirement already satisfied: cycler>=0.10 in /Users/kristenjames/opt/miniconda3/envs/earth-analytics-python/lib/python3.8/site-packages (from matplotlib->geemap) (0.11.0)\n",
      "Requirement already satisfied: pyparsing>=2.2.1 in /Users/kristenjames/opt/miniconda3/envs/earth-analytics-python/lib/python3.8/site-packages (from matplotlib->geemap) (3.0.6)\n",
      "Requirement already satisfied: plotly>=5.2.2 in /Users/kristenjames/opt/miniconda3/envs/earth-analytics-python/lib/python3.8/site-packages (from sankee->geemap) (5.4.0)\n",
      "Requirement already satisfied: nbformat>=4.2.0 in /Users/kristenjames/opt/miniconda3/envs/earth-analytics-python/lib/python3.8/site-packages (from sankee->geemap) (5.1.3)\n",
      "Requirement already satisfied: ipykernel in /Users/kristenjames/opt/miniconda3/envs/earth-analytics-python/lib/python3.8/site-packages (from sankee->geemap) (6.4.2)\n",
      "Requirement already satisfied: soupsieve>1.2 in /Users/kristenjames/opt/miniconda3/envs/earth-analytics-python/lib/python3.8/site-packages (from beautifulsoup4>=4.9.0->geeadd>=0.5.1->geemap) (2.3)\n",
      "Requirement already satisfied: uritemplate<4dev,>=3.0.0 in /Users/kristenjames/opt/miniconda3/envs/earth-analytics-python/lib/python3.8/site-packages (from google-api-python-client<2,>=1.12.1->earthengine-api>=0.1.230->geemap) (3.0.1)\n",
      "Requirement already satisfied: google-api-core<3dev,>=1.21.0 in /Users/kristenjames/opt/miniconda3/envs/earth-analytics-python/lib/python3.8/site-packages (from google-api-python-client<2,>=1.12.1->earthengine-api>=0.1.230->geemap) (2.7.1)\n",
      "Requirement already satisfied: rsa<5,>=3.1.4 in /Users/kristenjames/opt/miniconda3/envs/earth-analytics-python/lib/python3.8/site-packages (from google-auth>=1.4.1->earthengine-api>=0.1.230->geemap) (4.8)\n",
      "Requirement already satisfied: cachetools<6.0,>=2.0.0 in /Users/kristenjames/opt/miniconda3/envs/earth-analytics-python/lib/python3.8/site-packages (from google-auth>=1.4.1->earthengine-api>=0.1.230->geemap) (5.0.0)\n",
      "Requirement already satisfied: pyasn1-modules>=0.2.1 in /Users/kristenjames/opt/miniconda3/envs/earth-analytics-python/lib/python3.8/site-packages (from google-auth>=1.4.1->earthengine-api>=0.1.230->geemap) (0.2.8)\n",
      "Requirement already satisfied: widgetsnbextension~=3.5.0 in /Users/kristenjames/opt/miniconda3/envs/earth-analytics-python/lib/python3.8/site-packages (from ipywidgets->ipyfilechooser>=0.6.0->geemap) (3.5.2)\n",
      "Requirement already satisfied: ipython-genutils~=0.2.0 in /Users/kristenjames/opt/miniconda3/envs/earth-analytics-python/lib/python3.8/site-packages (from ipywidgets->ipyfilechooser>=0.6.0->geemap) (0.2.0)\n",
      "Requirement already satisfied: jupyterlab-widgets>=1.0.0 in /Users/kristenjames/opt/miniconda3/envs/earth-analytics-python/lib/python3.8/site-packages (from ipywidgets->ipyfilechooser>=0.6.0->geemap) (1.0.2)\n",
      "Requirement already satisfied: jupyter-client<8.0 in /Users/kristenjames/opt/miniconda3/envs/earth-analytics-python/lib/python3.8/site-packages (from ipykernel->sankee->geemap) (7.0.6)\n",
      "Requirement already satisfied: matplotlib-inline<0.2.0,>=0.1.0 in /Users/kristenjames/opt/miniconda3/envs/earth-analytics-python/lib/python3.8/site-packages (from ipykernel->sankee->geemap) (0.1.3)\n",
      "Requirement already satisfied: appnope in /Users/kristenjames/opt/miniconda3/envs/earth-analytics-python/lib/python3.8/site-packages (from ipykernel->sankee->geemap) (0.1.2)\n",
      "Requirement already satisfied: debugpy<2.0,>=1.0.0 in /Users/kristenjames/opt/miniconda3/envs/earth-analytics-python/lib/python3.8/site-packages (from ipykernel->sankee->geemap) (1.5.1)\n",
      "Requirement already satisfied: decorator in /Users/kristenjames/opt/miniconda3/envs/earth-analytics-python/lib/python3.8/site-packages (from ipython->jupyterlab>=3->geemap) (5.1.0)\n",
      "Requirement already satisfied: prompt-toolkit!=3.0.0,!=3.0.1,<3.1.0,>=2.0.0 in /Users/kristenjames/opt/miniconda3/envs/earth-analytics-python/lib/python3.8/site-packages (from ipython->jupyterlab>=3->geemap) (3.0.22)\n",
      "Requirement already satisfied: jedi>=0.16 in /Users/kristenjames/opt/miniconda3/envs/earth-analytics-python/lib/python3.8/site-packages (from ipython->jupyterlab>=3->geemap) (0.18.0)\n",
      "Requirement already satisfied: backcall in /Users/kristenjames/opt/miniconda3/envs/earth-analytics-python/lib/python3.8/site-packages (from ipython->jupyterlab>=3->geemap) (0.2.0)\n",
      "Requirement already satisfied: pygments in /Users/kristenjames/opt/miniconda3/envs/earth-analytics-python/lib/python3.8/site-packages (from ipython->jupyterlab>=3->geemap) (2.10.0)\n",
      "Requirement already satisfied: pickleshare in /Users/kristenjames/opt/miniconda3/envs/earth-analytics-python/lib/python3.8/site-packages (from ipython->jupyterlab>=3->geemap) (0.7.5)\n",
      "Requirement already satisfied: setuptools>=18.5 in /Users/kristenjames/opt/miniconda3/envs/earth-analytics-python/lib/python3.8/site-packages (from ipython->jupyterlab>=3->geemap) (59.1.1)\n",
      "Requirement already satisfied: pexpect>4.3 in /Users/kristenjames/opt/miniconda3/envs/earth-analytics-python/lib/python3.8/site-packages (from ipython->jupyterlab>=3->geemap) (4.8.0)\n",
      "Requirement already satisfied: MarkupSafe>=2.0 in /Users/kristenjames/opt/miniconda3/envs/earth-analytics-python/lib/python3.8/site-packages (from jinja2>=2.9->folium>=0.11.0->geemap) (2.0.1)\n",
      "Requirement already satisfied: pyzmq>=17 in /Users/kristenjames/opt/miniconda3/envs/earth-analytics-python/lib/python3.8/site-packages (from jupyter-server~=1.4->jupyterlab>=3->geemap) (22.3.0)\n",
      "Requirement already satisfied: terminado>=0.8.3 in /Users/kristenjames/opt/miniconda3/envs/earth-analytics-python/lib/python3.8/site-packages (from jupyter-server~=1.4->jupyterlab>=3->geemap) (0.12.1)\n",
      "Requirement already satisfied: Send2Trash in /Users/kristenjames/opt/miniconda3/envs/earth-analytics-python/lib/python3.8/site-packages (from jupyter-server~=1.4->jupyterlab>=3->geemap) (1.8.0)\n",
      "Requirement already satisfied: nbconvert in /Users/kristenjames/opt/miniconda3/envs/earth-analytics-python/lib/python3.8/site-packages (from jupyter-server~=1.4->jupyterlab>=3->geemap) (5.6.1)\n",
      "Requirement already satisfied: argon2-cffi in /Users/kristenjames/opt/miniconda3/envs/earth-analytics-python/lib/python3.8/site-packages (from jupyter-server~=1.4->jupyterlab>=3->geemap) (21.1.0)\n",
      "Requirement already satisfied: websocket-client in /Users/kristenjames/opt/miniconda3/envs/earth-analytics-python/lib/python3.8/site-packages (from jupyter-server~=1.4->jupyterlab>=3->geemap) (1.2.1)\n",
      "Requirement already satisfied: anyio<4,>=3.1.0 in /Users/kristenjames/opt/miniconda3/envs/earth-analytics-python/lib/python3.8/site-packages (from jupyter-server~=1.4->jupyterlab>=3->geemap) (3.3.4)\n",
      "Requirement already satisfied: prometheus-client in /Users/kristenjames/opt/miniconda3/envs/earth-analytics-python/lib/python3.8/site-packages (from jupyter-server~=1.4->jupyterlab>=3->geemap) (0.12.0)\n",
      "Requirement already satisfied: entrypoints>=0.2.2 in /Users/kristenjames/opt/miniconda3/envs/earth-analytics-python/lib/python3.8/site-packages (from jupyterlab-server~=2.3->jupyterlab>=3->geemap) (0.3)\n",
      "Requirement already satisfied: json5 in /Users/kristenjames/opt/miniconda3/envs/earth-analytics-python/lib/python3.8/site-packages (from jupyterlab-server~=2.3->jupyterlab>=3->geemap) (0.9.5)\n",
      "Requirement already satisfied: jsonschema>=3.0.1 in /Users/kristenjames/opt/miniconda3/envs/earth-analytics-python/lib/python3.8/site-packages (from jupyterlab-server~=2.3->jupyterlab>=3->geemap) (4.2.1)\n",
      "Requirement already satisfied: babel in /Users/kristenjames/opt/miniconda3/envs/earth-analytics-python/lib/python3.8/site-packages (from jupyterlab-server~=2.3->jupyterlab>=3->geemap) (2.9.1)\n"
     ]
    },
    {
     "name": "stdout",
     "output_type": "stream",
     "text": [
      "Requirement already satisfied: notebook<7 in /Users/kristenjames/opt/miniconda3/envs/earth-analytics-python/lib/python3.8/site-packages (from nbclassic~=0.2->jupyterlab>=3->geemap) (6.4.5)\n",
      "Requirement already satisfied: tenacity>=6.2.0 in /Users/kristenjames/opt/miniconda3/envs/earth-analytics-python/lib/python3.8/site-packages (from plotly>=5.2.2->sankee->geemap) (8.0.1)\n",
      "Requirement already satisfied: chardet<5,>=3.0.2 in /Users/kristenjames/opt/miniconda3/envs/earth-analytics-python/lib/python3.8/site-packages (from requests->folium>=0.11.0->geemap) (4.0.0)\n",
      "Requirement already satisfied: idna<3,>=2.5 in /Users/kristenjames/opt/miniconda3/envs/earth-analytics-python/lib/python3.8/site-packages (from requests->folium>=0.11.0->geemap) (2.10)\n",
      "Requirement already satisfied: certifi>=2017.4.17 in /Users/kristenjames/opt/miniconda3/envs/earth-analytics-python/lib/python3.8/site-packages (from requests->folium>=0.11.0->geemap) (2021.10.8)\n",
      "Requirement already satisfied: urllib3<1.27,>=1.21.1 in /Users/kristenjames/opt/miniconda3/envs/earth-analytics-python/lib/python3.8/site-packages (from requests->folium>=0.11.0->geemap) (1.25.11)\n",
      "Requirement already satisfied: google-cloud-core<3.0dev,>=1.6.0 in /Users/kristenjames/opt/miniconda3/envs/earth-analytics-python/lib/python3.8/site-packages (from google-cloud-storage->earthengine-api>=0.1.230->geemap) (2.3.0)\n",
      "Requirement already satisfied: protobuf in /Users/kristenjames/opt/miniconda3/envs/earth-analytics-python/lib/python3.8/site-packages (from google-cloud-storage->earthengine-api>=0.1.230->geemap) (3.20.0)\n",
      "Requirement already satisfied: google-resumable-media>=2.3.2 in /Users/kristenjames/opt/miniconda3/envs/earth-analytics-python/lib/python3.8/site-packages (from google-cloud-storage->earthengine-api>=0.1.230->geemap) (2.3.2)\n",
      "Requirement already satisfied: PySocks!=1.5.7,>=1.5.6 in /Users/kristenjames/opt/miniconda3/envs/earth-analytics-python/lib/python3.8/site-packages (from requests->folium>=0.11.0->geemap) (1.7.1)\n",
      "Requirement already satisfied: sniffio>=1.1 in /Users/kristenjames/opt/miniconda3/envs/earth-analytics-python/lib/python3.8/site-packages (from anyio<4,>=3.1.0->jupyter-server~=1.4->jupyterlab>=3->geemap) (1.2.0)\n",
      "Requirement already satisfied: googleapis-common-protos<2.0dev,>=1.52.0 in /Users/kristenjames/opt/miniconda3/envs/earth-analytics-python/lib/python3.8/site-packages (from google-api-core<3dev,>=1.21.0->google-api-python-client<2,>=1.12.1->earthengine-api>=0.1.230->geemap) (1.56.0)\n",
      "Requirement already satisfied: google-crc32c<2.0dev,>=1.0 in /Users/kristenjames/opt/miniconda3/envs/earth-analytics-python/lib/python3.8/site-packages (from google-resumable-media>=2.3.2->google-cloud-storage->earthengine-api>=0.1.230->geemap) (1.3.0)\n",
      "Requirement already satisfied: parso<0.9.0,>=0.8.0 in /Users/kristenjames/opt/miniconda3/envs/earth-analytics-python/lib/python3.8/site-packages (from jedi>=0.16->ipython->jupyterlab>=3->geemap) (0.8.2)\n",
      "Requirement already satisfied: attrs>=17.4.0 in /Users/kristenjames/opt/miniconda3/envs/earth-analytics-python/lib/python3.8/site-packages (from jsonschema>=3.0.1->jupyterlab-server~=2.3->jupyterlab>=3->geemap) (21.2.0)\n",
      "Requirement already satisfied: importlib-resources>=1.4.0 in /Users/kristenjames/opt/miniconda3/envs/earth-analytics-python/lib/python3.8/site-packages (from jsonschema>=3.0.1->jupyterlab-server~=2.3->jupyterlab>=3->geemap) (5.4.0)\n",
      "Requirement already satisfied: pyrsistent!=0.17.0,!=0.17.1,!=0.17.2,>=0.14.0 in /Users/kristenjames/opt/miniconda3/envs/earth-analytics-python/lib/python3.8/site-packages (from jsonschema>=3.0.1->jupyterlab-server~=2.3->jupyterlab>=3->geemap) (0.18.0)\n",
      "Requirement already satisfied: nest-asyncio>=1.5 in /Users/kristenjames/opt/miniconda3/envs/earth-analytics-python/lib/python3.8/site-packages (from jupyter-client<8.0->ipykernel->sankee->geemap) (1.5.1)\n",
      "Requirement already satisfied: ptyprocess>=0.5 in /Users/kristenjames/opt/miniconda3/envs/earth-analytics-python/lib/python3.8/site-packages (from pexpect>4.3->ipython->jupyterlab>=3->geemap) (0.7.0)\n",
      "Requirement already satisfied: wcwidth in /Users/kristenjames/opt/miniconda3/envs/earth-analytics-python/lib/python3.8/site-packages (from prompt-toolkit!=3.0.0,!=3.0.1,<3.1.0,>=2.0.0->ipython->jupyterlab>=3->geemap) (0.2.5)\n",
      "Requirement already satisfied: pyasn1<0.5.0,>=0.4.6 in /Users/kristenjames/opt/miniconda3/envs/earth-analytics-python/lib/python3.8/site-packages (from pyasn1-modules>=0.2.1->google-auth>=1.4.1->earthengine-api>=0.1.230->geemap) (0.4.8)\n",
      "Requirement already satisfied: cffi>=1.0.0 in /Users/kristenjames/opt/miniconda3/envs/earth-analytics-python/lib/python3.8/site-packages (from argon2-cffi->jupyter-server~=1.4->jupyterlab>=3->geemap) (1.15.0)\n",
      "Requirement already satisfied: defusedxml in /Users/kristenjames/opt/miniconda3/envs/earth-analytics-python/lib/python3.8/site-packages (from nbconvert->jupyter-server~=1.4->jupyterlab>=3->geemap) (0.7.1)\n",
      "Requirement already satisfied: bleach in /Users/kristenjames/opt/miniconda3/envs/earth-analytics-python/lib/python3.8/site-packages (from nbconvert->jupyter-server~=1.4->jupyterlab>=3->geemap) (4.1.0)\n",
      "Requirement already satisfied: pandocfilters>=1.4.1 in /Users/kristenjames/opt/miniconda3/envs/earth-analytics-python/lib/python3.8/site-packages (from nbconvert->jupyter-server~=1.4->jupyterlab>=3->geemap) (1.5.0)\n",
      "Requirement already satisfied: mistune<2,>=0.8.1 in /Users/kristenjames/opt/miniconda3/envs/earth-analytics-python/lib/python3.8/site-packages (from nbconvert->jupyter-server~=1.4->jupyterlab>=3->geemap) (0.8.4)\n",
      "Requirement already satisfied: testpath in /Users/kristenjames/opt/miniconda3/envs/earth-analytics-python/lib/python3.8/site-packages (from nbconvert->jupyter-server~=1.4->jupyterlab>=3->geemap) (0.5.0)\n",
      "Requirement already satisfied: pycparser in /Users/kristenjames/opt/miniconda3/envs/earth-analytics-python/lib/python3.8/site-packages (from cffi>=1.0.0->argon2-cffi->jupyter-server~=1.4->jupyterlab>=3->geemap) (2.21)\n",
      "Requirement already satisfied: zipp>=3.1.0 in /Users/kristenjames/opt/miniconda3/envs/earth-analytics-python/lib/python3.8/site-packages (from importlib-resources>=1.4.0->jsonschema>=3.0.1->jupyterlab-server~=2.3->jupyterlab>=3->geemap) (3.6.0)\n",
      "Requirement already satisfied: webencodings in /Users/kristenjames/opt/miniconda3/envs/earth-analytics-python/lib/python3.8/site-packages (from bleach->nbconvert->jupyter-server~=1.4->jupyterlab>=3->geemap) (0.5.1)\n"
     ]
    }
   ],
   "source": [
    "!pip install geemap"
   ]
  },
  {
   "cell_type": "code",
   "execution_count": 2,
   "id": "f8d9e2eb",
   "metadata": {},
   "outputs": [],
   "source": [
    "from glob import glob\n",
    "import os\n",
    "\n",
    "import hydrofunctions as hf\n",
    "import earthpy as et\n",
    "import seaborn as sns\n",
    "import pandas as pd\n",
    "from matplotlib.dates import DateFormatter\n",
    "import matplotlib.dates as mdates\n",
    "import matplotlib.pyplot as plt\n",
    "import folium\n",
    "import matplotcheck.notebook as nb\n",
    "from matplotcheck.base import PlotTester\n",
    "import matplotcheck.autograde as ag\n",
    "import numpy as np\n",
    "\n",
    "\n",
    "# Installs geemap package\n",
    "import geemap.eefolium as geemap\n",
    "\n",
    "# We are adding this for you as there is a bug in hydrofunctions that\n",
    "# Turns off plotting\n",
    "%matplotlib inline\n",
    "\n",
    "# Prettier plotting with seaborn\n",
    "sns.set(font_scale=1.5, style=\"whitegrid\")\n",
    "\n",
    "# Authenticates and initializes Earth Engine\n",
    "import ee"
   ]
  },
  {
   "cell_type": "code",
   "execution_count": 3,
   "id": "3d1b7042",
   "metadata": {},
   "outputs": [
    {
     "data": {
      "text/html": [
       "<p>To authorize access needed by Earth Engine, open the following\n",
       "        URL in a web browser and follow the instructions:</p>\n",
       "        <p><a href=https://code.earthengine.google.com/client-auth?scopes=https%3A//www.googleapis.com/auth/earthengine%20https%3A//www.googleapis.com/auth/devstorage.full_control&request_id=20u54cEoB-rGAtlqVFaqHsr7d8MNQytk_8LttDfBVeQ&tc=BiTKln-uZPuhnjig7BWwyeXnJA9JeVOh-OSSV-mNq0I&cc=UuofYISek2X-KyePHF8x0Uz4Q_RvMf7B2Y3r2JDegTI>https://code.earthengine.google.com/client-auth?scopes=https%3A//www.googleapis.com/auth/earthengine%20https%3A//www.googleapis.com/auth/devstorage.full_control&request_id=20u54cEoB-rGAtlqVFaqHsr7d8MNQytk_8LttDfBVeQ&tc=BiTKln-uZPuhnjig7BWwyeXnJA9JeVOh-OSSV-mNq0I&cc=UuofYISek2X-KyePHF8x0Uz4Q_RvMf7B2Y3r2JDegTI</a></p>\n",
       "        <p>The authorization workflow will generate a code, which you\n",
       "        should paste in the box below</p>\n",
       "        "
      ],
      "text/plain": [
       "<IPython.core.display.HTML object>"
      ]
     },
     "metadata": {},
     "output_type": "display_data"
    },
    {
     "name": "stdout",
     "output_type": "stream",
     "text": [
      "Enter verification code: 4/1AX4XfWjTutotpuWHeLIeZ8oYmdOLAmfwszqJ7kIqeUXRWASTOinl7KRpdNA\n",
      "\n",
      "Successfully saved authorization token.\n"
     ]
    }
   ],
   "source": [
    "ee.Authenticate()\n",
    "ee.Initialize()  "
   ]
  },
  {
   "cell_type": "code",
   "execution_count": 4,
   "id": "a0aebdbe",
   "metadata": {},
   "outputs": [
    {
     "data": {
      "text/html": [
       "<div style=\"width:100%;\"><div style=\"position:relative;width:100%;height:0;padding-bottom:60%;\"><span style=\"color:#565656\">Make this Notebook Trusted to load map: File -> Trust Notebook</span><iframe src=\"about:blank\" style=\"position:absolute;width:100%;height:100%;left:0;top:0;border:none !important;\" data-html=%3C%21DOCTYPE%20html%3E%0A%3Chead%3E%20%20%20%20%0A%20%20%20%20%3Cmeta%20http-equiv%3D%22content-type%22%20content%3D%22text/html%3B%20charset%3DUTF-8%22%20/%3E%0A%20%20%20%20%0A%20%20%20%20%20%20%20%20%3Cscript%3E%0A%20%20%20%20%20%20%20%20%20%20%20%20L_NO_TOUCH%20%3D%20false%3B%0A%20%20%20%20%20%20%20%20%20%20%20%20L_DISABLE_3D%20%3D%20false%3B%0A%20%20%20%20%20%20%20%20%3C/script%3E%0A%20%20%20%20%0A%20%20%20%20%3Cstyle%3Ehtml%2C%20body%20%7Bwidth%3A%20100%25%3Bheight%3A%20100%25%3Bmargin%3A%200%3Bpadding%3A%200%3B%7D%3C/style%3E%0A%20%20%20%20%3Cstyle%3E%23map%20%7Bposition%3Aabsolute%3Btop%3A0%3Bbottom%3A0%3Bright%3A0%3Bleft%3A0%3B%7D%3C/style%3E%0A%20%20%20%20%3Cscript%20src%3D%22https%3A//cdn.jsdelivr.net/npm/leaflet%401.6.0/dist/leaflet.js%22%3E%3C/script%3E%0A%20%20%20%20%3Cscript%20src%3D%22https%3A//code.jquery.com/jquery-1.12.4.min.js%22%3E%3C/script%3E%0A%20%20%20%20%3Cscript%20src%3D%22https%3A//maxcdn.bootstrapcdn.com/bootstrap/3.2.0/js/bootstrap.min.js%22%3E%3C/script%3E%0A%20%20%20%20%3Cscript%20src%3D%22https%3A//cdnjs.cloudflare.com/ajax/libs/Leaflet.awesome-markers/2.0.2/leaflet.awesome-markers.js%22%3E%3C/script%3E%0A%20%20%20%20%3Clink%20rel%3D%22stylesheet%22%20href%3D%22https%3A//cdn.jsdelivr.net/npm/leaflet%401.6.0/dist/leaflet.css%22/%3E%0A%20%20%20%20%3Clink%20rel%3D%22stylesheet%22%20href%3D%22https%3A//maxcdn.bootstrapcdn.com/bootstrap/3.2.0/css/bootstrap.min.css%22/%3E%0A%20%20%20%20%3Clink%20rel%3D%22stylesheet%22%20href%3D%22https%3A//maxcdn.bootstrapcdn.com/bootstrap/3.2.0/css/bootstrap-theme.min.css%22/%3E%0A%20%20%20%20%3Clink%20rel%3D%22stylesheet%22%20href%3D%22https%3A//maxcdn.bootstrapcdn.com/font-awesome/4.6.3/css/font-awesome.min.css%22/%3E%0A%20%20%20%20%3Clink%20rel%3D%22stylesheet%22%20href%3D%22https%3A//cdnjs.cloudflare.com/ajax/libs/Leaflet.awesome-markers/2.0.2/leaflet.awesome-markers.css%22/%3E%0A%20%20%20%20%3Clink%20rel%3D%22stylesheet%22%20href%3D%22https%3A//cdn.jsdelivr.net/gh/python-visualization/folium/folium/templates/leaflet.awesome.rotate.min.css%22/%3E%0A%20%20%20%20%0A%20%20%20%20%20%20%20%20%20%20%20%20%3Cmeta%20name%3D%22viewport%22%20content%3D%22width%3Ddevice-width%2C%0A%20%20%20%20%20%20%20%20%20%20%20%20%20%20%20%20initial-scale%3D1.0%2C%20maximum-scale%3D1.0%2C%20user-scalable%3Dno%22%20/%3E%0A%20%20%20%20%20%20%20%20%20%20%20%20%3Cstyle%3E%0A%20%20%20%20%20%20%20%20%20%20%20%20%20%20%20%20%23map_b09121abcc9f4e9898d4a64f8bce18f5%20%7B%0A%20%20%20%20%20%20%20%20%20%20%20%20%20%20%20%20%20%20%20%20position%3A%20relative%3B%0A%20%20%20%20%20%20%20%20%20%20%20%20%20%20%20%20%20%20%20%20width%3A%20100.0%25%3B%0A%20%20%20%20%20%20%20%20%20%20%20%20%20%20%20%20%20%20%20%20height%3A%20100.0%25%3B%0A%20%20%20%20%20%20%20%20%20%20%20%20%20%20%20%20%20%20%20%20left%3A%200.0%25%3B%0A%20%20%20%20%20%20%20%20%20%20%20%20%20%20%20%20%20%20%20%20top%3A%200.0%25%3B%0A%20%20%20%20%20%20%20%20%20%20%20%20%20%20%20%20%7D%0A%20%20%20%20%20%20%20%20%20%20%20%20%3C/style%3E%0A%20%20%20%20%20%20%20%20%0A%20%20%20%20%3Cscript%20src%3D%22https%3A//cdnjs.cloudflare.com/ajax/libs/leaflet.fullscreen/1.4.2/Control.FullScreen.min.js%22%3E%3C/script%3E%0A%20%20%20%20%3Clink%20rel%3D%22stylesheet%22%20href%3D%22https%3A//cdnjs.cloudflare.com/ajax/libs/leaflet.fullscreen/1.4.2/Control.FullScreen.min.css%22/%3E%0A%3C/head%3E%0A%3Cbody%3E%20%20%20%20%0A%20%20%20%20%0A%20%20%20%20%20%20%20%20%20%20%20%20%3Cdiv%20class%3D%22folium-map%22%20id%3D%22map_b09121abcc9f4e9898d4a64f8bce18f5%22%20%3E%3C/div%3E%0A%20%20%20%20%20%20%20%20%0A%3C/body%3E%0A%3Cscript%3E%20%20%20%20%0A%20%20%20%20%0A%20%20%20%20%20%20%20%20%20%20%20%20var%20map_b09121abcc9f4e9898d4a64f8bce18f5%20%3D%20L.map%28%0A%20%20%20%20%20%20%20%20%20%20%20%20%20%20%20%20%22map_b09121abcc9f4e9898d4a64f8bce18f5%22%2C%0A%20%20%20%20%20%20%20%20%20%20%20%20%20%20%20%20%7B%0A%20%20%20%20%20%20%20%20%20%20%20%20%20%20%20%20%20%20%20%20center%3A%20%5B32.3%2C%20-90.9%5D%2C%0A%20%20%20%20%20%20%20%20%20%20%20%20%20%20%20%20%20%20%20%20crs%3A%20L.CRS.EPSG3857%2C%0A%20%20%20%20%20%20%20%20%20%20%20%20%20%20%20%20%20%20%20%20zoom%3A%2011%2C%0A%20%20%20%20%20%20%20%20%20%20%20%20%20%20%20%20%20%20%20%20zoomControl%3A%20true%2C%0A%20%20%20%20%20%20%20%20%20%20%20%20%20%20%20%20%20%20%20%20preferCanvas%3A%20false%2C%0A%20%20%20%20%20%20%20%20%20%20%20%20%20%20%20%20%20%20%20%20eeInitialize%3A%20true%2C%0A%20%20%20%20%20%20%20%20%20%20%20%20%20%20%20%20%20%20%20%20addGoogleMap%3A%20true%2C%0A%20%20%20%20%20%20%20%20%20%20%20%20%20%20%20%20%20%20%20%20pluginLatlngpopup%3A%20true%2C%0A%20%20%20%20%20%20%20%20%20%20%20%20%20%20%20%20%20%20%20%20pluginFullscreen%3A%20true%2C%0A%20%20%20%20%20%20%20%20%20%20%20%20%20%20%20%20%20%20%20%20pluginDraw%3A%20false%2C%0A%20%20%20%20%20%20%20%20%20%20%20%20%20%20%20%20%20%20%20%20DrawExport%3A%20true%2C%0A%20%20%20%20%20%20%20%20%20%20%20%20%20%20%20%20%20%20%20%20pluginMinimap%3A%20false%2C%0A%20%20%20%20%20%20%20%20%20%20%20%20%20%20%20%20%20%20%20%20pluginLayercontrol%3A%20false%2C%0A%20%20%20%20%20%20%20%20%20%20%20%20%20%20%20%20%7D%0A%20%20%20%20%20%20%20%20%20%20%20%20%29%3B%0A%0A%20%20%20%20%20%20%20%20%20%20%20%20%0A%0A%20%20%20%20%20%20%20%20%0A%20%20%20%20%0A%20%20%20%20%20%20%20%20%20%20%20%20var%20tile_layer_a8baee44e0244d29b6152bd5a6161c8f%20%3D%20L.tileLayer%28%0A%20%20%20%20%20%20%20%20%20%20%20%20%20%20%20%20%22https%3A//%7Bs%7D.tile.openstreetmap.org/%7Bz%7D/%7Bx%7D/%7By%7D.png%22%2C%0A%20%20%20%20%20%20%20%20%20%20%20%20%20%20%20%20%7B%22attribution%22%3A%20%22Data%20by%20%5Cu0026copy%3B%20%5Cu003ca%20href%3D%5C%22http%3A//openstreetmap.org%5C%22%5Cu003eOpenStreetMap%5Cu003c/a%5Cu003e%2C%20under%20%5Cu003ca%20href%3D%5C%22http%3A//www.openstreetmap.org/copyright%5C%22%5Cu003eODbL%5Cu003c/a%5Cu003e.%22%2C%20%22detectRetina%22%3A%20false%2C%20%22maxNativeZoom%22%3A%2018%2C%20%22maxZoom%22%3A%2018%2C%20%22minZoom%22%3A%200%2C%20%22noWrap%22%3A%20false%2C%20%22opacity%22%3A%201%2C%20%22subdomains%22%3A%20%22abc%22%2C%20%22tms%22%3A%20false%7D%0A%20%20%20%20%20%20%20%20%20%20%20%20%29.addTo%28map_b09121abcc9f4e9898d4a64f8bce18f5%29%3B%0A%20%20%20%20%20%20%20%20%0A%20%20%20%20%0A%20%20%20%20%20%20%20%20%20%20%20%20var%20tile_layer_c0a10254db7c4e37aa2089c3acd992ea%20%3D%20L.tileLayer%28%0A%20%20%20%20%20%20%20%20%20%20%20%20%20%20%20%20%22https%3A//mt1.google.com/vt/lyrs%3Dm%5Cu0026x%3D%7Bx%7D%5Cu0026y%3D%7By%7D%5Cu0026z%3D%7Bz%7D%22%2C%0A%20%20%20%20%20%20%20%20%20%20%20%20%20%20%20%20%7B%22attribution%22%3A%20%22Google%22%2C%20%22detectRetina%22%3A%20false%2C%20%22maxNativeZoom%22%3A%2018%2C%20%22maxZoom%22%3A%2018%2C%20%22minZoom%22%3A%200%2C%20%22noWrap%22%3A%20false%2C%20%22opacity%22%3A%201%2C%20%22subdomains%22%3A%20%22abc%22%2C%20%22tms%22%3A%20false%7D%0A%20%20%20%20%20%20%20%20%20%20%20%20%29.addTo%28map_b09121abcc9f4e9898d4a64f8bce18f5%29%3B%0A%20%20%20%20%20%20%20%20%0A%20%20%20%20%0A%20%20%20%20%20%20%20%20%20%20%20%20%20%20%20%20var%20lat_lng_popup_d2a90de4d17641808adb9e35b1aa9fdb%20%3D%20L.popup%28%29%3B%0A%20%20%20%20%20%20%20%20%20%20%20%20%20%20%20%20function%20latLngPop%28e%29%20%7B%0A%20%20%20%20%20%20%20%20%20%20%20%20%20%20%20%20%20%20%20%20lat_lng_popup_d2a90de4d17641808adb9e35b1aa9fdb%0A%20%20%20%20%20%20%20%20%20%20%20%20%20%20%20%20%20%20%20%20%20%20%20%20.setLatLng%28e.latlng%29%0A%20%20%20%20%20%20%20%20%20%20%20%20%20%20%20%20%20%20%20%20%20%20%20%20.setContent%28%22Latitude%3A%20%22%20%2B%20e.latlng.lat.toFixed%284%29%20%2B%0A%20%20%20%20%20%20%20%20%20%20%20%20%20%20%20%20%20%20%20%20%20%20%20%20%20%20%20%20%20%20%20%20%20%20%20%20%22%3Cbr%3ELongitude%3A%20%22%20%2B%20e.latlng.lng.toFixed%284%29%29%0A%20%20%20%20%20%20%20%20%20%20%20%20%20%20%20%20%20%20%20%20%20%20%20%20.openOn%28map_b09121abcc9f4e9898d4a64f8bce18f5%29%3B%0A%20%20%20%20%20%20%20%20%20%20%20%20%20%20%20%20%20%20%20%20%7D%0A%20%20%20%20%20%20%20%20%20%20%20%20%20%20%20%20map_b09121abcc9f4e9898d4a64f8bce18f5.on%28%27click%27%2C%20latLngPop%29%3B%0A%20%20%20%20%20%20%20%20%20%20%20%20%0A%20%20%20%20%0A%20%20%20%20%20%20%20%20%20%20%20%20L.control.fullscreen%28%0A%20%20%20%20%20%20%20%20%20%20%20%20%20%20%20%20%7B%22forceSeparateButton%22%3A%20false%2C%20%22position%22%3A%20%22topleft%22%2C%20%22title%22%3A%20%22Full%20Screen%22%2C%20%22titleCancel%22%3A%20%22Exit%20Full%20Screen%22%7D%0A%20%20%20%20%20%20%20%20%20%20%20%20%29.addTo%28map_b09121abcc9f4e9898d4a64f8bce18f5%29%3B%0A%20%20%20%20%20%20%20%20%0A%20%20%20%20%0A%20%20%20%20%20%20%20%20%20%20%20%20map_b09121abcc9f4e9898d4a64f8bce18f5.fitBounds%28%0A%20%20%20%20%20%20%20%20%20%20%20%20%20%20%20%20%5B%5B32.3%2C%20-90.9%5D%2C%20%5B32.3%2C%20-90.9%5D%5D%2C%0A%20%20%20%20%20%20%20%20%20%20%20%20%20%20%20%20%7B%22maxZoom%22%3A%2011%7D%0A%20%20%20%20%20%20%20%20%20%20%20%20%29%3B%0A%20%20%20%20%20%20%20%20%0A%20%20%20%20%0A%20%20%20%20%20%20%20%20%20%20%20%20var%20layer_control_b9d8d474fb974ffeac47a5cc27d6ae16%20%3D%20%7B%0A%20%20%20%20%20%20%20%20%20%20%20%20%20%20%20%20base_layers%20%3A%20%7B%0A%20%20%20%20%20%20%20%20%20%20%20%20%20%20%20%20%20%20%20%20%22openstreetmap%22%20%3A%20tile_layer_a8baee44e0244d29b6152bd5a6161c8f%2C%0A%20%20%20%20%20%20%20%20%20%20%20%20%20%20%20%20%7D%2C%0A%20%20%20%20%20%20%20%20%20%20%20%20%20%20%20%20overlays%20%3A%20%20%7B%0A%20%20%20%20%20%20%20%20%20%20%20%20%20%20%20%20%20%20%20%20%22Google%20Maps%22%20%3A%20tile_layer_c0a10254db7c4e37aa2089c3acd992ea%2C%0A%20%20%20%20%20%20%20%20%20%20%20%20%20%20%20%20%7D%2C%0A%20%20%20%20%20%20%20%20%20%20%20%20%7D%3B%0A%20%20%20%20%20%20%20%20%20%20%20%20L.control.layers%28%0A%20%20%20%20%20%20%20%20%20%20%20%20%20%20%20%20layer_control_b9d8d474fb974ffeac47a5cc27d6ae16.base_layers%2C%0A%20%20%20%20%20%20%20%20%20%20%20%20%20%20%20%20layer_control_b9d8d474fb974ffeac47a5cc27d6ae16.overlays%2C%0A%20%20%20%20%20%20%20%20%20%20%20%20%20%20%20%20%7B%22autoZIndex%22%3A%20true%2C%20%22collapsed%22%3A%20true%2C%20%22position%22%3A%20%22topright%22%7D%0A%20%20%20%20%20%20%20%20%20%20%20%20%29.addTo%28map_b09121abcc9f4e9898d4a64f8bce18f5%29%3B%0A%20%20%20%20%20%20%20%20%0A%3C/script%3E onload=\"this.contentDocument.open();this.contentDocument.write(    decodeURIComponent(this.getAttribute('data-html')));this.contentDocument.close();\" allowfullscreen webkitallowfullscreen mozallowfullscreen></iframe></div></div>"
      ],
      "text/plain": [
       "<geemap.eefolium.Map at 0x152ac5bb0>"
      ]
     },
     "execution_count": 4,
     "metadata": {},
     "output_type": "execute_result"
    }
   ],
   "source": [
    "Map = geemap.Map(center=[32.3,-90.9], zoom = 11)\n",
    "Map"
   ]
  },
  {
   "cell_type": "code",
   "execution_count": 5,
   "id": "e66192dc",
   "metadata": {},
   "outputs": [],
   "source": [
    "#roi = ee.Geometry.Point([32.3,-90.9])\n",
    "roi = ee.Geometry.Point([-114.762293, 36.06462])"
   ]
  },
  {
   "cell_type": "code",
   "execution_count": null,
   "id": "27b0d81a",
   "metadata": {},
   "outputs": [],
   "source": []
  },
  {
   "cell_type": "code",
   "execution_count": 6,
   "id": "62dc9b7b",
   "metadata": {},
   "outputs": [
    {
     "name": "stdout",
     "output_type": "stream",
     "text": [
      "16\n",
      "['COPERNICUS/S2_SR/20190317T182109_20190317T182716_T11SPA', 'COPERNICUS/S2_SR/20190317T182109_20190317T182716_T11SPV', 'COPERNICUS/S2_SR/20190317T182109_20190317T182716_T11SQA', 'COPERNICUS/S2_SR/20190317T182109_20190317T182716_T11SQV', 'COPERNICUS/S2_SR/20190421T181921_20190421T183135_T11SQV', 'COPERNICUS/S2_SR/20190426T181929_20190426T183110_T11SPA', 'COPERNICUS/S2_SR/20190426T181929_20190426T183110_T11SPV', 'COPERNICUS/S2_SR/20190426T181929_20190426T183110_T11SQA', 'COPERNICUS/S2_SR/20190426T181929_20190426T183110_T11SQV', 'COPERNICUS/S2_SR/20190501T181921_20190501T183133_T11SPV', 'COPERNICUS/S2_SR/20190501T181921_20190501T183133_T11SQA', 'COPERNICUS/S2_SR/20190501T181921_20190501T183133_T11SQV', 'COPERNICUS/S2_SR/20190506T181929_20190506T182811_T11SPA', 'COPERNICUS/S2_SR/20190506T181929_20190506T182811_T11SPV', 'COPERNICUS/S2_SR/20190506T181929_20190506T182811_T11SQA', 'COPERNICUS/S2_SR/20190506T181929_20190506T182811_T11SQV']\n"
     ]
    }
   ],
   "source": [
    "#set start date, end date, collect images from'COPERNICUS/S2_SR'\n",
    "\n",
    "start_date = '2019-03-16'\n",
    "end_date = '2019-05-17'\n",
    "#cloud_threshold = 0.1\n",
    "ndwi_threshold = 0\n",
    "\n",
    "images = (\n",
    "    ee.ImageCollection('COPERNICUS/S2_SR')\n",
    "    .filterBounds(roi)\n",
    "    .filterDate(start_date, end_date)\n",
    "    .filter(ee.Filter.lt('CLOUDY_PIXEL_PERCENTAGE', 10)\n",
    "    \n",
    "))\n",
    "\n",
    "print(images.size().getInfo())\n",
    "print(images.aggregate_array('system:id').getInfo())"
   ]
  },
  {
   "cell_type": "code",
   "execution_count": 7,
   "id": "bcb384fc",
   "metadata": {},
   "outputs": [
    {
     "name": "stdout",
     "output_type": "stream",
     "text": [
      "['2019-03-17', '2019-03-17', '2019-03-17', '2019-03-17', '2019-04-21', '2019-04-26', '2019-04-26', '2019-04-26', '2019-04-26', '2019-05-01', '2019-05-01', '2019-05-01', '2019-05-06', '2019-05-06', '2019-05-06', '2019-05-06']\n"
     ]
    }
   ],
   "source": [
    "dates = images.aggregate_array('system:time_start').map(\n",
    "    lambda d: ee.Date(d).format('YYYY-MM-dd')\n",
    ")\n",
    "print(dates.getInfo())"
   ]
  },
  {
   "cell_type": "code",
   "execution_count": 8,
   "id": "b7faa66f",
   "metadata": {},
   "outputs": [],
   "source": [
    "def extract_water(img):\n",
    "\n",
    "    ndwi_image = img.normalizedDifference(['B3', 'B8'])\n",
    "    water_image = ndwi_image.gt(ndwi_threshold)\n",
    "    return water_image\n"
   ]
  },
  {
   "cell_type": "code",
   "execution_count": 9,
   "id": "2445d7ec",
   "metadata": {},
   "outputs": [],
   "source": [
    "ndwi_images = images.map(extract_water)"
   ]
  },
  {
   "cell_type": "code",
   "execution_count": 10,
   "id": "3093af64",
   "metadata": {},
   "outputs": [
    {
     "data": {
      "text/html": [
       "<div style=\"width:100%;\"><div style=\"position:relative;width:100%;height:0;padding-bottom:60%;\"><span style=\"color:#565656\">Make this Notebook Trusted to load map: File -> Trust Notebook</span><iframe src=\"about:blank\" style=\"position:absolute;width:100%;height:100%;left:0;top:0;border:none !important;\" data-html=%3C%21DOCTYPE%20html%3E%0A%3Chead%3E%20%20%20%20%0A%20%20%20%20%3Cmeta%20http-equiv%3D%22content-type%22%20content%3D%22text/html%3B%20charset%3DUTF-8%22%20/%3E%0A%20%20%20%20%0A%20%20%20%20%20%20%20%20%3Cscript%3E%0A%20%20%20%20%20%20%20%20%20%20%20%20L_NO_TOUCH%20%3D%20false%3B%0A%20%20%20%20%20%20%20%20%20%20%20%20L_DISABLE_3D%20%3D%20false%3B%0A%20%20%20%20%20%20%20%20%3C/script%3E%0A%20%20%20%20%0A%20%20%20%20%3Cstyle%3Ehtml%2C%20body%20%7Bwidth%3A%20100%25%3Bheight%3A%20100%25%3Bmargin%3A%200%3Bpadding%3A%200%3B%7D%3C/style%3E%0A%20%20%20%20%3Cstyle%3E%23map%20%7Bposition%3Aabsolute%3Btop%3A0%3Bbottom%3A0%3Bright%3A0%3Bleft%3A0%3B%7D%3C/style%3E%0A%20%20%20%20%3Cscript%20src%3D%22https%3A//cdn.jsdelivr.net/npm/leaflet%401.6.0/dist/leaflet.js%22%3E%3C/script%3E%0A%20%20%20%20%3Cscript%20src%3D%22https%3A//code.jquery.com/jquery-1.12.4.min.js%22%3E%3C/script%3E%0A%20%20%20%20%3Cscript%20src%3D%22https%3A//maxcdn.bootstrapcdn.com/bootstrap/3.2.0/js/bootstrap.min.js%22%3E%3C/script%3E%0A%20%20%20%20%3Cscript%20src%3D%22https%3A//cdnjs.cloudflare.com/ajax/libs/Leaflet.awesome-markers/2.0.2/leaflet.awesome-markers.js%22%3E%3C/script%3E%0A%20%20%20%20%3Clink%20rel%3D%22stylesheet%22%20href%3D%22https%3A//cdn.jsdelivr.net/npm/leaflet%401.6.0/dist/leaflet.css%22/%3E%0A%20%20%20%20%3Clink%20rel%3D%22stylesheet%22%20href%3D%22https%3A//maxcdn.bootstrapcdn.com/bootstrap/3.2.0/css/bootstrap.min.css%22/%3E%0A%20%20%20%20%3Clink%20rel%3D%22stylesheet%22%20href%3D%22https%3A//maxcdn.bootstrapcdn.com/bootstrap/3.2.0/css/bootstrap-theme.min.css%22/%3E%0A%20%20%20%20%3Clink%20rel%3D%22stylesheet%22%20href%3D%22https%3A//maxcdn.bootstrapcdn.com/font-awesome/4.6.3/css/font-awesome.min.css%22/%3E%0A%20%20%20%20%3Clink%20rel%3D%22stylesheet%22%20href%3D%22https%3A//cdnjs.cloudflare.com/ajax/libs/Leaflet.awesome-markers/2.0.2/leaflet.awesome-markers.css%22/%3E%0A%20%20%20%20%3Clink%20rel%3D%22stylesheet%22%20href%3D%22https%3A//cdn.jsdelivr.net/gh/python-visualization/folium/folium/templates/leaflet.awesome.rotate.min.css%22/%3E%0A%20%20%20%20%0A%20%20%20%20%20%20%20%20%20%20%20%20%3Cmeta%20name%3D%22viewport%22%20content%3D%22width%3Ddevice-width%2C%0A%20%20%20%20%20%20%20%20%20%20%20%20%20%20%20%20initial-scale%3D1.0%2C%20maximum-scale%3D1.0%2C%20user-scalable%3Dno%22%20/%3E%0A%20%20%20%20%20%20%20%20%20%20%20%20%3Cstyle%3E%0A%20%20%20%20%20%20%20%20%20%20%20%20%20%20%20%20%23map_b09121abcc9f4e9898d4a64f8bce18f5%20%7B%0A%20%20%20%20%20%20%20%20%20%20%20%20%20%20%20%20%20%20%20%20position%3A%20relative%3B%0A%20%20%20%20%20%20%20%20%20%20%20%20%20%20%20%20%20%20%20%20width%3A%20100.0%25%3B%0A%20%20%20%20%20%20%20%20%20%20%20%20%20%20%20%20%20%20%20%20height%3A%20100.0%25%3B%0A%20%20%20%20%20%20%20%20%20%20%20%20%20%20%20%20%20%20%20%20left%3A%200.0%25%3B%0A%20%20%20%20%20%20%20%20%20%20%20%20%20%20%20%20%20%20%20%20top%3A%200.0%25%3B%0A%20%20%20%20%20%20%20%20%20%20%20%20%20%20%20%20%7D%0A%20%20%20%20%20%20%20%20%20%20%20%20%3C/style%3E%0A%20%20%20%20%20%20%20%20%0A%20%20%20%20%3Cscript%20src%3D%22https%3A//cdnjs.cloudflare.com/ajax/libs/leaflet.fullscreen/1.4.2/Control.FullScreen.min.js%22%3E%3C/script%3E%0A%20%20%20%20%3Clink%20rel%3D%22stylesheet%22%20href%3D%22https%3A//cdnjs.cloudflare.com/ajax/libs/leaflet.fullscreen/1.4.2/Control.FullScreen.min.css%22/%3E%0A%3C/head%3E%0A%3Cbody%3E%20%20%20%20%0A%20%20%20%20%0A%20%20%20%20%20%20%20%20%20%20%20%20%3Cdiv%20class%3D%22folium-map%22%20id%3D%22map_b09121abcc9f4e9898d4a64f8bce18f5%22%20%3E%3C/div%3E%0A%20%20%20%20%20%20%20%20%0A%3C/body%3E%0A%3Cscript%3E%20%20%20%20%0A%20%20%20%20%0A%20%20%20%20%20%20%20%20%20%20%20%20var%20map_b09121abcc9f4e9898d4a64f8bce18f5%20%3D%20L.map%28%0A%20%20%20%20%20%20%20%20%20%20%20%20%20%20%20%20%22map_b09121abcc9f4e9898d4a64f8bce18f5%22%2C%0A%20%20%20%20%20%20%20%20%20%20%20%20%20%20%20%20%7B%0A%20%20%20%20%20%20%20%20%20%20%20%20%20%20%20%20%20%20%20%20center%3A%20%5B32.3%2C%20-90.9%5D%2C%0A%20%20%20%20%20%20%20%20%20%20%20%20%20%20%20%20%20%20%20%20crs%3A%20L.CRS.EPSG3857%2C%0A%20%20%20%20%20%20%20%20%20%20%20%20%20%20%20%20%20%20%20%20zoom%3A%2011%2C%0A%20%20%20%20%20%20%20%20%20%20%20%20%20%20%20%20%20%20%20%20zoomControl%3A%20true%2C%0A%20%20%20%20%20%20%20%20%20%20%20%20%20%20%20%20%20%20%20%20preferCanvas%3A%20false%2C%0A%20%20%20%20%20%20%20%20%20%20%20%20%20%20%20%20%20%20%20%20eeInitialize%3A%20true%2C%0A%20%20%20%20%20%20%20%20%20%20%20%20%20%20%20%20%20%20%20%20addGoogleMap%3A%20true%2C%0A%20%20%20%20%20%20%20%20%20%20%20%20%20%20%20%20%20%20%20%20pluginLatlngpopup%3A%20true%2C%0A%20%20%20%20%20%20%20%20%20%20%20%20%20%20%20%20%20%20%20%20pluginFullscreen%3A%20true%2C%0A%20%20%20%20%20%20%20%20%20%20%20%20%20%20%20%20%20%20%20%20pluginDraw%3A%20false%2C%0A%20%20%20%20%20%20%20%20%20%20%20%20%20%20%20%20%20%20%20%20DrawExport%3A%20true%2C%0A%20%20%20%20%20%20%20%20%20%20%20%20%20%20%20%20%20%20%20%20pluginMinimap%3A%20false%2C%0A%20%20%20%20%20%20%20%20%20%20%20%20%20%20%20%20%20%20%20%20pluginLayercontrol%3A%20false%2C%0A%20%20%20%20%20%20%20%20%20%20%20%20%20%20%20%20%7D%0A%20%20%20%20%20%20%20%20%20%20%20%20%29%3B%0A%0A%20%20%20%20%20%20%20%20%20%20%20%20%0A%0A%20%20%20%20%20%20%20%20%0A%20%20%20%20%0A%20%20%20%20%20%20%20%20%20%20%20%20var%20tile_layer_a8baee44e0244d29b6152bd5a6161c8f%20%3D%20L.tileLayer%28%0A%20%20%20%20%20%20%20%20%20%20%20%20%20%20%20%20%22https%3A//%7Bs%7D.tile.openstreetmap.org/%7Bz%7D/%7Bx%7D/%7By%7D.png%22%2C%0A%20%20%20%20%20%20%20%20%20%20%20%20%20%20%20%20%7B%22attribution%22%3A%20%22Data%20by%20%5Cu0026copy%3B%20%5Cu003ca%20href%3D%5C%22http%3A//openstreetmap.org%5C%22%5Cu003eOpenStreetMap%5Cu003c/a%5Cu003e%2C%20under%20%5Cu003ca%20href%3D%5C%22http%3A//www.openstreetmap.org/copyright%5C%22%5Cu003eODbL%5Cu003c/a%5Cu003e.%22%2C%20%22detectRetina%22%3A%20false%2C%20%22maxNativeZoom%22%3A%2018%2C%20%22maxZoom%22%3A%2018%2C%20%22minZoom%22%3A%200%2C%20%22noWrap%22%3A%20false%2C%20%22opacity%22%3A%201%2C%20%22subdomains%22%3A%20%22abc%22%2C%20%22tms%22%3A%20false%7D%0A%20%20%20%20%20%20%20%20%20%20%20%20%29.addTo%28map_b09121abcc9f4e9898d4a64f8bce18f5%29%3B%0A%20%20%20%20%20%20%20%20%0A%20%20%20%20%0A%20%20%20%20%20%20%20%20%20%20%20%20var%20tile_layer_c0a10254db7c4e37aa2089c3acd992ea%20%3D%20L.tileLayer%28%0A%20%20%20%20%20%20%20%20%20%20%20%20%20%20%20%20%22https%3A//mt1.google.com/vt/lyrs%3Dm%5Cu0026x%3D%7Bx%7D%5Cu0026y%3D%7By%7D%5Cu0026z%3D%7Bz%7D%22%2C%0A%20%20%20%20%20%20%20%20%20%20%20%20%20%20%20%20%7B%22attribution%22%3A%20%22Google%22%2C%20%22detectRetina%22%3A%20false%2C%20%22maxNativeZoom%22%3A%2018%2C%20%22maxZoom%22%3A%2018%2C%20%22minZoom%22%3A%200%2C%20%22noWrap%22%3A%20false%2C%20%22opacity%22%3A%201%2C%20%22subdomains%22%3A%20%22abc%22%2C%20%22tms%22%3A%20false%7D%0A%20%20%20%20%20%20%20%20%20%20%20%20%29.addTo%28map_b09121abcc9f4e9898d4a64f8bce18f5%29%3B%0A%20%20%20%20%20%20%20%20%0A%20%20%20%20%0A%20%20%20%20%20%20%20%20%20%20%20%20%20%20%20%20var%20lat_lng_popup_d2a90de4d17641808adb9e35b1aa9fdb%20%3D%20L.popup%28%29%3B%0A%20%20%20%20%20%20%20%20%20%20%20%20%20%20%20%20function%20latLngPop%28e%29%20%7B%0A%20%20%20%20%20%20%20%20%20%20%20%20%20%20%20%20%20%20%20%20lat_lng_popup_d2a90de4d17641808adb9e35b1aa9fdb%0A%20%20%20%20%20%20%20%20%20%20%20%20%20%20%20%20%20%20%20%20%20%20%20%20.setLatLng%28e.latlng%29%0A%20%20%20%20%20%20%20%20%20%20%20%20%20%20%20%20%20%20%20%20%20%20%20%20.setContent%28%22Latitude%3A%20%22%20%2B%20e.latlng.lat.toFixed%284%29%20%2B%0A%20%20%20%20%20%20%20%20%20%20%20%20%20%20%20%20%20%20%20%20%20%20%20%20%20%20%20%20%20%20%20%20%20%20%20%20%22%3Cbr%3ELongitude%3A%20%22%20%2B%20e.latlng.lng.toFixed%284%29%29%0A%20%20%20%20%20%20%20%20%20%20%20%20%20%20%20%20%20%20%20%20%20%20%20%20.openOn%28map_b09121abcc9f4e9898d4a64f8bce18f5%29%3B%0A%20%20%20%20%20%20%20%20%20%20%20%20%20%20%20%20%20%20%20%20%7D%0A%20%20%20%20%20%20%20%20%20%20%20%20%20%20%20%20map_b09121abcc9f4e9898d4a64f8bce18f5.on%28%27click%27%2C%20latLngPop%29%3B%0A%20%20%20%20%20%20%20%20%20%20%20%20%0A%20%20%20%20%0A%20%20%20%20%20%20%20%20%20%20%20%20L.control.fullscreen%28%0A%20%20%20%20%20%20%20%20%20%20%20%20%20%20%20%20%7B%22forceSeparateButton%22%3A%20false%2C%20%22position%22%3A%20%22topleft%22%2C%20%22title%22%3A%20%22Full%20Screen%22%2C%20%22titleCancel%22%3A%20%22Exit%20Full%20Screen%22%7D%0A%20%20%20%20%20%20%20%20%20%20%20%20%29.addTo%28map_b09121abcc9f4e9898d4a64f8bce18f5%29%3B%0A%20%20%20%20%20%20%20%20%0A%20%20%20%20%0A%20%20%20%20%20%20%20%20%20%20%20%20map_b09121abcc9f4e9898d4a64f8bce18f5.fitBounds%28%0A%20%20%20%20%20%20%20%20%20%20%20%20%20%20%20%20%5B%5B32.3%2C%20-90.9%5D%2C%20%5B32.3%2C%20-90.9%5D%5D%2C%0A%20%20%20%20%20%20%20%20%20%20%20%20%20%20%20%20%7B%22maxZoom%22%3A%2011%7D%0A%20%20%20%20%20%20%20%20%20%20%20%20%29%3B%0A%20%20%20%20%20%20%20%20%0A%20%20%20%20%0A%20%20%20%20%20%20%20%20%20%20%20%20var%20layer_control_b9d8d474fb974ffeac47a5cc27d6ae16%20%3D%20%7B%0A%20%20%20%20%20%20%20%20%20%20%20%20%20%20%20%20base_layers%20%3A%20%7B%0A%20%20%20%20%20%20%20%20%20%20%20%20%20%20%20%20%20%20%20%20%22openstreetmap%22%20%3A%20tile_layer_a8baee44e0244d29b6152bd5a6161c8f%2C%0A%20%20%20%20%20%20%20%20%20%20%20%20%20%20%20%20%7D%2C%0A%20%20%20%20%20%20%20%20%20%20%20%20%20%20%20%20overlays%20%3A%20%20%7B%0A%20%20%20%20%20%20%20%20%20%20%20%20%20%20%20%20%20%20%20%20%22Google%20Maps%22%20%3A%20tile_layer_c0a10254db7c4e37aa2089c3acd992ea%2C%0A%20%20%20%20%20%20%20%20%20%20%20%20%20%20%20%20%20%20%20%20%22First%20NDWI%22%20%3A%20tile_layer_0916a20aa5f9482c9f549210c77dc11b%2C%0A%20%20%20%20%20%20%20%20%20%20%20%20%20%20%20%20%7D%2C%0A%20%20%20%20%20%20%20%20%20%20%20%20%7D%3B%0A%20%20%20%20%20%20%20%20%20%20%20%20L.control.layers%28%0A%20%20%20%20%20%20%20%20%20%20%20%20%20%20%20%20layer_control_b9d8d474fb974ffeac47a5cc27d6ae16.base_layers%2C%0A%20%20%20%20%20%20%20%20%20%20%20%20%20%20%20%20layer_control_b9d8d474fb974ffeac47a5cc27d6ae16.overlays%2C%0A%20%20%20%20%20%20%20%20%20%20%20%20%20%20%20%20%7B%22autoZIndex%22%3A%20true%2C%20%22collapsed%22%3A%20true%2C%20%22position%22%3A%20%22topright%22%7D%0A%20%20%20%20%20%20%20%20%20%20%20%20%29.addTo%28map_b09121abcc9f4e9898d4a64f8bce18f5%29%3B%0A%20%20%20%20%20%20%20%20%0A%20%20%20%20%0A%20%20%20%20%20%20%20%20%20%20%20%20var%20tile_layer_0916a20aa5f9482c9f549210c77dc11b%20%3D%20L.tileLayer%28%0A%20%20%20%20%20%20%20%20%20%20%20%20%20%20%20%20%22https%3A//earthengine.googleapis.com/v1alpha/projects/earthengine-legacy/maps/cf82c9ba351f7de067d539e39986e617-4b69570080987ba6c06dc742251c708e/tiles/%7Bz%7D/%7Bx%7D/%7By%7D%22%2C%0A%20%20%20%20%20%20%20%20%20%20%20%20%20%20%20%20%7B%22attribution%22%3A%20%22Google%20Earth%20Engine%22%2C%20%22detectRetina%22%3A%20false%2C%20%22maxNativeZoom%22%3A%2018%2C%20%22maxZoom%22%3A%2018%2C%20%22minZoom%22%3A%200%2C%20%22noWrap%22%3A%20false%2C%20%22opacity%22%3A%201.0%2C%20%22subdomains%22%3A%20%22abc%22%2C%20%22tms%22%3A%20false%7D%0A%20%20%20%20%20%20%20%20%20%20%20%20%29.addTo%28map_b09121abcc9f4e9898d4a64f8bce18f5%29%3B%0A%20%20%20%20%20%20%20%20%0A%3C/script%3E onload=\"this.contentDocument.open();this.contentDocument.write(    decodeURIComponent(this.getAttribute('data-html')));this.contentDocument.close();\" allowfullscreen webkitallowfullscreen mozallowfullscreen></iframe></div></div>"
      ],
      "text/plain": [
       "<geemap.eefolium.Map at 0x152ac5bb0>"
      ]
     },
     "execution_count": 10,
     "metadata": {},
     "output_type": "execute_result"
    }
   ],
   "source": [
    "first_ndwi_image = ee.Image(ndwi_images.toList(ndwi_images.size()).get(0)).selfMask()\n",
    "Map.addLayer(first_ndwi_image, {'palette': 'blue'}, 'First NDWI')\n",
    "Map"
   ]
  },
  {
   "cell_type": "code",
   "execution_count": 11,
   "id": "9d1ebfe5",
   "metadata": {},
   "outputs": [],
   "source": [
    "def ras_to_vec(img):\n",
    "    vec = img.selfMask().reduceToVectors(scale=30, maxPixels=60000000)\n",
    "    vec = vec.filterBounds(roi)\n",
    "    return vec.set({'area': vec.geometry().area(1).divide(1e6).round()})"
   ]
  },
  {
   "cell_type": "code",
   "execution_count": 12,
   "id": "453dab9b",
   "metadata": {},
   "outputs": [
    {
     "data": {
      "text/plain": [
       "<ee.imagecollection.ImageCollection at 0x152b558e0>"
      ]
     },
     "execution_count": 12,
     "metadata": {},
     "output_type": "execute_result"
    }
   ],
   "source": [
    "ndwi_vectors = ndwi_images.map(ras_to_vec)\n",
    "ndwi_vectors"
   ]
  },
  {
   "cell_type": "code",
   "execution_count": 13,
   "id": "7484f1ab",
   "metadata": {},
   "outputs": [
    {
     "name": "stdout",
     "output_type": "stream",
     "text": [
      "[41, 52, 279, 66, 52, 83, 84, 279, 66, 84, 76, 65, 83, 84, 76, 65]\n"
     ]
    }
   ],
   "source": [
    "areas = ndwi_vectors.aggregate_array('area')\n",
    "print(areas.getInfo())"
   ]
  },
  {
   "cell_type": "code",
   "execution_count": null,
   "id": "53375787",
   "metadata": {},
   "outputs": [],
   "source": []
  }
 ],
 "metadata": {
  "kernelspec": {
   "display_name": "Python 3 (ipykernel)",
   "language": "python",
   "name": "python3"
  },
  "language_info": {
   "codemirror_mode": {
    "name": "ipython",
    "version": 3
   },
   "file_extension": ".py",
   "mimetype": "text/x-python",
   "name": "python",
   "nbconvert_exporter": "python",
   "pygments_lexer": "ipython3",
   "version": "3.8.12"
  }
 },
 "nbformat": 4,
 "nbformat_minor": 5
}
