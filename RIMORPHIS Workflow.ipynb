{
 "cells": [
  {
   "cell_type": "markdown",
   "id": "1e697ba6",
   "metadata": {},
   "source": [
    "# RIMORPHIS Workflow"
   ]
  },
  {
   "cell_type": "markdown",
   "id": "3fa18b74",
   "metadata": {},
   "source": [
    "To run this workflow, you must sign up for [Google Earth Engine](https://signup.earthengine.google.com/#!/), and enter an authentication code to initialize it. "
   ]
  },
  {
   "cell_type": "code",
   "execution_count": 1,
   "id": "0e922781",
   "metadata": {},
   "outputs": [
    {
     "name": "stdout",
     "output_type": "stream",
     "text": [
      "Requirement already satisfied: geemap in /Users/avrasaslow/miniconda3/envs/earth-analytics-python/lib/python3.8/site-packages (0.13.1)\n",
      "Requirement already satisfied: pyshp>=2.1.3 in /Users/avrasaslow/miniconda3/envs/earth-analytics-python/lib/python3.8/site-packages (from geemap) (2.1.3)\n",
      "Requirement already satisfied: python-box in /Users/avrasaslow/miniconda3/envs/earth-analytics-python/lib/python3.8/site-packages (from geemap) (6.0.2)\n",
      "Requirement already satisfied: whiteboxgui>=0.6.0 in /Users/avrasaslow/miniconda3/envs/earth-analytics-python/lib/python3.8/site-packages (from geemap) (0.7.0)\n",
      "Requirement already satisfied: pandas in /Users/avrasaslow/miniconda3/envs/earth-analytics-python/lib/python3.8/site-packages (from geemap) (1.3.3)\n",
      "Requirement already satisfied: ipyevents in /Users/avrasaslow/miniconda3/envs/earth-analytics-python/lib/python3.8/site-packages (from geemap) (2.0.1)\n",
      "Requirement already satisfied: ipyfilechooser>=0.6.0 in /Users/avrasaslow/miniconda3/envs/earth-analytics-python/lib/python3.8/site-packages (from geemap) (0.6.0)\n",
      "Requirement already satisfied: xyzservices in /Users/avrasaslow/miniconda3/envs/earth-analytics-python/lib/python3.8/site-packages (from geemap) (2021.9.1)\n",
      "Requirement already satisfied: numpy in /Users/avrasaslow/miniconda3/envs/earth-analytics-python/lib/python3.8/site-packages (from geemap) (1.21.2)\n",
      "Requirement already satisfied: gdown in /Users/avrasaslow/miniconda3/envs/earth-analytics-python/lib/python3.8/site-packages (from geemap) (4.4.0)\n",
      "Requirement already satisfied: sankee in /Users/avrasaslow/miniconda3/envs/earth-analytics-python/lib/python3.8/site-packages (from geemap) (0.0.7)\n",
      "Requirement already satisfied: colour in /Users/avrasaslow/miniconda3/envs/earth-analytics-python/lib/python3.8/site-packages (from geemap) (0.1.5)\n",
      "Requirement already satisfied: pillow in /Users/avrasaslow/miniconda3/envs/earth-analytics-python/lib/python3.8/site-packages (from geemap) (8.3.2)\n",
      "Requirement already satisfied: ffmpeg-python in /Users/avrasaslow/miniconda3/envs/earth-analytics-python/lib/python3.8/site-packages (from geemap) (0.2.0)\n",
      "Requirement already satisfied: bqplot in /Users/avrasaslow/miniconda3/envs/earth-analytics-python/lib/python3.8/site-packages (from geemap) (0.12.33)\n",
      "Requirement already satisfied: geeadd>=0.5.1 in /Users/avrasaslow/miniconda3/envs/earth-analytics-python/lib/python3.8/site-packages (from geemap) (0.5.5)\n",
      "Requirement already satisfied: ipyleaflet>=0.14.0 in /Users/avrasaslow/miniconda3/envs/earth-analytics-python/lib/python3.8/site-packages (from geemap) (0.15.0)\n",
      "Requirement already satisfied: matplotlib in /Users/avrasaslow/miniconda3/envs/earth-analytics-python/lib/python3.8/site-packages (from geemap) (3.4.3)\n",
      "Requirement already satisfied: earthengine-api>=0.1.230 in /Users/avrasaslow/miniconda3/envs/earth-analytics-python/lib/python3.8/site-packages (from geemap) (0.1.305)\n",
      "Requirement already satisfied: pycrs in /Users/avrasaslow/miniconda3/envs/earth-analytics-python/lib/python3.8/site-packages (from geemap) (1.0.2)\n",
      "Requirement already satisfied: folium>=0.11.0 in /Users/avrasaslow/miniconda3/envs/earth-analytics-python/lib/python3.8/site-packages (from geemap) (0.12.1.post1)\n",
      "Requirement already satisfied: ipytree in /Users/avrasaslow/miniconda3/envs/earth-analytics-python/lib/python3.8/site-packages (from geemap) (0.2.1)\n",
      "Requirement already satisfied: ee-extra>=0.0.10 in /Users/avrasaslow/miniconda3/envs/earth-analytics-python/lib/python3.8/site-packages (from geemap) (0.0.13)\n",
      "Requirement already satisfied: jupyterlab>=3 in /Users/avrasaslow/miniconda3/envs/earth-analytics-python/lib/python3.8/site-packages (from geemap) (3.1.17)\n",
      "Requirement already satisfied: geocoder in /Users/avrasaslow/miniconda3/envs/earth-analytics-python/lib/python3.8/site-packages (from geemap) (1.38.1)\n",
      "Requirement already satisfied: geojson in /Users/avrasaslow/miniconda3/envs/earth-analytics-python/lib/python3.8/site-packages (from geemap) (2.5.0)\n",
      "Requirement already satisfied: six in /Users/avrasaslow/miniconda3/envs/earth-analytics-python/lib/python3.8/site-packages (from earthengine-api>=0.1.230->geemap) (1.16.0)\n",
      "Requirement already satisfied: google-cloud-storage in /Users/avrasaslow/miniconda3/envs/earth-analytics-python/lib/python3.8/site-packages (from earthengine-api>=0.1.230->geemap) (2.2.1)\n",
      "Requirement already satisfied: google-auth>=1.4.1 in /Users/avrasaslow/miniconda3/envs/earth-analytics-python/lib/python3.8/site-packages (from earthengine-api>=0.1.230->geemap) (2.6.3)\n",
      "Requirement already satisfied: future in /Users/avrasaslow/miniconda3/envs/earth-analytics-python/lib/python3.8/site-packages (from earthengine-api>=0.1.230->geemap) (0.18.2)\n",
      "Requirement already satisfied: google-auth-httplib2>=0.0.3 in /Users/avrasaslow/miniconda3/envs/earth-analytics-python/lib/python3.8/site-packages (from earthengine-api>=0.1.230->geemap) (0.1.0)\n",
      "Requirement already satisfied: httplib2<1dev,>=0.9.2 in /Users/avrasaslow/miniconda3/envs/earth-analytics-python/lib/python3.8/site-packages (from earthengine-api>=0.1.230->geemap) (0.20.4)\n",
      "Requirement already satisfied: google-api-python-client<2,>=1.12.1 in /Users/avrasaslow/miniconda3/envs/earth-analytics-python/lib/python3.8/site-packages (from earthengine-api>=0.1.230->geemap) (1.12.11)\n",
      "Requirement already satisfied: httplib2shim in /Users/avrasaslow/miniconda3/envs/earth-analytics-python/lib/python3.8/site-packages (from earthengine-api>=0.1.230->geemap) (0.0.3)\n",
      "Requirement already satisfied: requests in /Users/avrasaslow/miniconda3/envs/earth-analytics-python/lib/python3.8/site-packages (from folium>=0.11.0->geemap) (2.25.1)\n",
      "Requirement already satisfied: jinja2>=2.9 in /Users/avrasaslow/miniconda3/envs/earth-analytics-python/lib/python3.8/site-packages (from folium>=0.11.0->geemap) (3.0.1)\n",
      "Requirement already satisfied: branca>=0.3.0 in /Users/avrasaslow/miniconda3/envs/earth-analytics-python/lib/python3.8/site-packages (from folium>=0.11.0->geemap) (0.4.2)\n",
      "Requirement already satisfied: logzero>=1.5.0 in /Users/avrasaslow/miniconda3/envs/earth-analytics-python/lib/python3.8/site-packages (from geeadd>=0.5.1->geemap) (1.7.0)\n",
      "Requirement already satisfied: beautifulsoup4>=4.9.0 in /Users/avrasaslow/miniconda3/envs/earth-analytics-python/lib/python3.8/site-packages (from geeadd>=0.5.1->geemap) (4.10.0)\n",
      "Requirement already satisfied: soupsieve>1.2 in /Users/avrasaslow/miniconda3/envs/earth-analytics-python/lib/python3.8/site-packages (from beautifulsoup4>=4.9.0->geeadd>=0.5.1->geemap) (2.0.1)\n",
      "Requirement already satisfied: google-api-core<3dev,>=1.21.0 in /Users/avrasaslow/miniconda3/envs/earth-analytics-python/lib/python3.8/site-packages (from google-api-python-client<2,>=1.12.1->earthengine-api>=0.1.230->geemap) (2.7.1)\n",
      "Requirement already satisfied: uritemplate<4dev,>=3.0.0 in /Users/avrasaslow/miniconda3/envs/earth-analytics-python/lib/python3.8/site-packages (from google-api-python-client<2,>=1.12.1->earthengine-api>=0.1.230->geemap) (3.0.1)\n",
      "Requirement already satisfied: protobuf>=3.12.0 in /Users/avrasaslow/miniconda3/envs/earth-analytics-python/lib/python3.8/site-packages (from google-api-core<3dev,>=1.21.0->google-api-python-client<2,>=1.12.1->earthengine-api>=0.1.230->geemap) (3.20.0)\n",
      "Requirement already satisfied: googleapis-common-protos<2.0dev,>=1.52.0 in /Users/avrasaslow/miniconda3/envs/earth-analytics-python/lib/python3.8/site-packages (from google-api-core<3dev,>=1.21.0->google-api-python-client<2,>=1.12.1->earthengine-api>=0.1.230->geemap) (1.56.0)\n",
      "Requirement already satisfied: pyasn1-modules>=0.2.1 in /Users/avrasaslow/miniconda3/envs/earth-analytics-python/lib/python3.8/site-packages (from google-auth>=1.4.1->earthengine-api>=0.1.230->geemap) (0.2.8)\n",
      "Requirement already satisfied: cachetools<6.0,>=2.0.0 in /Users/avrasaslow/miniconda3/envs/earth-analytics-python/lib/python3.8/site-packages (from google-auth>=1.4.1->earthengine-api>=0.1.230->geemap) (5.0.0)\n",
      "Requirement already satisfied: rsa<5,>=3.1.4 in /Users/avrasaslow/miniconda3/envs/earth-analytics-python/lib/python3.8/site-packages (from google-auth>=1.4.1->earthengine-api>=0.1.230->geemap) (4.8)\n",
      "Requirement already satisfied: pyparsing!=3.0.0,!=3.0.1,!=3.0.2,!=3.0.3,<4,>=2.4.2 in /Users/avrasaslow/miniconda3/envs/earth-analytics-python/lib/python3.8/site-packages (from httplib2<1dev,>=0.9.2->earthengine-api>=0.1.230->geemap) (2.4.7)\n",
      "Requirement already satisfied: ipywidgets in /Users/avrasaslow/miniconda3/envs/earth-analytics-python/lib/python3.8/site-packages (from ipyfilechooser>=0.6.0->geemap) (7.6.5)\n",
      "Requirement already satisfied: traittypes<3,>=0.2.1 in /Users/avrasaslow/miniconda3/envs/earth-analytics-python/lib/python3.8/site-packages (from ipyleaflet>=0.14.0->geemap) (0.2.1)\n",
      "Requirement already satisfied: ipykernel>=4.5.1 in /Users/avrasaslow/miniconda3/envs/earth-analytics-python/lib/python3.8/site-packages (from ipywidgets->ipyfilechooser>=0.6.0->geemap) (6.4.1)\n",
      "Requirement already satisfied: jupyterlab-widgets>=1.0.0 in /Users/avrasaslow/miniconda3/envs/earth-analytics-python/lib/python3.8/site-packages (from ipywidgets->ipyfilechooser>=0.6.0->geemap) (1.0.2)\n",
      "Requirement already satisfied: widgetsnbextension~=3.5.0 in /Users/avrasaslow/miniconda3/envs/earth-analytics-python/lib/python3.8/site-packages (from ipywidgets->ipyfilechooser>=0.6.0->geemap) (3.5.1)\n",
      "Requirement already satisfied: ipython>=4.0.0 in /Users/avrasaslow/miniconda3/envs/earth-analytics-python/lib/python3.8/site-packages (from ipywidgets->ipyfilechooser>=0.6.0->geemap) (7.28.0)\n",
      "Requirement already satisfied: nbformat>=4.2.0 in /Users/avrasaslow/miniconda3/envs/earth-analytics-python/lib/python3.8/site-packages (from ipywidgets->ipyfilechooser>=0.6.0->geemap) (5.1.3)\n",
      "Requirement already satisfied: ipython-genutils~=0.2.0 in /Users/avrasaslow/miniconda3/envs/earth-analytics-python/lib/python3.8/site-packages (from ipywidgets->ipyfilechooser>=0.6.0->geemap) (0.2.0)\n",
      "Requirement already satisfied: traitlets>=4.3.1 in /Users/avrasaslow/miniconda3/envs/earth-analytics-python/lib/python3.8/site-packages (from ipywidgets->ipyfilechooser>=0.6.0->geemap) (4.3.3)\n"
     ]
    },
    {
     "name": "stdout",
     "output_type": "stream",
     "text": [
      "Requirement already satisfied: jupyter-client<8.0 in /Users/avrasaslow/miniconda3/envs/earth-analytics-python/lib/python3.8/site-packages (from ipykernel>=4.5.1->ipywidgets->ipyfilechooser>=0.6.0->geemap) (7.0.6)\n",
      "Requirement already satisfied: tornado<7.0,>=4.2 in /Users/avrasaslow/miniconda3/envs/earth-analytics-python/lib/python3.8/site-packages (from ipykernel>=4.5.1->ipywidgets->ipyfilechooser>=0.6.0->geemap) (6.1)\n",
      "Requirement already satisfied: debugpy<2.0,>=1.0.0 in /Users/avrasaslow/miniconda3/envs/earth-analytics-python/lib/python3.8/site-packages (from ipykernel>=4.5.1->ipywidgets->ipyfilechooser>=0.6.0->geemap) (1.4.1)\n",
      "Requirement already satisfied: matplotlib-inline<0.2.0,>=0.1.0 in /Users/avrasaslow/miniconda3/envs/earth-analytics-python/lib/python3.8/site-packages (from ipykernel>=4.5.1->ipywidgets->ipyfilechooser>=0.6.0->geemap) (0.1.3)\n",
      "Requirement already satisfied: appnope in /Users/avrasaslow/miniconda3/envs/earth-analytics-python/lib/python3.8/site-packages (from ipykernel>=4.5.1->ipywidgets->ipyfilechooser>=0.6.0->geemap) (0.1.2)\n",
      "Requirement already satisfied: jedi>=0.16 in /Users/avrasaslow/miniconda3/envs/earth-analytics-python/lib/python3.8/site-packages (from ipython>=4.0.0->ipywidgets->ipyfilechooser>=0.6.0->geemap) (0.18.0)\n",
      "Requirement already satisfied: decorator in /Users/avrasaslow/miniconda3/envs/earth-analytics-python/lib/python3.8/site-packages (from ipython>=4.0.0->ipywidgets->ipyfilechooser>=0.6.0->geemap) (5.1.0)\n",
      "Requirement already satisfied: pygments in /Users/avrasaslow/miniconda3/envs/earth-analytics-python/lib/python3.8/site-packages (from ipython>=4.0.0->ipywidgets->ipyfilechooser>=0.6.0->geemap) (2.10.0)\n",
      "Requirement already satisfied: pexpect>4.3 in /Users/avrasaslow/miniconda3/envs/earth-analytics-python/lib/python3.8/site-packages (from ipython>=4.0.0->ipywidgets->ipyfilechooser>=0.6.0->geemap) (4.8.0)\n",
      "Requirement already satisfied: setuptools>=18.5 in /Users/avrasaslow/miniconda3/envs/earth-analytics-python/lib/python3.8/site-packages (from ipython>=4.0.0->ipywidgets->ipyfilechooser>=0.6.0->geemap) (58.2.0)\n",
      "Requirement already satisfied: backcall in /Users/avrasaslow/miniconda3/envs/earth-analytics-python/lib/python3.8/site-packages (from ipython>=4.0.0->ipywidgets->ipyfilechooser>=0.6.0->geemap) (0.2.0)\n",
      "Requirement already satisfied: prompt-toolkit!=3.0.0,!=3.0.1,<3.1.0,>=2.0.0 in /Users/avrasaslow/miniconda3/envs/earth-analytics-python/lib/python3.8/site-packages (from ipython>=4.0.0->ipywidgets->ipyfilechooser>=0.6.0->geemap) (3.0.20)\n",
      "Requirement already satisfied: pickleshare in /Users/avrasaslow/miniconda3/envs/earth-analytics-python/lib/python3.8/site-packages (from ipython>=4.0.0->ipywidgets->ipyfilechooser>=0.6.0->geemap) (0.7.5)\n",
      "Requirement already satisfied: parso<0.9.0,>=0.8.0 in /Users/avrasaslow/miniconda3/envs/earth-analytics-python/lib/python3.8/site-packages (from jedi>=0.16->ipython>=4.0.0->ipywidgets->ipyfilechooser>=0.6.0->geemap) (0.8.2)\n",
      "Requirement already satisfied: MarkupSafe>=2.0 in /Users/avrasaslow/miniconda3/envs/earth-analytics-python/lib/python3.8/site-packages (from jinja2>=2.9->folium>=0.11.0->geemap) (2.0.1)\n",
      "Requirement already satisfied: entrypoints in /Users/avrasaslow/miniconda3/envs/earth-analytics-python/lib/python3.8/site-packages (from jupyter-client<8.0->ipykernel>=4.5.1->ipywidgets->ipyfilechooser>=0.6.0->geemap) (0.3)\n",
      "Requirement already satisfied: pyzmq>=13 in /Users/avrasaslow/miniconda3/envs/earth-analytics-python/lib/python3.8/site-packages (from jupyter-client<8.0->ipykernel>=4.5.1->ipywidgets->ipyfilechooser>=0.6.0->geemap) (22.3.0)\n",
      "Requirement already satisfied: python-dateutil>=2.1 in /Users/avrasaslow/miniconda3/envs/earth-analytics-python/lib/python3.8/site-packages (from jupyter-client<8.0->ipykernel>=4.5.1->ipywidgets->ipyfilechooser>=0.6.0->geemap) (2.8.0)\n",
      "Requirement already satisfied: jupyter-core>=4.6.0 in /Users/avrasaslow/miniconda3/envs/earth-analytics-python/lib/python3.8/site-packages (from jupyter-client<8.0->ipykernel>=4.5.1->ipywidgets->ipyfilechooser>=0.6.0->geemap) (4.8.1)\n",
      "Requirement already satisfied: nest-asyncio>=1.5 in /Users/avrasaslow/miniconda3/envs/earth-analytics-python/lib/python3.8/site-packages (from jupyter-client<8.0->ipykernel>=4.5.1->ipywidgets->ipyfilechooser>=0.6.0->geemap) (1.5.1)\n",
      "Requirement already satisfied: jupyterlab-server~=2.3 in /Users/avrasaslow/miniconda3/envs/earth-analytics-python/lib/python3.8/site-packages (from jupyterlab>=3->geemap) (2.8.2)\n",
      "Requirement already satisfied: packaging in /Users/avrasaslow/miniconda3/envs/earth-analytics-python/lib/python3.8/site-packages (from jupyterlab>=3->geemap) (21.0)\n",
      "Requirement already satisfied: jupyter-server~=1.4 in /Users/avrasaslow/miniconda3/envs/earth-analytics-python/lib/python3.8/site-packages (from jupyterlab>=3->geemap) (1.11.1)\n",
      "Requirement already satisfied: nbclassic~=0.2 in /Users/avrasaslow/miniconda3/envs/earth-analytics-python/lib/python3.8/site-packages (from jupyterlab>=3->geemap) (0.3.2)\n",
      "Requirement already satisfied: terminado>=0.8.3 in /Users/avrasaslow/miniconda3/envs/earth-analytics-python/lib/python3.8/site-packages (from jupyter-server~=1.4->jupyterlab>=3->geemap) (0.12.1)\n",
      "Requirement already satisfied: Send2Trash in /Users/avrasaslow/miniconda3/envs/earth-analytics-python/lib/python3.8/site-packages (from jupyter-server~=1.4->jupyterlab>=3->geemap) (1.8.0)\n",
      "Requirement already satisfied: anyio<4,>=3.1.0 in /Users/avrasaslow/miniconda3/envs/earth-analytics-python/lib/python3.8/site-packages (from jupyter-server~=1.4->jupyterlab>=3->geemap) (3.3.2)\n",
      "Requirement already satisfied: requests-unixsocket in /Users/avrasaslow/miniconda3/envs/earth-analytics-python/lib/python3.8/site-packages (from jupyter-server~=1.4->jupyterlab>=3->geemap) (0.2.0)\n",
      "Requirement already satisfied: nbconvert in /Users/avrasaslow/miniconda3/envs/earth-analytics-python/lib/python3.8/site-packages (from jupyter-server~=1.4->jupyterlab>=3->geemap) (5.6.1)\n",
      "Requirement already satisfied: websocket-client in /Users/avrasaslow/miniconda3/envs/earth-analytics-python/lib/python3.8/site-packages (from jupyter-server~=1.4->jupyterlab>=3->geemap) (0.57.0)\n",
      "Requirement already satisfied: prometheus-client in /Users/avrasaslow/miniconda3/envs/earth-analytics-python/lib/python3.8/site-packages (from jupyter-server~=1.4->jupyterlab>=3->geemap) (0.11.0)\n",
      "Requirement already satisfied: argon2-cffi in /Users/avrasaslow/miniconda3/envs/earth-analytics-python/lib/python3.8/site-packages (from jupyter-server~=1.4->jupyterlab>=3->geemap) (20.1.0)\n",
      "Requirement already satisfied: idna>=2.8 in /Users/avrasaslow/miniconda3/envs/earth-analytics-python/lib/python3.8/site-packages (from anyio<4,>=3.1.0->jupyter-server~=1.4->jupyterlab>=3->geemap) (2.10)\n",
      "Requirement already satisfied: sniffio>=1.1 in /Users/avrasaslow/miniconda3/envs/earth-analytics-python/lib/python3.8/site-packages (from anyio<4,>=3.1.0->jupyter-server~=1.4->jupyterlab>=3->geemap) (1.2.0)\n",
      "Requirement already satisfied: json5 in /Users/avrasaslow/miniconda3/envs/earth-analytics-python/lib/python3.8/site-packages (from jupyterlab-server~=2.3->jupyterlab>=3->geemap) (0.9.5)\n",
      "Requirement already satisfied: babel in /Users/avrasaslow/miniconda3/envs/earth-analytics-python/lib/python3.8/site-packages (from jupyterlab-server~=2.3->jupyterlab>=3->geemap) (2.9.1)\n",
      "Requirement already satisfied: jsonschema>=3.0.1 in /Users/avrasaslow/miniconda3/envs/earth-analytics-python/lib/python3.8/site-packages (from jupyterlab-server~=2.3->jupyterlab>=3->geemap) (4.0.1)\n",
      "Requirement already satisfied: attrs>=17.4.0 in /Users/avrasaslow/miniconda3/envs/earth-analytics-python/lib/python3.8/site-packages (from jsonschema>=3.0.1->jupyterlab-server~=2.3->jupyterlab>=3->geemap) (21.2.0)\n",
      "Requirement already satisfied: pyrsistent!=0.17.0,!=0.17.1,!=0.17.2,>=0.14.0 in /Users/avrasaslow/miniconda3/envs/earth-analytics-python/lib/python3.8/site-packages (from jsonschema>=3.0.1->jupyterlab-server~=2.3->jupyterlab>=3->geemap) (0.17.3)\n",
      "Requirement already satisfied: notebook<7 in /Users/avrasaslow/miniconda3/envs/earth-analytics-python/lib/python3.8/site-packages (from nbclassic~=0.2->jupyterlab>=3->geemap) (6.4.4)\n",
      "Requirement already satisfied: ptyprocess>=0.5 in /Users/avrasaslow/miniconda3/envs/earth-analytics-python/lib/python3.8/site-packages (from pexpect>4.3->ipython>=4.0.0->ipywidgets->ipyfilechooser>=0.6.0->geemap) (0.7.0)\n",
      "Requirement already satisfied: wcwidth in /Users/avrasaslow/miniconda3/envs/earth-analytics-python/lib/python3.8/site-packages (from prompt-toolkit!=3.0.0,!=3.0.1,<3.1.0,>=2.0.0->ipython>=4.0.0->ipywidgets->ipyfilechooser>=0.6.0->geemap) (0.2.5)\n"
     ]
    },
    {
     "name": "stdout",
     "output_type": "stream",
     "text": [
      "Requirement already satisfied: pyasn1<0.5.0,>=0.4.6 in /Users/avrasaslow/miniconda3/envs/earth-analytics-python/lib/python3.8/site-packages (from pyasn1-modules>=0.2.1->google-auth>=1.4.1->earthengine-api>=0.1.230->geemap) (0.4.8)\n",
      "Requirement already satisfied: urllib3<1.27,>=1.21.1 in /Users/avrasaslow/miniconda3/envs/earth-analytics-python/lib/python3.8/site-packages (from requests->folium>=0.11.0->geemap) (1.25.11)\n",
      "Requirement already satisfied: chardet<5,>=3.0.2 in /Users/avrasaslow/miniconda3/envs/earth-analytics-python/lib/python3.8/site-packages (from requests->folium>=0.11.0->geemap) (4.0.0)\n",
      "Requirement already satisfied: certifi>=2017.4.17 in /Users/avrasaslow/miniconda3/envs/earth-analytics-python/lib/python3.8/site-packages (from requests->folium>=0.11.0->geemap) (2021.5.30)\n",
      "Requirement already satisfied: whitebox in /Users/avrasaslow/miniconda3/envs/earth-analytics-python/lib/python3.8/site-packages (from whiteboxgui>=0.6.0->geemap) (2.1.2)\n",
      "Requirement already satisfied: cffi>=1.0.0 in /Users/avrasaslow/miniconda3/envs/earth-analytics-python/lib/python3.8/site-packages (from argon2-cffi->jupyter-server~=1.4->jupyterlab>=3->geemap) (1.14.6)\n",
      "Requirement already satisfied: pycparser in /Users/avrasaslow/miniconda3/envs/earth-analytics-python/lib/python3.8/site-packages (from cffi>=1.0.0->argon2-cffi->jupyter-server~=1.4->jupyterlab>=3->geemap) (2.20)\n",
      "Requirement already satisfied: pytz>=2015.7 in /Users/avrasaslow/miniconda3/envs/earth-analytics-python/lib/python3.8/site-packages (from babel->jupyterlab-server~=2.3->jupyterlab>=3->geemap) (2021.3)\n",
      "Requirement already satisfied: tqdm in /Users/avrasaslow/miniconda3/envs/earth-analytics-python/lib/python3.8/site-packages (from gdown->geemap) (4.62.3)\n",
      "Requirement already satisfied: filelock in /Users/avrasaslow/miniconda3/envs/earth-analytics-python/lib/python3.8/site-packages (from gdown->geemap) (3.6.0)\n",
      "Requirement already satisfied: click in /Users/avrasaslow/miniconda3/envs/earth-analytics-python/lib/python3.8/site-packages (from geocoder->geemap) (7.1.2)\n",
      "Requirement already satisfied: ratelim in /Users/avrasaslow/miniconda3/envs/earth-analytics-python/lib/python3.8/site-packages (from geocoder->geemap) (0.1.6)\n",
      "Requirement already satisfied: google-cloud-core<3.0dev,>=1.6.0 in /Users/avrasaslow/miniconda3/envs/earth-analytics-python/lib/python3.8/site-packages (from google-cloud-storage->earthengine-api>=0.1.230->geemap) (2.3.0)\n",
      "Requirement already satisfied: google-resumable-media>=2.3.2 in /Users/avrasaslow/miniconda3/envs/earth-analytics-python/lib/python3.8/site-packages (from google-cloud-storage->earthengine-api>=0.1.230->geemap) (2.3.2)\n",
      "Requirement already satisfied: google-crc32c<2.0dev,>=1.0 in /Users/avrasaslow/miniconda3/envs/earth-analytics-python/lib/python3.8/site-packages (from google-resumable-media>=2.3.2->google-cloud-storage->earthengine-api>=0.1.230->geemap) (1.3.0)\n",
      "Requirement already satisfied: kiwisolver>=1.0.1 in /Users/avrasaslow/miniconda3/envs/earth-analytics-python/lib/python3.8/site-packages (from matplotlib->geemap) (1.3.2)\n",
      "Requirement already satisfied: cycler>=0.10 in /Users/avrasaslow/miniconda3/envs/earth-analytics-python/lib/python3.8/site-packages (from matplotlib->geemap) (0.10.0)\n",
      "Requirement already satisfied: mistune<2,>=0.8.1 in /Users/avrasaslow/miniconda3/envs/earth-analytics-python/lib/python3.8/site-packages (from nbconvert->jupyter-server~=1.4->jupyterlab>=3->geemap) (0.8.4)\n",
      "Requirement already satisfied: testpath in /Users/avrasaslow/miniconda3/envs/earth-analytics-python/lib/python3.8/site-packages (from nbconvert->jupyter-server~=1.4->jupyterlab>=3->geemap) (0.5.0)\n",
      "Requirement already satisfied: defusedxml in /Users/avrasaslow/miniconda3/envs/earth-analytics-python/lib/python3.8/site-packages (from nbconvert->jupyter-server~=1.4->jupyterlab>=3->geemap) (0.7.1)\n",
      "Requirement already satisfied: pandocfilters>=1.4.1 in /Users/avrasaslow/miniconda3/envs/earth-analytics-python/lib/python3.8/site-packages (from nbconvert->jupyter-server~=1.4->jupyterlab>=3->geemap) (1.5.0)\n",
      "Requirement already satisfied: bleach in /Users/avrasaslow/miniconda3/envs/earth-analytics-python/lib/python3.8/site-packages (from nbconvert->jupyter-server~=1.4->jupyterlab>=3->geemap) (4.1.0)\n",
      "Requirement already satisfied: webencodings in /Users/avrasaslow/miniconda3/envs/earth-analytics-python/lib/python3.8/site-packages (from bleach->nbconvert->jupyter-server~=1.4->jupyterlab>=3->geemap) (0.5.1)\n",
      "Requirement already satisfied: PySocks!=1.5.7,>=1.5.6 in /Users/avrasaslow/miniconda3/envs/earth-analytics-python/lib/python3.8/site-packages (from requests->folium>=0.11.0->geemap) (1.7.1)\n",
      "Requirement already satisfied: plotly>=5.2.2 in /Users/avrasaslow/miniconda3/envs/earth-analytics-python/lib/python3.8/site-packages (from sankee->geemap) (5.3.1)\n",
      "Requirement already satisfied: tenacity>=6.2.0 in /Users/avrasaslow/miniconda3/envs/earth-analytics-python/lib/python3.8/site-packages (from plotly>=5.2.2->sankee->geemap) (8.0.1)\n"
     ]
    }
   ],
   "source": [
    "!pip install geemap"
   ]
  },
  {
   "cell_type": "markdown",
   "id": "ab503ac1",
   "metadata": {},
   "source": [
    "### Import Libraries\n"
   ]
  },
  {
   "cell_type": "code",
   "execution_count": 2,
   "id": "56012818",
   "metadata": {},
   "outputs": [],
   "source": [
    "from glob import glob\n",
    "import os\n",
    "\n",
    "import hydrofunctions as hf\n",
    "import earthpy as et\n",
    "import seaborn as sns\n",
    "import pandas as pd\n",
    "from matplotlib.dates import DateFormatter\n",
    "import matplotlib.dates as mdates\n",
    "import matplotlib.pyplot as plt\n",
    "import folium\n",
    "import matplotcheck.notebook as nb\n",
    "from matplotcheck.base import PlotTester\n",
    "import matplotcheck.autograde as ag\n",
    "import numpy as np\n",
    "\n",
    "\n",
    "# Installs geemap package\n",
    "import geemap.eefolium as geemap\n",
    "\n",
    "# We are adding this for you as there is a bug in hydrofunctions that\n",
    "# Turns off plotting\n",
    "%matplotlib inline\n",
    "\n",
    "# Prettier plotting with seaborn\n",
    "sns.set(font_scale=1.5, style=\"whitegrid\")\n",
    "\n",
    "# Authenticates and initializes Earth Engine\n",
    "import ee"
   ]
  },
  {
   "cell_type": "markdown",
   "id": "f934bd72",
   "metadata": {},
   "source": [
    "### Authenticate Google Earth Engine"
   ]
  },
  {
   "cell_type": "code",
   "execution_count": 3,
   "id": "1c430e92",
   "metadata": {
    "scrolled": false
   },
   "outputs": [
    {
     "data": {
      "text/html": [
       "<p>To authorize access needed by Earth Engine, open the following\n",
       "        URL in a web browser and follow the instructions:</p>\n",
       "        <p><a href=https://code.earthengine.google.com/client-auth?scopes=https%3A//www.googleapis.com/auth/earthengine%20https%3A//www.googleapis.com/auth/devstorage.full_control&request_id=-fZDRVulTir1VwvfRROLDlNkkr8kI481TIyr9DIpq74&tc=KaEiTlOnqvv2cDEiuf_1oNlEj0pbT44l9P7Iw0dP-uA&cc=elzokzWKRVLBFrWcf6j1EsWGBvcAbLea8ntB69n94_I>https://code.earthengine.google.com/client-auth?scopes=https%3A//www.googleapis.com/auth/earthengine%20https%3A//www.googleapis.com/auth/devstorage.full_control&request_id=-fZDRVulTir1VwvfRROLDlNkkr8kI481TIyr9DIpq74&tc=KaEiTlOnqvv2cDEiuf_1oNlEj0pbT44l9P7Iw0dP-uA&cc=elzokzWKRVLBFrWcf6j1EsWGBvcAbLea8ntB69n94_I</a></p>\n",
       "        <p>The authorization workflow will generate a code, which you\n",
       "        should paste in the box below</p>\n",
       "        "
      ],
      "text/plain": [
       "<IPython.core.display.HTML object>"
      ]
     },
     "metadata": {},
     "output_type": "display_data"
    },
    {
     "name": "stdout",
     "output_type": "stream",
     "text": [
      "Enter verification code: 4/1AX4XfWhLW7ZdsukPxbz0Dl6HQ7_LveVTaFijHrW0JY-B2dgASNDpw68BENw\n",
      "\n",
      "Successfully saved authorization token.\n"
     ]
    }
   ],
   "source": [
    "ee.Authenticate()\n",
    "ee.Initialize()  "
   ]
  },
  {
   "cell_type": "markdown",
   "id": "49a6e76b",
   "metadata": {},
   "source": [
    "# Overarching functions:\n",
    "- input river\n",
    "- input time series\n",
    "- feed both into GEE and NWIS"
   ]
  },
  {
   "cell_type": "markdown",
   "id": "4dee1486",
   "metadata": {},
   "source": [
    "# Site info for Vicksburg MS\n",
    "\n",
    "Specify the start and end time for time series as well as geographic region to process. This can be changed to river gages and time periods."
   ]
  },
  {
   "cell_type": "code",
   "execution_count": 4,
   "id": "2d93feb5",
   "metadata": {},
   "outputs": [],
   "source": [
    "#site number for NWIS gage\n",
    "site_no = ['07289000']\n",
    "\n",
    "#Coordinates for the bounds of a rectangle at Vicksburg\n",
    "xMin = -91.2\n",
    "yMin = 32\n",
    "xMax = -90.8\n",
    "yMax = 32.7\n",
    "\n",
    "wet_season_start = '2019-03-15'\n",
    "wet_season_end = '2019-05-01'\n",
    "\n",
    "dry_season_start = '2019-9-01'\n",
    "dry_season_end = '2019-10-01'"
   ]
  },
  {
   "cell_type": "markdown",
   "id": "8a8b72fb",
   "metadata": {},
   "source": [
    "# Google Earth Engine"
   ]
  },
  {
   "cell_type": "code",
   "execution_count": 5,
   "id": "21219ffe",
   "metadata": {},
   "outputs": [
    {
     "data": {
      "text/html": [
       "<div style=\"width:100%;\"><div style=\"position:relative;width:100%;height:0;padding-bottom:60%;\"><span style=\"color:#565656\">Make this Notebook Trusted to load map: File -> Trust Notebook</span><iframe src=\"about:blank\" style=\"position:absolute;width:100%;height:100%;left:0;top:0;border:none !important;\" data-html=%3C%21DOCTYPE%20html%3E%0A%3Chead%3E%20%20%20%20%0A%20%20%20%20%3Cmeta%20http-equiv%3D%22content-type%22%20content%3D%22text/html%3B%20charset%3DUTF-8%22%20/%3E%0A%20%20%20%20%0A%20%20%20%20%20%20%20%20%3Cscript%3E%0A%20%20%20%20%20%20%20%20%20%20%20%20L_NO_TOUCH%20%3D%20false%3B%0A%20%20%20%20%20%20%20%20%20%20%20%20L_DISABLE_3D%20%3D%20false%3B%0A%20%20%20%20%20%20%20%20%3C/script%3E%0A%20%20%20%20%0A%20%20%20%20%3Cstyle%3Ehtml%2C%20body%20%7Bwidth%3A%20100%25%3Bheight%3A%20100%25%3Bmargin%3A%200%3Bpadding%3A%200%3B%7D%3C/style%3E%0A%20%20%20%20%3Cstyle%3E%23map%20%7Bposition%3Aabsolute%3Btop%3A0%3Bbottom%3A0%3Bright%3A0%3Bleft%3A0%3B%7D%3C/style%3E%0A%20%20%20%20%3Cscript%20src%3D%22https%3A//cdn.jsdelivr.net/npm/leaflet%401.6.0/dist/leaflet.js%22%3E%3C/script%3E%0A%20%20%20%20%3Cscript%20src%3D%22https%3A//code.jquery.com/jquery-1.12.4.min.js%22%3E%3C/script%3E%0A%20%20%20%20%3Cscript%20src%3D%22https%3A//maxcdn.bootstrapcdn.com/bootstrap/3.2.0/js/bootstrap.min.js%22%3E%3C/script%3E%0A%20%20%20%20%3Cscript%20src%3D%22https%3A//cdnjs.cloudflare.com/ajax/libs/Leaflet.awesome-markers/2.0.2/leaflet.awesome-markers.js%22%3E%3C/script%3E%0A%20%20%20%20%3Clink%20rel%3D%22stylesheet%22%20href%3D%22https%3A//cdn.jsdelivr.net/npm/leaflet%401.6.0/dist/leaflet.css%22/%3E%0A%20%20%20%20%3Clink%20rel%3D%22stylesheet%22%20href%3D%22https%3A//maxcdn.bootstrapcdn.com/bootstrap/3.2.0/css/bootstrap.min.css%22/%3E%0A%20%20%20%20%3Clink%20rel%3D%22stylesheet%22%20href%3D%22https%3A//maxcdn.bootstrapcdn.com/bootstrap/3.2.0/css/bootstrap-theme.min.css%22/%3E%0A%20%20%20%20%3Clink%20rel%3D%22stylesheet%22%20href%3D%22https%3A//maxcdn.bootstrapcdn.com/font-awesome/4.6.3/css/font-awesome.min.css%22/%3E%0A%20%20%20%20%3Clink%20rel%3D%22stylesheet%22%20href%3D%22https%3A//cdnjs.cloudflare.com/ajax/libs/Leaflet.awesome-markers/2.0.2/leaflet.awesome-markers.css%22/%3E%0A%20%20%20%20%3Clink%20rel%3D%22stylesheet%22%20href%3D%22https%3A//cdn.jsdelivr.net/gh/python-visualization/folium/folium/templates/leaflet.awesome.rotate.min.css%22/%3E%0A%20%20%20%20%0A%20%20%20%20%20%20%20%20%20%20%20%20%3Cmeta%20name%3D%22viewport%22%20content%3D%22width%3Ddevice-width%2C%0A%20%20%20%20%20%20%20%20%20%20%20%20%20%20%20%20initial-scale%3D1.0%2C%20maximum-scale%3D1.0%2C%20user-scalable%3Dno%22%20/%3E%0A%20%20%20%20%20%20%20%20%20%20%20%20%3Cstyle%3E%0A%20%20%20%20%20%20%20%20%20%20%20%20%20%20%20%20%23map_0ef25cc172ab4895979b9969ddbb912b%20%7B%0A%20%20%20%20%20%20%20%20%20%20%20%20%20%20%20%20%20%20%20%20position%3A%20relative%3B%0A%20%20%20%20%20%20%20%20%20%20%20%20%20%20%20%20%20%20%20%20width%3A%20100.0%25%3B%0A%20%20%20%20%20%20%20%20%20%20%20%20%20%20%20%20%20%20%20%20height%3A%20100.0%25%3B%0A%20%20%20%20%20%20%20%20%20%20%20%20%20%20%20%20%20%20%20%20left%3A%200.0%25%3B%0A%20%20%20%20%20%20%20%20%20%20%20%20%20%20%20%20%20%20%20%20top%3A%200.0%25%3B%0A%20%20%20%20%20%20%20%20%20%20%20%20%20%20%20%20%7D%0A%20%20%20%20%20%20%20%20%20%20%20%20%3C/style%3E%0A%20%20%20%20%20%20%20%20%0A%20%20%20%20%3Cscript%20src%3D%22https%3A//cdnjs.cloudflare.com/ajax/libs/leaflet.fullscreen/1.4.2/Control.FullScreen.min.js%22%3E%3C/script%3E%0A%20%20%20%20%3Clink%20rel%3D%22stylesheet%22%20href%3D%22https%3A//cdnjs.cloudflare.com/ajax/libs/leaflet.fullscreen/1.4.2/Control.FullScreen.min.css%22/%3E%0A%3C/head%3E%0A%3Cbody%3E%20%20%20%20%0A%20%20%20%20%0A%20%20%20%20%20%20%20%20%20%20%20%20%3Cdiv%20class%3D%22folium-map%22%20id%3D%22map_0ef25cc172ab4895979b9969ddbb912b%22%20%3E%3C/div%3E%0A%20%20%20%20%20%20%20%20%0A%3C/body%3E%0A%3Cscript%3E%20%20%20%20%0A%20%20%20%20%0A%20%20%20%20%20%20%20%20%20%20%20%20var%20map_0ef25cc172ab4895979b9969ddbb912b%20%3D%20L.map%28%0A%20%20%20%20%20%20%20%20%20%20%20%20%20%20%20%20%22map_0ef25cc172ab4895979b9969ddbb912b%22%2C%0A%20%20%20%20%20%20%20%20%20%20%20%20%20%20%20%20%7B%0A%20%20%20%20%20%20%20%20%20%20%20%20%20%20%20%20%20%20%20%20center%3A%20%5B32.3%2C%20-90.9%5D%2C%0A%20%20%20%20%20%20%20%20%20%20%20%20%20%20%20%20%20%20%20%20crs%3A%20L.CRS.EPSG3857%2C%0A%20%20%20%20%20%20%20%20%20%20%20%20%20%20%20%20%20%20%20%20zoom%3A%2011%2C%0A%20%20%20%20%20%20%20%20%20%20%20%20%20%20%20%20%20%20%20%20zoomControl%3A%20true%2C%0A%20%20%20%20%20%20%20%20%20%20%20%20%20%20%20%20%20%20%20%20preferCanvas%3A%20false%2C%0A%20%20%20%20%20%20%20%20%20%20%20%20%20%20%20%20%20%20%20%20eeInitialize%3A%20true%2C%0A%20%20%20%20%20%20%20%20%20%20%20%20%20%20%20%20%20%20%20%20addGoogleMap%3A%20true%2C%0A%20%20%20%20%20%20%20%20%20%20%20%20%20%20%20%20%20%20%20%20pluginLatlngpopup%3A%20true%2C%0A%20%20%20%20%20%20%20%20%20%20%20%20%20%20%20%20%20%20%20%20pluginFullscreen%3A%20true%2C%0A%20%20%20%20%20%20%20%20%20%20%20%20%20%20%20%20%20%20%20%20pluginDraw%3A%20false%2C%0A%20%20%20%20%20%20%20%20%20%20%20%20%20%20%20%20%20%20%20%20DrawExport%3A%20true%2C%0A%20%20%20%20%20%20%20%20%20%20%20%20%20%20%20%20%20%20%20%20pluginMinimap%3A%20false%2C%0A%20%20%20%20%20%20%20%20%20%20%20%20%20%20%20%20%20%20%20%20pluginLayercontrol%3A%20false%2C%0A%20%20%20%20%20%20%20%20%20%20%20%20%20%20%20%20%7D%0A%20%20%20%20%20%20%20%20%20%20%20%20%29%3B%0A%0A%20%20%20%20%20%20%20%20%20%20%20%20%0A%0A%20%20%20%20%20%20%20%20%0A%20%20%20%20%0A%20%20%20%20%20%20%20%20%20%20%20%20var%20tile_layer_6829890b08d34769b686975cc488b20e%20%3D%20L.tileLayer%28%0A%20%20%20%20%20%20%20%20%20%20%20%20%20%20%20%20%22https%3A//%7Bs%7D.tile.openstreetmap.org/%7Bz%7D/%7Bx%7D/%7By%7D.png%22%2C%0A%20%20%20%20%20%20%20%20%20%20%20%20%20%20%20%20%7B%22attribution%22%3A%20%22Data%20by%20%5Cu0026copy%3B%20%5Cu003ca%20href%3D%5C%22http%3A//openstreetmap.org%5C%22%5Cu003eOpenStreetMap%5Cu003c/a%5Cu003e%2C%20under%20%5Cu003ca%20href%3D%5C%22http%3A//www.openstreetmap.org/copyright%5C%22%5Cu003eODbL%5Cu003c/a%5Cu003e.%22%2C%20%22detectRetina%22%3A%20false%2C%20%22maxNativeZoom%22%3A%2018%2C%20%22maxZoom%22%3A%2018%2C%20%22minZoom%22%3A%200%2C%20%22noWrap%22%3A%20false%2C%20%22opacity%22%3A%201%2C%20%22subdomains%22%3A%20%22abc%22%2C%20%22tms%22%3A%20false%7D%0A%20%20%20%20%20%20%20%20%20%20%20%20%29.addTo%28map_0ef25cc172ab4895979b9969ddbb912b%29%3B%0A%20%20%20%20%20%20%20%20%0A%20%20%20%20%0A%20%20%20%20%20%20%20%20%20%20%20%20var%20tile_layer_75c2b7caec9e4289a1d5638829767604%20%3D%20L.tileLayer%28%0A%20%20%20%20%20%20%20%20%20%20%20%20%20%20%20%20%22https%3A//mt1.google.com/vt/lyrs%3Dm%5Cu0026x%3D%7Bx%7D%5Cu0026y%3D%7By%7D%5Cu0026z%3D%7Bz%7D%22%2C%0A%20%20%20%20%20%20%20%20%20%20%20%20%20%20%20%20%7B%22attribution%22%3A%20%22Google%22%2C%20%22detectRetina%22%3A%20false%2C%20%22maxNativeZoom%22%3A%2018%2C%20%22maxZoom%22%3A%2018%2C%20%22minZoom%22%3A%200%2C%20%22noWrap%22%3A%20false%2C%20%22opacity%22%3A%201%2C%20%22subdomains%22%3A%20%22abc%22%2C%20%22tms%22%3A%20false%7D%0A%20%20%20%20%20%20%20%20%20%20%20%20%29.addTo%28map_0ef25cc172ab4895979b9969ddbb912b%29%3B%0A%20%20%20%20%20%20%20%20%0A%20%20%20%20%0A%20%20%20%20%20%20%20%20%20%20%20%20%20%20%20%20var%20lat_lng_popup_3da4ec3dc8e0480a9bbb7d7010cf0fc3%20%3D%20L.popup%28%29%3B%0A%20%20%20%20%20%20%20%20%20%20%20%20%20%20%20%20function%20latLngPop%28e%29%20%7B%0A%20%20%20%20%20%20%20%20%20%20%20%20%20%20%20%20%20%20%20%20lat_lng_popup_3da4ec3dc8e0480a9bbb7d7010cf0fc3%0A%20%20%20%20%20%20%20%20%20%20%20%20%20%20%20%20%20%20%20%20%20%20%20%20.setLatLng%28e.latlng%29%0A%20%20%20%20%20%20%20%20%20%20%20%20%20%20%20%20%20%20%20%20%20%20%20%20.setContent%28%22Latitude%3A%20%22%20%2B%20e.latlng.lat.toFixed%284%29%20%2B%0A%20%20%20%20%20%20%20%20%20%20%20%20%20%20%20%20%20%20%20%20%20%20%20%20%20%20%20%20%20%20%20%20%20%20%20%20%22%3Cbr%3ELongitude%3A%20%22%20%2B%20e.latlng.lng.toFixed%284%29%29%0A%20%20%20%20%20%20%20%20%20%20%20%20%20%20%20%20%20%20%20%20%20%20%20%20.openOn%28map_0ef25cc172ab4895979b9969ddbb912b%29%3B%0A%20%20%20%20%20%20%20%20%20%20%20%20%20%20%20%20%20%20%20%20%7D%0A%20%20%20%20%20%20%20%20%20%20%20%20%20%20%20%20map_0ef25cc172ab4895979b9969ddbb912b.on%28%27click%27%2C%20latLngPop%29%3B%0A%20%20%20%20%20%20%20%20%20%20%20%20%0A%20%20%20%20%0A%20%20%20%20%20%20%20%20%20%20%20%20L.control.fullscreen%28%0A%20%20%20%20%20%20%20%20%20%20%20%20%20%20%20%20%7B%22forceSeparateButton%22%3A%20false%2C%20%22position%22%3A%20%22topleft%22%2C%20%22title%22%3A%20%22Full%20Screen%22%2C%20%22titleCancel%22%3A%20%22Exit%20Full%20Screen%22%7D%0A%20%20%20%20%20%20%20%20%20%20%20%20%29.addTo%28map_0ef25cc172ab4895979b9969ddbb912b%29%3B%0A%20%20%20%20%20%20%20%20%0A%20%20%20%20%0A%20%20%20%20%20%20%20%20%20%20%20%20map_0ef25cc172ab4895979b9969ddbb912b.fitBounds%28%0A%20%20%20%20%20%20%20%20%20%20%20%20%20%20%20%20%5B%5B32.3%2C%20-90.9%5D%2C%20%5B32.3%2C%20-90.9%5D%5D%2C%0A%20%20%20%20%20%20%20%20%20%20%20%20%20%20%20%20%7B%22maxZoom%22%3A%2011%7D%0A%20%20%20%20%20%20%20%20%20%20%20%20%29%3B%0A%20%20%20%20%20%20%20%20%0A%20%20%20%20%0A%20%20%20%20%20%20%20%20%20%20%20%20var%20layer_control_c19e84086c48468e92288c9ac25dd1a5%20%3D%20%7B%0A%20%20%20%20%20%20%20%20%20%20%20%20%20%20%20%20base_layers%20%3A%20%7B%0A%20%20%20%20%20%20%20%20%20%20%20%20%20%20%20%20%20%20%20%20%22openstreetmap%22%20%3A%20tile_layer_6829890b08d34769b686975cc488b20e%2C%0A%20%20%20%20%20%20%20%20%20%20%20%20%20%20%20%20%7D%2C%0A%20%20%20%20%20%20%20%20%20%20%20%20%20%20%20%20overlays%20%3A%20%20%7B%0A%20%20%20%20%20%20%20%20%20%20%20%20%20%20%20%20%20%20%20%20%22Google%20Maps%22%20%3A%20tile_layer_75c2b7caec9e4289a1d5638829767604%2C%0A%20%20%20%20%20%20%20%20%20%20%20%20%20%20%20%20%7D%2C%0A%20%20%20%20%20%20%20%20%20%20%20%20%7D%3B%0A%20%20%20%20%20%20%20%20%20%20%20%20L.control.layers%28%0A%20%20%20%20%20%20%20%20%20%20%20%20%20%20%20%20layer_control_c19e84086c48468e92288c9ac25dd1a5.base_layers%2C%0A%20%20%20%20%20%20%20%20%20%20%20%20%20%20%20%20layer_control_c19e84086c48468e92288c9ac25dd1a5.overlays%2C%0A%20%20%20%20%20%20%20%20%20%20%20%20%20%20%20%20%7B%22autoZIndex%22%3A%20true%2C%20%22collapsed%22%3A%20true%2C%20%22position%22%3A%20%22topright%22%7D%0A%20%20%20%20%20%20%20%20%20%20%20%20%29.addTo%28map_0ef25cc172ab4895979b9969ddbb912b%29%3B%0A%20%20%20%20%20%20%20%20%0A%3C/script%3E onload=\"this.contentDocument.open();this.contentDocument.write(    decodeURIComponent(this.getAttribute('data-html')));this.contentDocument.close();\" allowfullscreen webkitallowfullscreen mozallowfullscreen></iframe></div></div>"
      ],
      "text/plain": [
       "<geemap.eefolium.Map at 0x7fbdc3b99790>"
      ]
     },
     "execution_count": 5,
     "metadata": {},
     "output_type": "execute_result"
    }
   ],
   "source": [
    "Map = geemap.Map(center=[32.3,-90.9], zoom= 11)\n",
    "Map"
   ]
  },
  {
   "cell_type": "markdown",
   "id": "4fe8ea4e",
   "metadata": {},
   "source": [
    "### GEE Script"
   ]
  },
  {
   "cell_type": "code",
   "execution_count": 6,
   "id": "6633b080",
   "metadata": {},
   "outputs": [],
   "source": [
    "# Import the Sentinel 2 collection as sentinel 2\n",
    "sentinel2 = ee.ImageCollection('COPERNICUS/S2_SR').filter(ee.Filter.lt('CLOUDY_PIXEL_PERCENTAGE', 10))\n",
    "\n",
    "rectangleGeoJSON = ee.Geometry.Rectangle(\n",
    "  [\n",
    "    [xMin, yMin],\n",
    "    [xMax, yMax]   # max x and y\n",
    "  ]\n",
    ")\n",
    "\n",
    "miss_bnds = ee.FeatureCollection([\n",
    "    ee.Feature(\n",
    "        rectangleGeoJSON,\n",
    "        {'name': 'Mississippi Vicksburg', 'fill': 1}),\n",
    "    ])\n",
    "\n",
    "dry_season = sentinel2.filterBounds(miss_bnds).filterDate(dry_season_start, dry_season_end).mosaic().clip(miss_bnds)\n",
    "\n",
    "wet_season = sentinel2.filterBounds(miss_bnds).filterDate(wet_season_start, wet_season_end).mosaic().clip(miss_bnds)\n",
    "\n",
    "\n",
    "# Palettes for Visualization\n",
    "trueColor_palette = {'bands': ['B4', 'B3', 'B2'], 'min': 0, 'max': 3000};\n",
    "waterPalette = ['red', 'yellow', 'green', 'blue'];\n",
    "#print(miss_bnds)\n"
   ]
  },
  {
   "cell_type": "markdown",
   "id": "6b9c08b3",
   "metadata": {},
   "source": [
    "### Display Earth Engine True Color Images layers in Dry Season"
   ]
  },
  {
   "cell_type": "code",
   "execution_count": 7,
   "id": "345fcc7a",
   "metadata": {
    "scrolled": true
   },
   "outputs": [
    {
     "data": {
      "text/html": [
       "<div style=\"width:100%;\"><div style=\"position:relative;width:100%;height:0;padding-bottom:60%;\"><span style=\"color:#565656\">Make this Notebook Trusted to load map: File -> Trust Notebook</span><iframe src=\"about:blank\" style=\"position:absolute;width:100%;height:100%;left:0;top:0;border:none !important;\" data-html=%3C%21DOCTYPE%20html%3E%0A%3Chead%3E%20%20%20%20%0A%20%20%20%20%3Cmeta%20http-equiv%3D%22content-type%22%20content%3D%22text/html%3B%20charset%3DUTF-8%22%20/%3E%0A%20%20%20%20%0A%20%20%20%20%20%20%20%20%3Cscript%3E%0A%20%20%20%20%20%20%20%20%20%20%20%20L_NO_TOUCH%20%3D%20false%3B%0A%20%20%20%20%20%20%20%20%20%20%20%20L_DISABLE_3D%20%3D%20false%3B%0A%20%20%20%20%20%20%20%20%3C/script%3E%0A%20%20%20%20%0A%20%20%20%20%3Cstyle%3Ehtml%2C%20body%20%7Bwidth%3A%20100%25%3Bheight%3A%20100%25%3Bmargin%3A%200%3Bpadding%3A%200%3B%7D%3C/style%3E%0A%20%20%20%20%3Cstyle%3E%23map%20%7Bposition%3Aabsolute%3Btop%3A0%3Bbottom%3A0%3Bright%3A0%3Bleft%3A0%3B%7D%3C/style%3E%0A%20%20%20%20%3Cscript%20src%3D%22https%3A//cdn.jsdelivr.net/npm/leaflet%401.6.0/dist/leaflet.js%22%3E%3C/script%3E%0A%20%20%20%20%3Cscript%20src%3D%22https%3A//code.jquery.com/jquery-1.12.4.min.js%22%3E%3C/script%3E%0A%20%20%20%20%3Cscript%20src%3D%22https%3A//maxcdn.bootstrapcdn.com/bootstrap/3.2.0/js/bootstrap.min.js%22%3E%3C/script%3E%0A%20%20%20%20%3Cscript%20src%3D%22https%3A//cdnjs.cloudflare.com/ajax/libs/Leaflet.awesome-markers/2.0.2/leaflet.awesome-markers.js%22%3E%3C/script%3E%0A%20%20%20%20%3Clink%20rel%3D%22stylesheet%22%20href%3D%22https%3A//cdn.jsdelivr.net/npm/leaflet%401.6.0/dist/leaflet.css%22/%3E%0A%20%20%20%20%3Clink%20rel%3D%22stylesheet%22%20href%3D%22https%3A//maxcdn.bootstrapcdn.com/bootstrap/3.2.0/css/bootstrap.min.css%22/%3E%0A%20%20%20%20%3Clink%20rel%3D%22stylesheet%22%20href%3D%22https%3A//maxcdn.bootstrapcdn.com/bootstrap/3.2.0/css/bootstrap-theme.min.css%22/%3E%0A%20%20%20%20%3Clink%20rel%3D%22stylesheet%22%20href%3D%22https%3A//maxcdn.bootstrapcdn.com/font-awesome/4.6.3/css/font-awesome.min.css%22/%3E%0A%20%20%20%20%3Clink%20rel%3D%22stylesheet%22%20href%3D%22https%3A//cdnjs.cloudflare.com/ajax/libs/Leaflet.awesome-markers/2.0.2/leaflet.awesome-markers.css%22/%3E%0A%20%20%20%20%3Clink%20rel%3D%22stylesheet%22%20href%3D%22https%3A//cdn.jsdelivr.net/gh/python-visualization/folium/folium/templates/leaflet.awesome.rotate.min.css%22/%3E%0A%20%20%20%20%0A%20%20%20%20%20%20%20%20%20%20%20%20%3Cmeta%20name%3D%22viewport%22%20content%3D%22width%3Ddevice-width%2C%0A%20%20%20%20%20%20%20%20%20%20%20%20%20%20%20%20initial-scale%3D1.0%2C%20maximum-scale%3D1.0%2C%20user-scalable%3Dno%22%20/%3E%0A%20%20%20%20%20%20%20%20%20%20%20%20%3Cstyle%3E%0A%20%20%20%20%20%20%20%20%20%20%20%20%20%20%20%20%23map_a09bf160669d4580bc0ff9afa01de23b%20%7B%0A%20%20%20%20%20%20%20%20%20%20%20%20%20%20%20%20%20%20%20%20position%3A%20relative%3B%0A%20%20%20%20%20%20%20%20%20%20%20%20%20%20%20%20%20%20%20%20width%3A%20100.0%25%3B%0A%20%20%20%20%20%20%20%20%20%20%20%20%20%20%20%20%20%20%20%20height%3A%20100.0%25%3B%0A%20%20%20%20%20%20%20%20%20%20%20%20%20%20%20%20%20%20%20%20left%3A%200.0%25%3B%0A%20%20%20%20%20%20%20%20%20%20%20%20%20%20%20%20%20%20%20%20top%3A%200.0%25%3B%0A%20%20%20%20%20%20%20%20%20%20%20%20%20%20%20%20%7D%0A%20%20%20%20%20%20%20%20%20%20%20%20%3C/style%3E%0A%20%20%20%20%20%20%20%20%0A%20%20%20%20%3Cscript%20src%3D%22https%3A//cdnjs.cloudflare.com/ajax/libs/leaflet.fullscreen/1.4.2/Control.FullScreen.min.js%22%3E%3C/script%3E%0A%20%20%20%20%3Clink%20rel%3D%22stylesheet%22%20href%3D%22https%3A//cdnjs.cloudflare.com/ajax/libs/leaflet.fullscreen/1.4.2/Control.FullScreen.min.css%22/%3E%0A%3C/head%3E%0A%3Cbody%3E%20%20%20%20%0A%20%20%20%20%0A%20%20%20%20%20%20%20%20%20%20%20%20%3Cdiv%20class%3D%22folium-map%22%20id%3D%22map_a09bf160669d4580bc0ff9afa01de23b%22%20%3E%3C/div%3E%0A%20%20%20%20%20%20%20%20%0A%3C/body%3E%0A%3Cscript%3E%20%20%20%20%0A%20%20%20%20%0A%20%20%20%20%20%20%20%20%20%20%20%20var%20map_a09bf160669d4580bc0ff9afa01de23b%20%3D%20L.map%28%0A%20%20%20%20%20%20%20%20%20%20%20%20%20%20%20%20%22map_a09bf160669d4580bc0ff9afa01de23b%22%2C%0A%20%20%20%20%20%20%20%20%20%20%20%20%20%20%20%20%7B%0A%20%20%20%20%20%20%20%20%20%20%20%20%20%20%20%20%20%20%20%20center%3A%20%5B32.3%2C%20-90.9%5D%2C%0A%20%20%20%20%20%20%20%20%20%20%20%20%20%20%20%20%20%20%20%20crs%3A%20L.CRS.EPSG3857%2C%0A%20%20%20%20%20%20%20%20%20%20%20%20%20%20%20%20%20%20%20%20zoom%3A%2012%2C%0A%20%20%20%20%20%20%20%20%20%20%20%20%20%20%20%20%20%20%20%20zoomControl%3A%20true%2C%0A%20%20%20%20%20%20%20%20%20%20%20%20%20%20%20%20%20%20%20%20preferCanvas%3A%20false%2C%0A%20%20%20%20%20%20%20%20%20%20%20%20%20%20%20%20%20%20%20%20eeInitialize%3A%20true%2C%0A%20%20%20%20%20%20%20%20%20%20%20%20%20%20%20%20%20%20%20%20addGoogleMap%3A%20true%2C%0A%20%20%20%20%20%20%20%20%20%20%20%20%20%20%20%20%20%20%20%20pluginLatlngpopup%3A%20true%2C%0A%20%20%20%20%20%20%20%20%20%20%20%20%20%20%20%20%20%20%20%20pluginFullscreen%3A%20true%2C%0A%20%20%20%20%20%20%20%20%20%20%20%20%20%20%20%20%20%20%20%20pluginDraw%3A%20false%2C%0A%20%20%20%20%20%20%20%20%20%20%20%20%20%20%20%20%20%20%20%20DrawExport%3A%20true%2C%0A%20%20%20%20%20%20%20%20%20%20%20%20%20%20%20%20%20%20%20%20pluginMinimap%3A%20false%2C%0A%20%20%20%20%20%20%20%20%20%20%20%20%20%20%20%20%20%20%20%20pluginLayercontrol%3A%20false%2C%0A%20%20%20%20%20%20%20%20%20%20%20%20%20%20%20%20%7D%0A%20%20%20%20%20%20%20%20%20%20%20%20%29%3B%0A%0A%20%20%20%20%20%20%20%20%20%20%20%20%0A%0A%20%20%20%20%20%20%20%20%0A%20%20%20%20%0A%20%20%20%20%20%20%20%20%20%20%20%20var%20tile_layer_b298886c752245089db798e819c77804%20%3D%20L.tileLayer%28%0A%20%20%20%20%20%20%20%20%20%20%20%20%20%20%20%20%22https%3A//%7Bs%7D.tile.openstreetmap.org/%7Bz%7D/%7Bx%7D/%7By%7D.png%22%2C%0A%20%20%20%20%20%20%20%20%20%20%20%20%20%20%20%20%7B%22attribution%22%3A%20%22Data%20by%20%5Cu0026copy%3B%20%5Cu003ca%20href%3D%5C%22http%3A//openstreetmap.org%5C%22%5Cu003eOpenStreetMap%5Cu003c/a%5Cu003e%2C%20under%20%5Cu003ca%20href%3D%5C%22http%3A//www.openstreetmap.org/copyright%5C%22%5Cu003eODbL%5Cu003c/a%5Cu003e.%22%2C%20%22detectRetina%22%3A%20false%2C%20%22maxNativeZoom%22%3A%2018%2C%20%22maxZoom%22%3A%2018%2C%20%22minZoom%22%3A%200%2C%20%22noWrap%22%3A%20false%2C%20%22opacity%22%3A%201%2C%20%22subdomains%22%3A%20%22abc%22%2C%20%22tms%22%3A%20false%7D%0A%20%20%20%20%20%20%20%20%20%20%20%20%29.addTo%28map_a09bf160669d4580bc0ff9afa01de23b%29%3B%0A%20%20%20%20%20%20%20%20%0A%20%20%20%20%0A%20%20%20%20%20%20%20%20%20%20%20%20var%20tile_layer_75c2b7caec9e4289a1d5638829767604%20%3D%20L.tileLayer%28%0A%20%20%20%20%20%20%20%20%20%20%20%20%20%20%20%20%22https%3A//mt1.google.com/vt/lyrs%3Dm%5Cu0026x%3D%7Bx%7D%5Cu0026y%3D%7By%7D%5Cu0026z%3D%7Bz%7D%22%2C%0A%20%20%20%20%20%20%20%20%20%20%20%20%20%20%20%20%7B%22attribution%22%3A%20%22Google%22%2C%20%22detectRetina%22%3A%20false%2C%20%22maxNativeZoom%22%3A%2018%2C%20%22maxZoom%22%3A%2018%2C%20%22minZoom%22%3A%200%2C%20%22noWrap%22%3A%20false%2C%20%22opacity%22%3A%201%2C%20%22subdomains%22%3A%20%22abc%22%2C%20%22tms%22%3A%20false%7D%0A%20%20%20%20%20%20%20%20%20%20%20%20%29.addTo%28map_a09bf160669d4580bc0ff9afa01de23b%29%3B%0A%20%20%20%20%20%20%20%20%0A%20%20%20%20%0A%20%20%20%20%20%20%20%20%20%20%20%20%20%20%20%20var%20lat_lng_popup_ee131d6599934229988f53ee87fd6e55%20%3D%20L.popup%28%29%3B%0A%20%20%20%20%20%20%20%20%20%20%20%20%20%20%20%20function%20latLngPop%28e%29%20%7B%0A%20%20%20%20%20%20%20%20%20%20%20%20%20%20%20%20%20%20%20%20lat_lng_popup_ee131d6599934229988f53ee87fd6e55%0A%20%20%20%20%20%20%20%20%20%20%20%20%20%20%20%20%20%20%20%20%20%20%20%20.setLatLng%28e.latlng%29%0A%20%20%20%20%20%20%20%20%20%20%20%20%20%20%20%20%20%20%20%20%20%20%20%20.setContent%28%22Latitude%3A%20%22%20%2B%20e.latlng.lat.toFixed%284%29%20%2B%0A%20%20%20%20%20%20%20%20%20%20%20%20%20%20%20%20%20%20%20%20%20%20%20%20%20%20%20%20%20%20%20%20%20%20%20%20%22%3Cbr%3ELongitude%3A%20%22%20%2B%20e.latlng.lng.toFixed%284%29%29%0A%20%20%20%20%20%20%20%20%20%20%20%20%20%20%20%20%20%20%20%20%20%20%20%20.openOn%28map_a09bf160669d4580bc0ff9afa01de23b%29%3B%0A%20%20%20%20%20%20%20%20%20%20%20%20%20%20%20%20%20%20%20%20%7D%0A%20%20%20%20%20%20%20%20%20%20%20%20%20%20%20%20map_a09bf160669d4580bc0ff9afa01de23b.on%28%27click%27%2C%20latLngPop%29%3B%0A%20%20%20%20%20%20%20%20%20%20%20%20%0A%20%20%20%20%0A%20%20%20%20%20%20%20%20%20%20%20%20L.control.fullscreen%28%0A%20%20%20%20%20%20%20%20%20%20%20%20%20%20%20%20%7B%22forceSeparateButton%22%3A%20false%2C%20%22position%22%3A%20%22topleft%22%2C%20%22title%22%3A%20%22Full%20Screen%22%2C%20%22titleCancel%22%3A%20%22Exit%20Full%20Screen%22%7D%0A%20%20%20%20%20%20%20%20%20%20%20%20%29.addTo%28map_a09bf160669d4580bc0ff9afa01de23b%29%3B%0A%20%20%20%20%20%20%20%20%0A%20%20%20%20%0A%20%20%20%20%20%20%20%20%20%20%20%20map_a09bf160669d4580bc0ff9afa01de23b.fitBounds%28%0A%20%20%20%20%20%20%20%20%20%20%20%20%20%20%20%20%5B%5B32.3%2C%20-90.9%5D%2C%20%5B32.3%2C%20-90.9%5D%5D%2C%0A%20%20%20%20%20%20%20%20%20%20%20%20%20%20%20%20%7B%22maxZoom%22%3A%2012%7D%0A%20%20%20%20%20%20%20%20%20%20%20%20%29%3B%0A%20%20%20%20%20%20%20%20%0A%20%20%20%20%0A%20%20%20%20%20%20%20%20%20%20%20%20var%20tile_layer_a3fb4966b0a04bb1b24976ce15cb8bb9%20%3D%20L.tileLayer%28%0A%20%20%20%20%20%20%20%20%20%20%20%20%20%20%20%20%22https%3A//earthengine.googleapis.com/v1alpha/projects/earthengine-legacy/maps/cddfba11ee85288f98a93008c4cd7c4e-9e7fe52b0025d911dff2b06645793f3a/tiles/%7Bz%7D/%7Bx%7D/%7By%7D%22%2C%0A%20%20%20%20%20%20%20%20%20%20%20%20%20%20%20%20%7B%22attribution%22%3A%20%22Google%20Earth%20Engine%22%2C%20%22detectRetina%22%3A%20false%2C%20%22maxNativeZoom%22%3A%2018%2C%20%22maxZoom%22%3A%2018%2C%20%22minZoom%22%3A%200%2C%20%22noWrap%22%3A%20false%2C%20%22opacity%22%3A%201.0%2C%20%22subdomains%22%3A%20%22abc%22%2C%20%22tms%22%3A%20false%7D%0A%20%20%20%20%20%20%20%20%20%20%20%20%29.addTo%28map_a09bf160669d4580bc0ff9afa01de23b%29%3B%0A%20%20%20%20%20%20%20%20%0A%20%20%20%20%0A%20%20%20%20%20%20%20%20%20%20%20%20var%20layer_control_52c78a3266eb4f68bfb09e9e998faf98%20%3D%20%7B%0A%20%20%20%20%20%20%20%20%20%20%20%20%20%20%20%20base_layers%20%3A%20%7B%0A%20%20%20%20%20%20%20%20%20%20%20%20%20%20%20%20%20%20%20%20%22openstreetmap%22%20%3A%20tile_layer_b298886c752245089db798e819c77804%2C%0A%20%20%20%20%20%20%20%20%20%20%20%20%20%20%20%20%7D%2C%0A%20%20%20%20%20%20%20%20%20%20%20%20%20%20%20%20overlays%20%3A%20%20%7B%0A%20%20%20%20%20%20%20%20%20%20%20%20%20%20%20%20%20%20%20%20%22Google%20Maps%22%20%3A%20tile_layer_75c2b7caec9e4289a1d5638829767604%2C%0A%20%20%20%20%20%20%20%20%20%20%20%20%20%20%20%20%20%20%20%20%22Layer%202019%20Dry%20season%20true%20color%22%20%3A%20tile_layer_a3fb4966b0a04bb1b24976ce15cb8bb9%2C%0A%20%20%20%20%20%20%20%20%20%20%20%20%20%20%20%20%7D%2C%0A%20%20%20%20%20%20%20%20%20%20%20%20%7D%3B%0A%20%20%20%20%20%20%20%20%20%20%20%20L.control.layers%28%0A%20%20%20%20%20%20%20%20%20%20%20%20%20%20%20%20layer_control_52c78a3266eb4f68bfb09e9e998faf98.base_layers%2C%0A%20%20%20%20%20%20%20%20%20%20%20%20%20%20%20%20layer_control_52c78a3266eb4f68bfb09e9e998faf98.overlays%2C%0A%20%20%20%20%20%20%20%20%20%20%20%20%20%20%20%20%7B%22autoZIndex%22%3A%20true%2C%20%22collapsed%22%3A%20true%2C%20%22position%22%3A%20%22topright%22%7D%0A%20%20%20%20%20%20%20%20%20%20%20%20%29.addTo%28map_a09bf160669d4580bc0ff9afa01de23b%29%3B%0A%20%20%20%20%20%20%20%20%0A%3C/script%3E onload=\"this.contentDocument.open();this.contentDocument.write(    decodeURIComponent(this.getAttribute('data-html')));this.contentDocument.close();\" allowfullscreen webkitallowfullscreen mozallowfullscreen></iframe></div></div>"
      ],
      "text/plain": [
       "<geemap.eefolium.Map at 0x7fbdc3c49550>"
      ]
     },
     "execution_count": 7,
     "metadata": {},
     "output_type": "execute_result"
    }
   ],
   "source": [
    "Map = geemap.Map(center=[32.3,-90.9], zoom= 12)\n",
    "Map.addLayer(dry_season, trueColor_palette, '2019 Dry season true color');\n",
    "Map.addLayerControl()\n",
    "Map"
   ]
  },
  {
   "cell_type": "markdown",
   "id": "08ab39c2",
   "metadata": {},
   "source": [
    "### Display Earth Engine True Color Images layers in Wet Season"
   ]
  },
  {
   "cell_type": "code",
   "execution_count": 8,
   "id": "1b9f1e5c",
   "metadata": {},
   "outputs": [
    {
     "data": {
      "text/html": [
       "<div style=\"width:100%;\"><div style=\"position:relative;width:100%;height:0;padding-bottom:60%;\"><span style=\"color:#565656\">Make this Notebook Trusted to load map: File -> Trust Notebook</span><iframe src=\"about:blank\" style=\"position:absolute;width:100%;height:100%;left:0;top:0;border:none !important;\" data-html=%3C%21DOCTYPE%20html%3E%0A%3Chead%3E%20%20%20%20%0A%20%20%20%20%3Cmeta%20http-equiv%3D%22content-type%22%20content%3D%22text/html%3B%20charset%3DUTF-8%22%20/%3E%0A%20%20%20%20%0A%20%20%20%20%20%20%20%20%3Cscript%3E%0A%20%20%20%20%20%20%20%20%20%20%20%20L_NO_TOUCH%20%3D%20false%3B%0A%20%20%20%20%20%20%20%20%20%20%20%20L_DISABLE_3D%20%3D%20false%3B%0A%20%20%20%20%20%20%20%20%3C/script%3E%0A%20%20%20%20%0A%20%20%20%20%3Cstyle%3Ehtml%2C%20body%20%7Bwidth%3A%20100%25%3Bheight%3A%20100%25%3Bmargin%3A%200%3Bpadding%3A%200%3B%7D%3C/style%3E%0A%20%20%20%20%3Cstyle%3E%23map%20%7Bposition%3Aabsolute%3Btop%3A0%3Bbottom%3A0%3Bright%3A0%3Bleft%3A0%3B%7D%3C/style%3E%0A%20%20%20%20%3Cscript%20src%3D%22https%3A//cdn.jsdelivr.net/npm/leaflet%401.6.0/dist/leaflet.js%22%3E%3C/script%3E%0A%20%20%20%20%3Cscript%20src%3D%22https%3A//code.jquery.com/jquery-1.12.4.min.js%22%3E%3C/script%3E%0A%20%20%20%20%3Cscript%20src%3D%22https%3A//maxcdn.bootstrapcdn.com/bootstrap/3.2.0/js/bootstrap.min.js%22%3E%3C/script%3E%0A%20%20%20%20%3Cscript%20src%3D%22https%3A//cdnjs.cloudflare.com/ajax/libs/Leaflet.awesome-markers/2.0.2/leaflet.awesome-markers.js%22%3E%3C/script%3E%0A%20%20%20%20%3Clink%20rel%3D%22stylesheet%22%20href%3D%22https%3A//cdn.jsdelivr.net/npm/leaflet%401.6.0/dist/leaflet.css%22/%3E%0A%20%20%20%20%3Clink%20rel%3D%22stylesheet%22%20href%3D%22https%3A//maxcdn.bootstrapcdn.com/bootstrap/3.2.0/css/bootstrap.min.css%22/%3E%0A%20%20%20%20%3Clink%20rel%3D%22stylesheet%22%20href%3D%22https%3A//maxcdn.bootstrapcdn.com/bootstrap/3.2.0/css/bootstrap-theme.min.css%22/%3E%0A%20%20%20%20%3Clink%20rel%3D%22stylesheet%22%20href%3D%22https%3A//maxcdn.bootstrapcdn.com/font-awesome/4.6.3/css/font-awesome.min.css%22/%3E%0A%20%20%20%20%3Clink%20rel%3D%22stylesheet%22%20href%3D%22https%3A//cdnjs.cloudflare.com/ajax/libs/Leaflet.awesome-markers/2.0.2/leaflet.awesome-markers.css%22/%3E%0A%20%20%20%20%3Clink%20rel%3D%22stylesheet%22%20href%3D%22https%3A//cdn.jsdelivr.net/gh/python-visualization/folium/folium/templates/leaflet.awesome.rotate.min.css%22/%3E%0A%20%20%20%20%0A%20%20%20%20%20%20%20%20%20%20%20%20%3Cmeta%20name%3D%22viewport%22%20content%3D%22width%3Ddevice-width%2C%0A%20%20%20%20%20%20%20%20%20%20%20%20%20%20%20%20initial-scale%3D1.0%2C%20maximum-scale%3D1.0%2C%20user-scalable%3Dno%22%20/%3E%0A%20%20%20%20%20%20%20%20%20%20%20%20%3Cstyle%3E%0A%20%20%20%20%20%20%20%20%20%20%20%20%20%20%20%20%23map_436dc322b98b415ea7644cecf16dc5d8%20%7B%0A%20%20%20%20%20%20%20%20%20%20%20%20%20%20%20%20%20%20%20%20position%3A%20relative%3B%0A%20%20%20%20%20%20%20%20%20%20%20%20%20%20%20%20%20%20%20%20width%3A%20100.0%25%3B%0A%20%20%20%20%20%20%20%20%20%20%20%20%20%20%20%20%20%20%20%20height%3A%20100.0%25%3B%0A%20%20%20%20%20%20%20%20%20%20%20%20%20%20%20%20%20%20%20%20left%3A%200.0%25%3B%0A%20%20%20%20%20%20%20%20%20%20%20%20%20%20%20%20%20%20%20%20top%3A%200.0%25%3B%0A%20%20%20%20%20%20%20%20%20%20%20%20%20%20%20%20%7D%0A%20%20%20%20%20%20%20%20%20%20%20%20%3C/style%3E%0A%20%20%20%20%20%20%20%20%0A%20%20%20%20%3Cscript%20src%3D%22https%3A//cdnjs.cloudflare.com/ajax/libs/leaflet.fullscreen/1.4.2/Control.FullScreen.min.js%22%3E%3C/script%3E%0A%20%20%20%20%3Clink%20rel%3D%22stylesheet%22%20href%3D%22https%3A//cdnjs.cloudflare.com/ajax/libs/leaflet.fullscreen/1.4.2/Control.FullScreen.min.css%22/%3E%0A%3C/head%3E%0A%3Cbody%3E%20%20%20%20%0A%20%20%20%20%0A%20%20%20%20%20%20%20%20%20%20%20%20%3Cdiv%20class%3D%22folium-map%22%20id%3D%22map_436dc322b98b415ea7644cecf16dc5d8%22%20%3E%3C/div%3E%0A%20%20%20%20%20%20%20%20%0A%3C/body%3E%0A%3Cscript%3E%20%20%20%20%0A%20%20%20%20%0A%20%20%20%20%20%20%20%20%20%20%20%20var%20map_436dc322b98b415ea7644cecf16dc5d8%20%3D%20L.map%28%0A%20%20%20%20%20%20%20%20%20%20%20%20%20%20%20%20%22map_436dc322b98b415ea7644cecf16dc5d8%22%2C%0A%20%20%20%20%20%20%20%20%20%20%20%20%20%20%20%20%7B%0A%20%20%20%20%20%20%20%20%20%20%20%20%20%20%20%20%20%20%20%20center%3A%20%5B32.3%2C%20-90.9%5D%2C%0A%20%20%20%20%20%20%20%20%20%20%20%20%20%20%20%20%20%20%20%20crs%3A%20L.CRS.EPSG3857%2C%0A%20%20%20%20%20%20%20%20%20%20%20%20%20%20%20%20%20%20%20%20zoom%3A%2012%2C%0A%20%20%20%20%20%20%20%20%20%20%20%20%20%20%20%20%20%20%20%20zoomControl%3A%20true%2C%0A%20%20%20%20%20%20%20%20%20%20%20%20%20%20%20%20%20%20%20%20preferCanvas%3A%20false%2C%0A%20%20%20%20%20%20%20%20%20%20%20%20%20%20%20%20%20%20%20%20eeInitialize%3A%20true%2C%0A%20%20%20%20%20%20%20%20%20%20%20%20%20%20%20%20%20%20%20%20addGoogleMap%3A%20true%2C%0A%20%20%20%20%20%20%20%20%20%20%20%20%20%20%20%20%20%20%20%20pluginLatlngpopup%3A%20true%2C%0A%20%20%20%20%20%20%20%20%20%20%20%20%20%20%20%20%20%20%20%20pluginFullscreen%3A%20true%2C%0A%20%20%20%20%20%20%20%20%20%20%20%20%20%20%20%20%20%20%20%20pluginDraw%3A%20false%2C%0A%20%20%20%20%20%20%20%20%20%20%20%20%20%20%20%20%20%20%20%20DrawExport%3A%20true%2C%0A%20%20%20%20%20%20%20%20%20%20%20%20%20%20%20%20%20%20%20%20pluginMinimap%3A%20false%2C%0A%20%20%20%20%20%20%20%20%20%20%20%20%20%20%20%20%20%20%20%20pluginLayercontrol%3A%20false%2C%0A%20%20%20%20%20%20%20%20%20%20%20%20%20%20%20%20%7D%0A%20%20%20%20%20%20%20%20%20%20%20%20%29%3B%0A%0A%20%20%20%20%20%20%20%20%20%20%20%20%0A%0A%20%20%20%20%20%20%20%20%0A%20%20%20%20%0A%20%20%20%20%20%20%20%20%20%20%20%20var%20tile_layer_98967e2cca34482982df64b90a026f00%20%3D%20L.tileLayer%28%0A%20%20%20%20%20%20%20%20%20%20%20%20%20%20%20%20%22https%3A//%7Bs%7D.tile.openstreetmap.org/%7Bz%7D/%7Bx%7D/%7By%7D.png%22%2C%0A%20%20%20%20%20%20%20%20%20%20%20%20%20%20%20%20%7B%22attribution%22%3A%20%22Data%20by%20%5Cu0026copy%3B%20%5Cu003ca%20href%3D%5C%22http%3A//openstreetmap.org%5C%22%5Cu003eOpenStreetMap%5Cu003c/a%5Cu003e%2C%20under%20%5Cu003ca%20href%3D%5C%22http%3A//www.openstreetmap.org/copyright%5C%22%5Cu003eODbL%5Cu003c/a%5Cu003e.%22%2C%20%22detectRetina%22%3A%20false%2C%20%22maxNativeZoom%22%3A%2018%2C%20%22maxZoom%22%3A%2018%2C%20%22minZoom%22%3A%200%2C%20%22noWrap%22%3A%20false%2C%20%22opacity%22%3A%201%2C%20%22subdomains%22%3A%20%22abc%22%2C%20%22tms%22%3A%20false%7D%0A%20%20%20%20%20%20%20%20%20%20%20%20%29.addTo%28map_436dc322b98b415ea7644cecf16dc5d8%29%3B%0A%20%20%20%20%20%20%20%20%0A%20%20%20%20%0A%20%20%20%20%20%20%20%20%20%20%20%20var%20tile_layer_75c2b7caec9e4289a1d5638829767604%20%3D%20L.tileLayer%28%0A%20%20%20%20%20%20%20%20%20%20%20%20%20%20%20%20%22https%3A//mt1.google.com/vt/lyrs%3Dm%5Cu0026x%3D%7Bx%7D%5Cu0026y%3D%7By%7D%5Cu0026z%3D%7Bz%7D%22%2C%0A%20%20%20%20%20%20%20%20%20%20%20%20%20%20%20%20%7B%22attribution%22%3A%20%22Google%22%2C%20%22detectRetina%22%3A%20false%2C%20%22maxNativeZoom%22%3A%2018%2C%20%22maxZoom%22%3A%2018%2C%20%22minZoom%22%3A%200%2C%20%22noWrap%22%3A%20false%2C%20%22opacity%22%3A%201%2C%20%22subdomains%22%3A%20%22abc%22%2C%20%22tms%22%3A%20false%7D%0A%20%20%20%20%20%20%20%20%20%20%20%20%29.addTo%28map_436dc322b98b415ea7644cecf16dc5d8%29%3B%0A%20%20%20%20%20%20%20%20%0A%20%20%20%20%0A%20%20%20%20%20%20%20%20%20%20%20%20%20%20%20%20var%20lat_lng_popup_6a82dc26f73d43eb966d5db3c8b93be1%20%3D%20L.popup%28%29%3B%0A%20%20%20%20%20%20%20%20%20%20%20%20%20%20%20%20function%20latLngPop%28e%29%20%7B%0A%20%20%20%20%20%20%20%20%20%20%20%20%20%20%20%20%20%20%20%20lat_lng_popup_6a82dc26f73d43eb966d5db3c8b93be1%0A%20%20%20%20%20%20%20%20%20%20%20%20%20%20%20%20%20%20%20%20%20%20%20%20.setLatLng%28e.latlng%29%0A%20%20%20%20%20%20%20%20%20%20%20%20%20%20%20%20%20%20%20%20%20%20%20%20.setContent%28%22Latitude%3A%20%22%20%2B%20e.latlng.lat.toFixed%284%29%20%2B%0A%20%20%20%20%20%20%20%20%20%20%20%20%20%20%20%20%20%20%20%20%20%20%20%20%20%20%20%20%20%20%20%20%20%20%20%20%22%3Cbr%3ELongitude%3A%20%22%20%2B%20e.latlng.lng.toFixed%284%29%29%0A%20%20%20%20%20%20%20%20%20%20%20%20%20%20%20%20%20%20%20%20%20%20%20%20.openOn%28map_436dc322b98b415ea7644cecf16dc5d8%29%3B%0A%20%20%20%20%20%20%20%20%20%20%20%20%20%20%20%20%20%20%20%20%7D%0A%20%20%20%20%20%20%20%20%20%20%20%20%20%20%20%20map_436dc322b98b415ea7644cecf16dc5d8.on%28%27click%27%2C%20latLngPop%29%3B%0A%20%20%20%20%20%20%20%20%20%20%20%20%0A%20%20%20%20%0A%20%20%20%20%20%20%20%20%20%20%20%20L.control.fullscreen%28%0A%20%20%20%20%20%20%20%20%20%20%20%20%20%20%20%20%7B%22forceSeparateButton%22%3A%20false%2C%20%22position%22%3A%20%22topleft%22%2C%20%22title%22%3A%20%22Full%20Screen%22%2C%20%22titleCancel%22%3A%20%22Exit%20Full%20Screen%22%7D%0A%20%20%20%20%20%20%20%20%20%20%20%20%29.addTo%28map_436dc322b98b415ea7644cecf16dc5d8%29%3B%0A%20%20%20%20%20%20%20%20%0A%20%20%20%20%0A%20%20%20%20%20%20%20%20%20%20%20%20map_436dc322b98b415ea7644cecf16dc5d8.fitBounds%28%0A%20%20%20%20%20%20%20%20%20%20%20%20%20%20%20%20%5B%5B32.3%2C%20-90.9%5D%2C%20%5B32.3%2C%20-90.9%5D%5D%2C%0A%20%20%20%20%20%20%20%20%20%20%20%20%20%20%20%20%7B%22maxZoom%22%3A%2012%7D%0A%20%20%20%20%20%20%20%20%20%20%20%20%29%3B%0A%20%20%20%20%20%20%20%20%0A%20%20%20%20%0A%20%20%20%20%20%20%20%20%20%20%20%20var%20tile_layer_75b2e12e6b28469b9de61ad28c95306a%20%3D%20L.tileLayer%28%0A%20%20%20%20%20%20%20%20%20%20%20%20%20%20%20%20%22https%3A//earthengine.googleapis.com/v1alpha/projects/earthengine-legacy/maps/3d8df7e71d23dabefa1496dd7456826f-90ad15e901cf833e364f925d60324373/tiles/%7Bz%7D/%7Bx%7D/%7By%7D%22%2C%0A%20%20%20%20%20%20%20%20%20%20%20%20%20%20%20%20%7B%22attribution%22%3A%20%22Google%20Earth%20Engine%22%2C%20%22detectRetina%22%3A%20false%2C%20%22maxNativeZoom%22%3A%2018%2C%20%22maxZoom%22%3A%2018%2C%20%22minZoom%22%3A%200%2C%20%22noWrap%22%3A%20false%2C%20%22opacity%22%3A%201.0%2C%20%22subdomains%22%3A%20%22abc%22%2C%20%22tms%22%3A%20false%7D%0A%20%20%20%20%20%20%20%20%20%20%20%20%29.addTo%28map_436dc322b98b415ea7644cecf16dc5d8%29%3B%0A%20%20%20%20%20%20%20%20%0A%20%20%20%20%0A%20%20%20%20%20%20%20%20%20%20%20%20var%20layer_control_7fa91469bdb5402f9903c70531d2a5d2%20%3D%20%7B%0A%20%20%20%20%20%20%20%20%20%20%20%20%20%20%20%20base_layers%20%3A%20%7B%0A%20%20%20%20%20%20%20%20%20%20%20%20%20%20%20%20%20%20%20%20%22openstreetmap%22%20%3A%20tile_layer_98967e2cca34482982df64b90a026f00%2C%0A%20%20%20%20%20%20%20%20%20%20%20%20%20%20%20%20%7D%2C%0A%20%20%20%20%20%20%20%20%20%20%20%20%20%20%20%20overlays%20%3A%20%20%7B%0A%20%20%20%20%20%20%20%20%20%20%20%20%20%20%20%20%20%20%20%20%22Google%20Maps%22%20%3A%20tile_layer_75c2b7caec9e4289a1d5638829767604%2C%0A%20%20%20%20%20%20%20%20%20%20%20%20%20%20%20%20%20%20%20%20%22Layer%202019%20Wet%20season%20true%20color%22%20%3A%20tile_layer_75b2e12e6b28469b9de61ad28c95306a%2C%0A%20%20%20%20%20%20%20%20%20%20%20%20%20%20%20%20%7D%2C%0A%20%20%20%20%20%20%20%20%20%20%20%20%7D%3B%0A%20%20%20%20%20%20%20%20%20%20%20%20L.control.layers%28%0A%20%20%20%20%20%20%20%20%20%20%20%20%20%20%20%20layer_control_7fa91469bdb5402f9903c70531d2a5d2.base_layers%2C%0A%20%20%20%20%20%20%20%20%20%20%20%20%20%20%20%20layer_control_7fa91469bdb5402f9903c70531d2a5d2.overlays%2C%0A%20%20%20%20%20%20%20%20%20%20%20%20%20%20%20%20%7B%22autoZIndex%22%3A%20true%2C%20%22collapsed%22%3A%20true%2C%20%22position%22%3A%20%22topright%22%7D%0A%20%20%20%20%20%20%20%20%20%20%20%20%29.addTo%28map_436dc322b98b415ea7644cecf16dc5d8%29%3B%0A%20%20%20%20%20%20%20%20%0A%3C/script%3E onload=\"this.contentDocument.open();this.contentDocument.write(    decodeURIComponent(this.getAttribute('data-html')));this.contentDocument.close();\" allowfullscreen webkitallowfullscreen mozallowfullscreen></iframe></div></div>"
      ],
      "text/plain": [
       "<geemap.eefolium.Map at 0x7fbdc3c6bc10>"
      ]
     },
     "execution_count": 8,
     "metadata": {},
     "output_type": "execute_result"
    }
   ],
   "source": [
    "Map = geemap.Map(center=[32.3,-90.9], zoom= 12)\n",
    "Map.addLayer(wet_season, trueColor_palette, '2019 Wet season true color');\n",
    "Map.addLayerControl()\n",
    "Map"
   ]
  },
  {
   "cell_type": "markdown",
   "id": "3c615058",
   "metadata": {},
   "source": [
    "# Hydrofunctions"
   ]
  },
  {
   "cell_type": "code",
   "execution_count": 9,
   "id": "867dea33",
   "metadata": {},
   "outputs": [],
   "source": [
    "# In this cell create a function to support figure one that opens\n",
    "# data using hydrofunctions and returns a dataframe  with\n",
    "# x,y location, site name and discharge data\n",
    "\n",
    "def create_df(site, start, end):\n",
    "    \"\"\"Imports data to dataframe, adds geolocation and stream gage site name\n",
    "\n",
    "    Parameters\n",
    "    ----------\n",
    "    site : string\n",
    "        Site number as specified by USGS\n",
    "        \n",
    "    start : string\n",
    "        Desired start date for data\n",
    "        \n",
    "    end : string\n",
    "        Desired end date for data \n",
    "\n",
    "    Returns\n",
    "    -------\n",
    "    response_df : dataframe\n",
    "        Dataframe created from downloaded csv    \"\"\"\n",
    "    \n",
    "    # YOUR CODE HERE\n",
    "    \n",
    "    # Generate dataframe from NWIS for gage discharge data at specified sites\n",
    "    response = hf.NWIS(site, 'dv', start, end, parameterCd='00060')\n",
    "    response_df = response.df()\n",
    "\n",
    "    # Rename columns for discharge and flags\n",
    "    response_df.columns = ('discharge', 'qualifiers')\n",
    "    \n",
    "    # Add column for site name\n",
    "    response_df[\"sitename\"] = hf.get_nwis_property(response.json, key='siteName')[0]\n",
    "   \n",
    "    # Add columns for gage location latitude and longitude\n",
    "    geolocation =   hf.get_nwis_property(response.json, key='geoLocation')[0]\n",
    "    response_df[\"latitude\"] = geolocation[\"geogLocation\"][\"latitude\"]\n",
    "    response_df[\"longitude\"] = geolocation[\"geogLocation\"][\"longitude\"]\n",
    "\n",
    "    \n",
    "    return response_df\n"
   ]
  },
  {
   "cell_type": "markdown",
   "id": "2f7b3b41",
   "metadata": {},
   "source": [
    "# Create dataframe from NWIS site"
   ]
  },
  {
   "cell_type": "code",
   "execution_count": 10,
   "id": "3d011e30",
   "metadata": {
    "scrolled": true
   },
   "outputs": [
    {
     "name": "stdout",
     "output_type": "stream",
     "text": [
      "Requested data from https://waterservices.usgs.gov/nwis/dv/?format=json%2C1.1&sites=07289000&parameterCd=00060&startDT=2019-03-15&endDT=2019-05-01\n"
     ]
    },
    {
     "data": {
      "text/html": [
       "<div>\n",
       "<style scoped>\n",
       "    .dataframe tbody tr th:only-of-type {\n",
       "        vertical-align: middle;\n",
       "    }\n",
       "\n",
       "    .dataframe tbody tr th {\n",
       "        vertical-align: top;\n",
       "    }\n",
       "\n",
       "    .dataframe thead th {\n",
       "        text-align: right;\n",
       "    }\n",
       "</style>\n",
       "<table border=\"1\" class=\"dataframe\">\n",
       "  <thead>\n",
       "    <tr style=\"text-align: right;\">\n",
       "      <th></th>\n",
       "      <th>discharge</th>\n",
       "      <th>qualifiers</th>\n",
       "      <th>sitename</th>\n",
       "      <th>latitude</th>\n",
       "      <th>longitude</th>\n",
       "    </tr>\n",
       "    <tr>\n",
       "      <th>datetimeUTC</th>\n",
       "      <th></th>\n",
       "      <th></th>\n",
       "      <th></th>\n",
       "      <th></th>\n",
       "      <th></th>\n",
       "    </tr>\n",
       "  </thead>\n",
       "  <tbody>\n",
       "    <tr>\n",
       "      <th>2019-03-15 00:00:00+00:00</th>\n",
       "      <td>1870000.0</td>\n",
       "      <td>A</td>\n",
       "      <td>MISSISSIPPI RIVER AT VICKSBURG, MS</td>\n",
       "      <td>32.315</td>\n",
       "      <td>-90.905833</td>\n",
       "    </tr>\n",
       "    <tr>\n",
       "      <th>2019-03-16 00:00:00+00:00</th>\n",
       "      <td>1870000.0</td>\n",
       "      <td>A</td>\n",
       "      <td>MISSISSIPPI RIVER AT VICKSBURG, MS</td>\n",
       "      <td>32.315</td>\n",
       "      <td>-90.905833</td>\n",
       "    </tr>\n",
       "    <tr>\n",
       "      <th>2019-03-17 00:00:00+00:00</th>\n",
       "      <td>1870000.0</td>\n",
       "      <td>A</td>\n",
       "      <td>MISSISSIPPI RIVER AT VICKSBURG, MS</td>\n",
       "      <td>32.315</td>\n",
       "      <td>-90.905833</td>\n",
       "    </tr>\n",
       "    <tr>\n",
       "      <th>2019-03-18 00:00:00+00:00</th>\n",
       "      <td>1860000.0</td>\n",
       "      <td>A</td>\n",
       "      <td>MISSISSIPPI RIVER AT VICKSBURG, MS</td>\n",
       "      <td>32.315</td>\n",
       "      <td>-90.905833</td>\n",
       "    </tr>\n",
       "    <tr>\n",
       "      <th>2019-03-19 00:00:00+00:00</th>\n",
       "      <td>1860000.0</td>\n",
       "      <td>A</td>\n",
       "      <td>MISSISSIPPI RIVER AT VICKSBURG, MS</td>\n",
       "      <td>32.315</td>\n",
       "      <td>-90.905833</td>\n",
       "    </tr>\n",
       "    <tr>\n",
       "      <th>2019-03-20 00:00:00+00:00</th>\n",
       "      <td>1860000.0</td>\n",
       "      <td>A</td>\n",
       "      <td>MISSISSIPPI RIVER AT VICKSBURG, MS</td>\n",
       "      <td>32.315</td>\n",
       "      <td>-90.905833</td>\n",
       "    </tr>\n",
       "    <tr>\n",
       "      <th>2019-03-21 00:00:00+00:00</th>\n",
       "      <td>1850000.0</td>\n",
       "      <td>A</td>\n",
       "      <td>MISSISSIPPI RIVER AT VICKSBURG, MS</td>\n",
       "      <td>32.315</td>\n",
       "      <td>-90.905833</td>\n",
       "    </tr>\n",
       "    <tr>\n",
       "      <th>2019-03-22 00:00:00+00:00</th>\n",
       "      <td>1850000.0</td>\n",
       "      <td>A</td>\n",
       "      <td>MISSISSIPPI RIVER AT VICKSBURG, MS</td>\n",
       "      <td>32.315</td>\n",
       "      <td>-90.905833</td>\n",
       "    </tr>\n",
       "    <tr>\n",
       "      <th>2019-03-23 00:00:00+00:00</th>\n",
       "      <td>1840000.0</td>\n",
       "      <td>A</td>\n",
       "      <td>MISSISSIPPI RIVER AT VICKSBURG, MS</td>\n",
       "      <td>32.315</td>\n",
       "      <td>-90.905833</td>\n",
       "    </tr>\n",
       "    <tr>\n",
       "      <th>2019-03-24 00:00:00+00:00</th>\n",
       "      <td>1840000.0</td>\n",
       "      <td>A</td>\n",
       "      <td>MISSISSIPPI RIVER AT VICKSBURG, MS</td>\n",
       "      <td>32.315</td>\n",
       "      <td>-90.905833</td>\n",
       "    </tr>\n",
       "    <tr>\n",
       "      <th>2019-03-25 00:00:00+00:00</th>\n",
       "      <td>1840000.0</td>\n",
       "      <td>A</td>\n",
       "      <td>MISSISSIPPI RIVER AT VICKSBURG, MS</td>\n",
       "      <td>32.315</td>\n",
       "      <td>-90.905833</td>\n",
       "    </tr>\n",
       "    <tr>\n",
       "      <th>2019-03-26 00:00:00+00:00</th>\n",
       "      <td>1830000.0</td>\n",
       "      <td>A</td>\n",
       "      <td>MISSISSIPPI RIVER AT VICKSBURG, MS</td>\n",
       "      <td>32.315</td>\n",
       "      <td>-90.905833</td>\n",
       "    </tr>\n",
       "    <tr>\n",
       "      <th>2019-03-27 00:00:00+00:00</th>\n",
       "      <td>1830000.0</td>\n",
       "      <td>A</td>\n",
       "      <td>MISSISSIPPI RIVER AT VICKSBURG, MS</td>\n",
       "      <td>32.315</td>\n",
       "      <td>-90.905833</td>\n",
       "    </tr>\n",
       "    <tr>\n",
       "      <th>2019-03-28 00:00:00+00:00</th>\n",
       "      <td>1820000.0</td>\n",
       "      <td>A</td>\n",
       "      <td>MISSISSIPPI RIVER AT VICKSBURG, MS</td>\n",
       "      <td>32.315</td>\n",
       "      <td>-90.905833</td>\n",
       "    </tr>\n",
       "    <tr>\n",
       "      <th>2019-03-29 00:00:00+00:00</th>\n",
       "      <td>1810000.0</td>\n",
       "      <td>A</td>\n",
       "      <td>MISSISSIPPI RIVER AT VICKSBURG, MS</td>\n",
       "      <td>32.315</td>\n",
       "      <td>-90.905833</td>\n",
       "    </tr>\n",
       "    <tr>\n",
       "      <th>2019-03-30 00:00:00+00:00</th>\n",
       "      <td>1780000.0</td>\n",
       "      <td>A</td>\n",
       "      <td>MISSISSIPPI RIVER AT VICKSBURG, MS</td>\n",
       "      <td>32.315</td>\n",
       "      <td>-90.905833</td>\n",
       "    </tr>\n",
       "    <tr>\n",
       "      <th>2019-03-31 00:00:00+00:00</th>\n",
       "      <td>1750000.0</td>\n",
       "      <td>A</td>\n",
       "      <td>MISSISSIPPI RIVER AT VICKSBURG, MS</td>\n",
       "      <td>32.315</td>\n",
       "      <td>-90.905833</td>\n",
       "    </tr>\n",
       "    <tr>\n",
       "      <th>2019-04-01 00:00:00+00:00</th>\n",
       "      <td>1720000.0</td>\n",
       "      <td>A</td>\n",
       "      <td>MISSISSIPPI RIVER AT VICKSBURG, MS</td>\n",
       "      <td>32.315</td>\n",
       "      <td>-90.905833</td>\n",
       "    </tr>\n",
       "    <tr>\n",
       "      <th>2019-04-02 00:00:00+00:00</th>\n",
       "      <td>1690000.0</td>\n",
       "      <td>A</td>\n",
       "      <td>MISSISSIPPI RIVER AT VICKSBURG, MS</td>\n",
       "      <td>32.315</td>\n",
       "      <td>-90.905833</td>\n",
       "    </tr>\n",
       "    <tr>\n",
       "      <th>2019-04-03 00:00:00+00:00</th>\n",
       "      <td>1650000.0</td>\n",
       "      <td>A</td>\n",
       "      <td>MISSISSIPPI RIVER AT VICKSBURG, MS</td>\n",
       "      <td>32.315</td>\n",
       "      <td>-90.905833</td>\n",
       "    </tr>\n",
       "    <tr>\n",
       "      <th>2019-04-04 00:00:00+00:00</th>\n",
       "      <td>1620000.0</td>\n",
       "      <td>A</td>\n",
       "      <td>MISSISSIPPI RIVER AT VICKSBURG, MS</td>\n",
       "      <td>32.315</td>\n",
       "      <td>-90.905833</td>\n",
       "    </tr>\n",
       "    <tr>\n",
       "      <th>2019-04-05 00:00:00+00:00</th>\n",
       "      <td>1590000.0</td>\n",
       "      <td>A</td>\n",
       "      <td>MISSISSIPPI RIVER AT VICKSBURG, MS</td>\n",
       "      <td>32.315</td>\n",
       "      <td>-90.905833</td>\n",
       "    </tr>\n",
       "    <tr>\n",
       "      <th>2019-04-06 00:00:00+00:00</th>\n",
       "      <td>1560000.0</td>\n",
       "      <td>A</td>\n",
       "      <td>MISSISSIPPI RIVER AT VICKSBURG, MS</td>\n",
       "      <td>32.315</td>\n",
       "      <td>-90.905833</td>\n",
       "    </tr>\n",
       "    <tr>\n",
       "      <th>2019-04-07 00:00:00+00:00</th>\n",
       "      <td>1530000.0</td>\n",
       "      <td>A</td>\n",
       "      <td>MISSISSIPPI RIVER AT VICKSBURG, MS</td>\n",
       "      <td>32.315</td>\n",
       "      <td>-90.905833</td>\n",
       "    </tr>\n",
       "    <tr>\n",
       "      <th>2019-04-08 00:00:00+00:00</th>\n",
       "      <td>1520000.0</td>\n",
       "      <td>A</td>\n",
       "      <td>MISSISSIPPI RIVER AT VICKSBURG, MS</td>\n",
       "      <td>32.315</td>\n",
       "      <td>-90.905833</td>\n",
       "    </tr>\n",
       "    <tr>\n",
       "      <th>2019-04-09 00:00:00+00:00</th>\n",
       "      <td>1500000.0</td>\n",
       "      <td>A</td>\n",
       "      <td>MISSISSIPPI RIVER AT VICKSBURG, MS</td>\n",
       "      <td>32.315</td>\n",
       "      <td>-90.905833</td>\n",
       "    </tr>\n",
       "    <tr>\n",
       "      <th>2019-04-10 00:00:00+00:00</th>\n",
       "      <td>1480000.0</td>\n",
       "      <td>A</td>\n",
       "      <td>MISSISSIPPI RIVER AT VICKSBURG, MS</td>\n",
       "      <td>32.315</td>\n",
       "      <td>-90.905833</td>\n",
       "    </tr>\n",
       "    <tr>\n",
       "      <th>2019-04-11 00:00:00+00:00</th>\n",
       "      <td>1460000.0</td>\n",
       "      <td>A</td>\n",
       "      <td>MISSISSIPPI RIVER AT VICKSBURG, MS</td>\n",
       "      <td>32.315</td>\n",
       "      <td>-90.905833</td>\n",
       "    </tr>\n",
       "    <tr>\n",
       "      <th>2019-04-12 00:00:00+00:00</th>\n",
       "      <td>1450000.0</td>\n",
       "      <td>A</td>\n",
       "      <td>MISSISSIPPI RIVER AT VICKSBURG, MS</td>\n",
       "      <td>32.315</td>\n",
       "      <td>-90.905833</td>\n",
       "    </tr>\n",
       "    <tr>\n",
       "      <th>2019-04-13 00:00:00+00:00</th>\n",
       "      <td>1440000.0</td>\n",
       "      <td>A</td>\n",
       "      <td>MISSISSIPPI RIVER AT VICKSBURG, MS</td>\n",
       "      <td>32.315</td>\n",
       "      <td>-90.905833</td>\n",
       "    </tr>\n",
       "    <tr>\n",
       "      <th>2019-04-14 00:00:00+00:00</th>\n",
       "      <td>1430000.0</td>\n",
       "      <td>A</td>\n",
       "      <td>MISSISSIPPI RIVER AT VICKSBURG, MS</td>\n",
       "      <td>32.315</td>\n",
       "      <td>-90.905833</td>\n",
       "    </tr>\n",
       "    <tr>\n",
       "      <th>2019-04-15 00:00:00+00:00</th>\n",
       "      <td>1420000.0</td>\n",
       "      <td>A</td>\n",
       "      <td>MISSISSIPPI RIVER AT VICKSBURG, MS</td>\n",
       "      <td>32.315</td>\n",
       "      <td>-90.905833</td>\n",
       "    </tr>\n",
       "    <tr>\n",
       "      <th>2019-04-16 00:00:00+00:00</th>\n",
       "      <td>1410000.0</td>\n",
       "      <td>A</td>\n",
       "      <td>MISSISSIPPI RIVER AT VICKSBURG, MS</td>\n",
       "      <td>32.315</td>\n",
       "      <td>-90.905833</td>\n",
       "    </tr>\n",
       "    <tr>\n",
       "      <th>2019-04-17 00:00:00+00:00</th>\n",
       "      <td>1410000.0</td>\n",
       "      <td>A</td>\n",
       "      <td>MISSISSIPPI RIVER AT VICKSBURG, MS</td>\n",
       "      <td>32.315</td>\n",
       "      <td>-90.905833</td>\n",
       "    </tr>\n",
       "    <tr>\n",
       "      <th>2019-04-18 00:00:00+00:00</th>\n",
       "      <td>1410000.0</td>\n",
       "      <td>A</td>\n",
       "      <td>MISSISSIPPI RIVER AT VICKSBURG, MS</td>\n",
       "      <td>32.315</td>\n",
       "      <td>-90.905833</td>\n",
       "    </tr>\n",
       "    <tr>\n",
       "      <th>2019-04-19 00:00:00+00:00</th>\n",
       "      <td>1420000.0</td>\n",
       "      <td>A</td>\n",
       "      <td>MISSISSIPPI RIVER AT VICKSBURG, MS</td>\n",
       "      <td>32.315</td>\n",
       "      <td>-90.905833</td>\n",
       "    </tr>\n",
       "    <tr>\n",
       "      <th>2019-04-20 00:00:00+00:00</th>\n",
       "      <td>1430000.0</td>\n",
       "      <td>A</td>\n",
       "      <td>MISSISSIPPI RIVER AT VICKSBURG, MS</td>\n",
       "      <td>32.315</td>\n",
       "      <td>-90.905833</td>\n",
       "    </tr>\n",
       "    <tr>\n",
       "      <th>2019-04-21 00:00:00+00:00</th>\n",
       "      <td>1440000.0</td>\n",
       "      <td>A</td>\n",
       "      <td>MISSISSIPPI RIVER AT VICKSBURG, MS</td>\n",
       "      <td>32.315</td>\n",
       "      <td>-90.905833</td>\n",
       "    </tr>\n",
       "    <tr>\n",
       "      <th>2019-04-22 00:00:00+00:00</th>\n",
       "      <td>1440000.0</td>\n",
       "      <td>A</td>\n",
       "      <td>MISSISSIPPI RIVER AT VICKSBURG, MS</td>\n",
       "      <td>32.315</td>\n",
       "      <td>-90.905833</td>\n",
       "    </tr>\n",
       "    <tr>\n",
       "      <th>2019-04-23 00:00:00+00:00</th>\n",
       "      <td>1450000.0</td>\n",
       "      <td>A</td>\n",
       "      <td>MISSISSIPPI RIVER AT VICKSBURG, MS</td>\n",
       "      <td>32.315</td>\n",
       "      <td>-90.905833</td>\n",
       "    </tr>\n",
       "    <tr>\n",
       "      <th>2019-04-24 00:00:00+00:00</th>\n",
       "      <td>1450000.0</td>\n",
       "      <td>A</td>\n",
       "      <td>MISSISSIPPI RIVER AT VICKSBURG, MS</td>\n",
       "      <td>32.315</td>\n",
       "      <td>-90.905833</td>\n",
       "    </tr>\n",
       "    <tr>\n",
       "      <th>2019-04-25 00:00:00+00:00</th>\n",
       "      <td>1450000.0</td>\n",
       "      <td>A</td>\n",
       "      <td>MISSISSIPPI RIVER AT VICKSBURG, MS</td>\n",
       "      <td>32.315</td>\n",
       "      <td>-90.905833</td>\n",
       "    </tr>\n",
       "    <tr>\n",
       "      <th>2019-04-26 00:00:00+00:00</th>\n",
       "      <td>1450000.0</td>\n",
       "      <td>A</td>\n",
       "      <td>MISSISSIPPI RIVER AT VICKSBURG, MS</td>\n",
       "      <td>32.315</td>\n",
       "      <td>-90.905833</td>\n",
       "    </tr>\n",
       "    <tr>\n",
       "      <th>2019-04-27 00:00:00+00:00</th>\n",
       "      <td>1450000.0</td>\n",
       "      <td>A</td>\n",
       "      <td>MISSISSIPPI RIVER AT VICKSBURG, MS</td>\n",
       "      <td>32.315</td>\n",
       "      <td>-90.905833</td>\n",
       "    </tr>\n",
       "    <tr>\n",
       "      <th>2019-04-28 00:00:00+00:00</th>\n",
       "      <td>1460000.0</td>\n",
       "      <td>A</td>\n",
       "      <td>MISSISSIPPI RIVER AT VICKSBURG, MS</td>\n",
       "      <td>32.315</td>\n",
       "      <td>-90.905833</td>\n",
       "    </tr>\n",
       "    <tr>\n",
       "      <th>2019-04-29 00:00:00+00:00</th>\n",
       "      <td>1460000.0</td>\n",
       "      <td>A</td>\n",
       "      <td>MISSISSIPPI RIVER AT VICKSBURG, MS</td>\n",
       "      <td>32.315</td>\n",
       "      <td>-90.905833</td>\n",
       "    </tr>\n",
       "    <tr>\n",
       "      <th>2019-04-30 00:00:00+00:00</th>\n",
       "      <td>1460000.0</td>\n",
       "      <td>A</td>\n",
       "      <td>MISSISSIPPI RIVER AT VICKSBURG, MS</td>\n",
       "      <td>32.315</td>\n",
       "      <td>-90.905833</td>\n",
       "    </tr>\n",
       "    <tr>\n",
       "      <th>2019-05-01 00:00:00+00:00</th>\n",
       "      <td>1470000.0</td>\n",
       "      <td>A</td>\n",
       "      <td>MISSISSIPPI RIVER AT VICKSBURG, MS</td>\n",
       "      <td>32.315</td>\n",
       "      <td>-90.905833</td>\n",
       "    </tr>\n",
       "  </tbody>\n",
       "</table>\n",
       "</div>"
      ],
      "text/plain": [
       "                           discharge qualifiers  \\\n",
       "datetimeUTC                                       \n",
       "2019-03-15 00:00:00+00:00  1870000.0          A   \n",
       "2019-03-16 00:00:00+00:00  1870000.0          A   \n",
       "2019-03-17 00:00:00+00:00  1870000.0          A   \n",
       "2019-03-18 00:00:00+00:00  1860000.0          A   \n",
       "2019-03-19 00:00:00+00:00  1860000.0          A   \n",
       "2019-03-20 00:00:00+00:00  1860000.0          A   \n",
       "2019-03-21 00:00:00+00:00  1850000.0          A   \n",
       "2019-03-22 00:00:00+00:00  1850000.0          A   \n",
       "2019-03-23 00:00:00+00:00  1840000.0          A   \n",
       "2019-03-24 00:00:00+00:00  1840000.0          A   \n",
       "2019-03-25 00:00:00+00:00  1840000.0          A   \n",
       "2019-03-26 00:00:00+00:00  1830000.0          A   \n",
       "2019-03-27 00:00:00+00:00  1830000.0          A   \n",
       "2019-03-28 00:00:00+00:00  1820000.0          A   \n",
       "2019-03-29 00:00:00+00:00  1810000.0          A   \n",
       "2019-03-30 00:00:00+00:00  1780000.0          A   \n",
       "2019-03-31 00:00:00+00:00  1750000.0          A   \n",
       "2019-04-01 00:00:00+00:00  1720000.0          A   \n",
       "2019-04-02 00:00:00+00:00  1690000.0          A   \n",
       "2019-04-03 00:00:00+00:00  1650000.0          A   \n",
       "2019-04-04 00:00:00+00:00  1620000.0          A   \n",
       "2019-04-05 00:00:00+00:00  1590000.0          A   \n",
       "2019-04-06 00:00:00+00:00  1560000.0          A   \n",
       "2019-04-07 00:00:00+00:00  1530000.0          A   \n",
       "2019-04-08 00:00:00+00:00  1520000.0          A   \n",
       "2019-04-09 00:00:00+00:00  1500000.0          A   \n",
       "2019-04-10 00:00:00+00:00  1480000.0          A   \n",
       "2019-04-11 00:00:00+00:00  1460000.0          A   \n",
       "2019-04-12 00:00:00+00:00  1450000.0          A   \n",
       "2019-04-13 00:00:00+00:00  1440000.0          A   \n",
       "2019-04-14 00:00:00+00:00  1430000.0          A   \n",
       "2019-04-15 00:00:00+00:00  1420000.0          A   \n",
       "2019-04-16 00:00:00+00:00  1410000.0          A   \n",
       "2019-04-17 00:00:00+00:00  1410000.0          A   \n",
       "2019-04-18 00:00:00+00:00  1410000.0          A   \n",
       "2019-04-19 00:00:00+00:00  1420000.0          A   \n",
       "2019-04-20 00:00:00+00:00  1430000.0          A   \n",
       "2019-04-21 00:00:00+00:00  1440000.0          A   \n",
       "2019-04-22 00:00:00+00:00  1440000.0          A   \n",
       "2019-04-23 00:00:00+00:00  1450000.0          A   \n",
       "2019-04-24 00:00:00+00:00  1450000.0          A   \n",
       "2019-04-25 00:00:00+00:00  1450000.0          A   \n",
       "2019-04-26 00:00:00+00:00  1450000.0          A   \n",
       "2019-04-27 00:00:00+00:00  1450000.0          A   \n",
       "2019-04-28 00:00:00+00:00  1460000.0          A   \n",
       "2019-04-29 00:00:00+00:00  1460000.0          A   \n",
       "2019-04-30 00:00:00+00:00  1460000.0          A   \n",
       "2019-05-01 00:00:00+00:00  1470000.0          A   \n",
       "\n",
       "                                                     sitename  latitude  \\\n",
       "datetimeUTC                                                               \n",
       "2019-03-15 00:00:00+00:00  MISSISSIPPI RIVER AT VICKSBURG, MS    32.315   \n",
       "2019-03-16 00:00:00+00:00  MISSISSIPPI RIVER AT VICKSBURG, MS    32.315   \n",
       "2019-03-17 00:00:00+00:00  MISSISSIPPI RIVER AT VICKSBURG, MS    32.315   \n",
       "2019-03-18 00:00:00+00:00  MISSISSIPPI RIVER AT VICKSBURG, MS    32.315   \n",
       "2019-03-19 00:00:00+00:00  MISSISSIPPI RIVER AT VICKSBURG, MS    32.315   \n",
       "2019-03-20 00:00:00+00:00  MISSISSIPPI RIVER AT VICKSBURG, MS    32.315   \n",
       "2019-03-21 00:00:00+00:00  MISSISSIPPI RIVER AT VICKSBURG, MS    32.315   \n",
       "2019-03-22 00:00:00+00:00  MISSISSIPPI RIVER AT VICKSBURG, MS    32.315   \n",
       "2019-03-23 00:00:00+00:00  MISSISSIPPI RIVER AT VICKSBURG, MS    32.315   \n",
       "2019-03-24 00:00:00+00:00  MISSISSIPPI RIVER AT VICKSBURG, MS    32.315   \n",
       "2019-03-25 00:00:00+00:00  MISSISSIPPI RIVER AT VICKSBURG, MS    32.315   \n",
       "2019-03-26 00:00:00+00:00  MISSISSIPPI RIVER AT VICKSBURG, MS    32.315   \n",
       "2019-03-27 00:00:00+00:00  MISSISSIPPI RIVER AT VICKSBURG, MS    32.315   \n",
       "2019-03-28 00:00:00+00:00  MISSISSIPPI RIVER AT VICKSBURG, MS    32.315   \n",
       "2019-03-29 00:00:00+00:00  MISSISSIPPI RIVER AT VICKSBURG, MS    32.315   \n",
       "2019-03-30 00:00:00+00:00  MISSISSIPPI RIVER AT VICKSBURG, MS    32.315   \n",
       "2019-03-31 00:00:00+00:00  MISSISSIPPI RIVER AT VICKSBURG, MS    32.315   \n",
       "2019-04-01 00:00:00+00:00  MISSISSIPPI RIVER AT VICKSBURG, MS    32.315   \n",
       "2019-04-02 00:00:00+00:00  MISSISSIPPI RIVER AT VICKSBURG, MS    32.315   \n",
       "2019-04-03 00:00:00+00:00  MISSISSIPPI RIVER AT VICKSBURG, MS    32.315   \n",
       "2019-04-04 00:00:00+00:00  MISSISSIPPI RIVER AT VICKSBURG, MS    32.315   \n",
       "2019-04-05 00:00:00+00:00  MISSISSIPPI RIVER AT VICKSBURG, MS    32.315   \n",
       "2019-04-06 00:00:00+00:00  MISSISSIPPI RIVER AT VICKSBURG, MS    32.315   \n",
       "2019-04-07 00:00:00+00:00  MISSISSIPPI RIVER AT VICKSBURG, MS    32.315   \n",
       "2019-04-08 00:00:00+00:00  MISSISSIPPI RIVER AT VICKSBURG, MS    32.315   \n",
       "2019-04-09 00:00:00+00:00  MISSISSIPPI RIVER AT VICKSBURG, MS    32.315   \n",
       "2019-04-10 00:00:00+00:00  MISSISSIPPI RIVER AT VICKSBURG, MS    32.315   \n",
       "2019-04-11 00:00:00+00:00  MISSISSIPPI RIVER AT VICKSBURG, MS    32.315   \n",
       "2019-04-12 00:00:00+00:00  MISSISSIPPI RIVER AT VICKSBURG, MS    32.315   \n",
       "2019-04-13 00:00:00+00:00  MISSISSIPPI RIVER AT VICKSBURG, MS    32.315   \n",
       "2019-04-14 00:00:00+00:00  MISSISSIPPI RIVER AT VICKSBURG, MS    32.315   \n",
       "2019-04-15 00:00:00+00:00  MISSISSIPPI RIVER AT VICKSBURG, MS    32.315   \n",
       "2019-04-16 00:00:00+00:00  MISSISSIPPI RIVER AT VICKSBURG, MS    32.315   \n",
       "2019-04-17 00:00:00+00:00  MISSISSIPPI RIVER AT VICKSBURG, MS    32.315   \n",
       "2019-04-18 00:00:00+00:00  MISSISSIPPI RIVER AT VICKSBURG, MS    32.315   \n",
       "2019-04-19 00:00:00+00:00  MISSISSIPPI RIVER AT VICKSBURG, MS    32.315   \n",
       "2019-04-20 00:00:00+00:00  MISSISSIPPI RIVER AT VICKSBURG, MS    32.315   \n",
       "2019-04-21 00:00:00+00:00  MISSISSIPPI RIVER AT VICKSBURG, MS    32.315   \n",
       "2019-04-22 00:00:00+00:00  MISSISSIPPI RIVER AT VICKSBURG, MS    32.315   \n",
       "2019-04-23 00:00:00+00:00  MISSISSIPPI RIVER AT VICKSBURG, MS    32.315   \n",
       "2019-04-24 00:00:00+00:00  MISSISSIPPI RIVER AT VICKSBURG, MS    32.315   \n",
       "2019-04-25 00:00:00+00:00  MISSISSIPPI RIVER AT VICKSBURG, MS    32.315   \n",
       "2019-04-26 00:00:00+00:00  MISSISSIPPI RIVER AT VICKSBURG, MS    32.315   \n",
       "2019-04-27 00:00:00+00:00  MISSISSIPPI RIVER AT VICKSBURG, MS    32.315   \n",
       "2019-04-28 00:00:00+00:00  MISSISSIPPI RIVER AT VICKSBURG, MS    32.315   \n",
       "2019-04-29 00:00:00+00:00  MISSISSIPPI RIVER AT VICKSBURG, MS    32.315   \n",
       "2019-04-30 00:00:00+00:00  MISSISSIPPI RIVER AT VICKSBURG, MS    32.315   \n",
       "2019-05-01 00:00:00+00:00  MISSISSIPPI RIVER AT VICKSBURG, MS    32.315   \n",
       "\n",
       "                           longitude  \n",
       "datetimeUTC                           \n",
       "2019-03-15 00:00:00+00:00 -90.905833  \n",
       "2019-03-16 00:00:00+00:00 -90.905833  \n",
       "2019-03-17 00:00:00+00:00 -90.905833  \n",
       "2019-03-18 00:00:00+00:00 -90.905833  \n",
       "2019-03-19 00:00:00+00:00 -90.905833  \n",
       "2019-03-20 00:00:00+00:00 -90.905833  \n",
       "2019-03-21 00:00:00+00:00 -90.905833  \n",
       "2019-03-22 00:00:00+00:00 -90.905833  \n",
       "2019-03-23 00:00:00+00:00 -90.905833  \n",
       "2019-03-24 00:00:00+00:00 -90.905833  \n",
       "2019-03-25 00:00:00+00:00 -90.905833  \n",
       "2019-03-26 00:00:00+00:00 -90.905833  \n",
       "2019-03-27 00:00:00+00:00 -90.905833  \n",
       "2019-03-28 00:00:00+00:00 -90.905833  \n",
       "2019-03-29 00:00:00+00:00 -90.905833  \n",
       "2019-03-30 00:00:00+00:00 -90.905833  \n",
       "2019-03-31 00:00:00+00:00 -90.905833  \n",
       "2019-04-01 00:00:00+00:00 -90.905833  \n",
       "2019-04-02 00:00:00+00:00 -90.905833  \n",
       "2019-04-03 00:00:00+00:00 -90.905833  \n",
       "2019-04-04 00:00:00+00:00 -90.905833  \n",
       "2019-04-05 00:00:00+00:00 -90.905833  \n",
       "2019-04-06 00:00:00+00:00 -90.905833  \n",
       "2019-04-07 00:00:00+00:00 -90.905833  \n",
       "2019-04-08 00:00:00+00:00 -90.905833  \n",
       "2019-04-09 00:00:00+00:00 -90.905833  \n",
       "2019-04-10 00:00:00+00:00 -90.905833  \n",
       "2019-04-11 00:00:00+00:00 -90.905833  \n",
       "2019-04-12 00:00:00+00:00 -90.905833  \n",
       "2019-04-13 00:00:00+00:00 -90.905833  \n",
       "2019-04-14 00:00:00+00:00 -90.905833  \n",
       "2019-04-15 00:00:00+00:00 -90.905833  \n",
       "2019-04-16 00:00:00+00:00 -90.905833  \n",
       "2019-04-17 00:00:00+00:00 -90.905833  \n",
       "2019-04-18 00:00:00+00:00 -90.905833  \n",
       "2019-04-19 00:00:00+00:00 -90.905833  \n",
       "2019-04-20 00:00:00+00:00 -90.905833  \n",
       "2019-04-21 00:00:00+00:00 -90.905833  \n",
       "2019-04-22 00:00:00+00:00 -90.905833  \n",
       "2019-04-23 00:00:00+00:00 -90.905833  \n",
       "2019-04-24 00:00:00+00:00 -90.905833  \n",
       "2019-04-25 00:00:00+00:00 -90.905833  \n",
       "2019-04-26 00:00:00+00:00 -90.905833  \n",
       "2019-04-27 00:00:00+00:00 -90.905833  \n",
       "2019-04-28 00:00:00+00:00 -90.905833  \n",
       "2019-04-29 00:00:00+00:00 -90.905833  \n",
       "2019-04-30 00:00:00+00:00 -90.905833  \n",
       "2019-05-01 00:00:00+00:00 -90.905833  "
      ]
     },
     "execution_count": 10,
     "metadata": {},
     "output_type": "execute_result"
    }
   ],
   "source": [
    "site_df = create_df(site_no, wet_season_start, wet_season_end)\n",
    "\n",
    "site_df "
   ]
  },
  {
   "cell_type": "code",
   "execution_count": 11,
   "id": "f45c5174",
   "metadata": {},
   "outputs": [
    {
     "data": {
      "text/plain": [
       "[Text(0.5, 0, 'Date (Month-Day)'),\n",
       " Text(0, 0.5, 'Daily Mean Stream Discharge \\n (cu. ft. / second)')]"
      ]
     },
     "execution_count": 11,
     "metadata": {},
     "output_type": "execute_result"
    },
    {
     "data": {
      "image/png": "[encoded data removed]",
      "text/plain": [
       "<Figure size 1080x792 with 1 Axes>"
      ]
     },
     "metadata": {},
     "output_type": "display_data"
    }
   ],
   "source": [
    "# Define plot space, overall size and title\n",
    "fig, (ax1) = plt.subplots(1, 1, figsize=(15, 11))\n",
    "\n",
    "fig.suptitle(\n",
    "    \"Stream Discharge Data for Vicksburg MS Gage\", fontsize=22)\n",
    "\n",
    "# Loop for plotting Subplot 1\n",
    "for site_name, group in site_df.groupby('sitename'):\n",
    "    group.groupby('sitename').plot(y='discharge',\n",
    "                                   title=\"Daily Mean Stream Discharge (cfs) for Vicksburg MS Gage (2019)\",\n",
    "                                   label=site_name,\n",
    "                                   linewidth=3.0,\n",
    "                                   ax=ax1,\n",
    "                                   alpha=.8)\n",
    "\n",
    "# Define the date format for Subplot 1, set axis labels\n",
    "date_form = DateFormatter(\"%b-%d\")\n",
    "ax1.xaxis.set_major_formatter(date_form)\n",
    "ax1.xaxis.set_major_locator(mdates.WeekdayLocator(interval=5))\n",
    "ax1.set(xlabel=\"Date (Month-Day)\",\n",
    "        ylabel=\"Daily Mean Stream Discharge \\n (cu. ft. / second)\")\n",
    "\n",
    "#plt.legend(bbox_to_anchor=(1.05, 1), loc='upper left', prop={'size': 11})"
   ]
  },
  {
   "cell_type": "code",
   "execution_count": null,
   "id": "320f6060",
   "metadata": {},
   "outputs": [],
   "source": []
  },
  {
   "cell_type": "markdown",
   "id": "94de6b9b",
   "metadata": {},
   "source": [
    "# NWDI Analysis"
   ]
  },
  {
   "cell_type": "markdown",
   "id": "ddc2840a",
   "metadata": {},
   "source": [
    "### Display Earth Engine the NDWI images with a color palette in Dry Season"
   ]
  },
  {
   "cell_type": "code",
   "execution_count": 12,
   "id": "94c32890",
   "metadata": {
    "scrolled": false
   },
   "outputs": [
    {
     "data": {
      "text/html": [
       "<div style=\"width:100%;\"><div style=\"position:relative;width:100%;height:0;padding-bottom:60%;\"><span style=\"color:#565656\">Make this Notebook Trusted to load map: File -> Trust Notebook</span><iframe src=\"about:blank\" style=\"position:absolute;width:100%;height:100%;left:0;top:0;border:none !important;\" data-html=%3C%21DOCTYPE%20html%3E%0A%3Chead%3E%20%20%20%20%0A%20%20%20%20%3Cmeta%20http-equiv%3D%22content-type%22%20content%3D%22text/html%3B%20charset%3DUTF-8%22%20/%3E%0A%20%20%20%20%0A%20%20%20%20%20%20%20%20%3Cscript%3E%0A%20%20%20%20%20%20%20%20%20%20%20%20L_NO_TOUCH%20%3D%20false%3B%0A%20%20%20%20%20%20%20%20%20%20%20%20L_DISABLE_3D%20%3D%20false%3B%0A%20%20%20%20%20%20%20%20%3C/script%3E%0A%20%20%20%20%0A%20%20%20%20%3Cstyle%3Ehtml%2C%20body%20%7Bwidth%3A%20100%25%3Bheight%3A%20100%25%3Bmargin%3A%200%3Bpadding%3A%200%3B%7D%3C/style%3E%0A%20%20%20%20%3Cstyle%3E%23map%20%7Bposition%3Aabsolute%3Btop%3A0%3Bbottom%3A0%3Bright%3A0%3Bleft%3A0%3B%7D%3C/style%3E%0A%20%20%20%20%3Cscript%20src%3D%22https%3A//cdn.jsdelivr.net/npm/leaflet%401.6.0/dist/leaflet.js%22%3E%3C/script%3E%0A%20%20%20%20%3Cscript%20src%3D%22https%3A//code.jquery.com/jquery-1.12.4.min.js%22%3E%3C/script%3E%0A%20%20%20%20%3Cscript%20src%3D%22https%3A//maxcdn.bootstrapcdn.com/bootstrap/3.2.0/js/bootstrap.min.js%22%3E%3C/script%3E%0A%20%20%20%20%3Cscript%20src%3D%22https%3A//cdnjs.cloudflare.com/ajax/libs/Leaflet.awesome-markers/2.0.2/leaflet.awesome-markers.js%22%3E%3C/script%3E%0A%20%20%20%20%3Clink%20rel%3D%22stylesheet%22%20href%3D%22https%3A//cdn.jsdelivr.net/npm/leaflet%401.6.0/dist/leaflet.css%22/%3E%0A%20%20%20%20%3Clink%20rel%3D%22stylesheet%22%20href%3D%22https%3A//maxcdn.bootstrapcdn.com/bootstrap/3.2.0/css/bootstrap.min.css%22/%3E%0A%20%20%20%20%3Clink%20rel%3D%22stylesheet%22%20href%3D%22https%3A//maxcdn.bootstrapcdn.com/bootstrap/3.2.0/css/bootstrap-theme.min.css%22/%3E%0A%20%20%20%20%3Clink%20rel%3D%22stylesheet%22%20href%3D%22https%3A//maxcdn.bootstrapcdn.com/font-awesome/4.6.3/css/font-awesome.min.css%22/%3E%0A%20%20%20%20%3Clink%20rel%3D%22stylesheet%22%20href%3D%22https%3A//cdnjs.cloudflare.com/ajax/libs/Leaflet.awesome-markers/2.0.2/leaflet.awesome-markers.css%22/%3E%0A%20%20%20%20%3Clink%20rel%3D%22stylesheet%22%20href%3D%22https%3A//cdn.jsdelivr.net/gh/python-visualization/folium/folium/templates/leaflet.awesome.rotate.min.css%22/%3E%0A%20%20%20%20%0A%20%20%20%20%20%20%20%20%20%20%20%20%3Cmeta%20name%3D%22viewport%22%20content%3D%22width%3Ddevice-width%2C%0A%20%20%20%20%20%20%20%20%20%20%20%20%20%20%20%20initial-scale%3D1.0%2C%20maximum-scale%3D1.0%2C%20user-scalable%3Dno%22%20/%3E%0A%20%20%20%20%20%20%20%20%20%20%20%20%3Cstyle%3E%0A%20%20%20%20%20%20%20%20%20%20%20%20%20%20%20%20%23map_0d09a87d1b01460e9f54e9c6c9564ac1%20%7B%0A%20%20%20%20%20%20%20%20%20%20%20%20%20%20%20%20%20%20%20%20position%3A%20relative%3B%0A%20%20%20%20%20%20%20%20%20%20%20%20%20%20%20%20%20%20%20%20width%3A%20100.0%25%3B%0A%20%20%20%20%20%20%20%20%20%20%20%20%20%20%20%20%20%20%20%20height%3A%20100.0%25%3B%0A%20%20%20%20%20%20%20%20%20%20%20%20%20%20%20%20%20%20%20%20left%3A%200.0%25%3B%0A%20%20%20%20%20%20%20%20%20%20%20%20%20%20%20%20%20%20%20%20top%3A%200.0%25%3B%0A%20%20%20%20%20%20%20%20%20%20%20%20%20%20%20%20%7D%0A%20%20%20%20%20%20%20%20%20%20%20%20%3C/style%3E%0A%20%20%20%20%20%20%20%20%0A%20%20%20%20%3Cscript%20src%3D%22https%3A//cdnjs.cloudflare.com/ajax/libs/leaflet.fullscreen/1.4.2/Control.FullScreen.min.js%22%3E%3C/script%3E%0A%20%20%20%20%3Clink%20rel%3D%22stylesheet%22%20href%3D%22https%3A//cdnjs.cloudflare.com/ajax/libs/leaflet.fullscreen/1.4.2/Control.FullScreen.min.css%22/%3E%0A%3C/head%3E%0A%3Cbody%3E%20%20%20%20%0A%20%20%20%20%0A%20%20%20%20%20%20%20%20%20%20%20%20%3Cdiv%20class%3D%22folium-map%22%20id%3D%22map_0d09a87d1b01460e9f54e9c6c9564ac1%22%20%3E%3C/div%3E%0A%20%20%20%20%20%20%20%20%0A%3C/body%3E%0A%3Cscript%3E%20%20%20%20%0A%20%20%20%20%0A%20%20%20%20%20%20%20%20%20%20%20%20var%20map_0d09a87d1b01460e9f54e9c6c9564ac1%20%3D%20L.map%28%0A%20%20%20%20%20%20%20%20%20%20%20%20%20%20%20%20%22map_0d09a87d1b01460e9f54e9c6c9564ac1%22%2C%0A%20%20%20%20%20%20%20%20%20%20%20%20%20%20%20%20%7B%0A%20%20%20%20%20%20%20%20%20%20%20%20%20%20%20%20%20%20%20%20center%3A%20%5B32.3%2C%20-90.9%5D%2C%0A%20%20%20%20%20%20%20%20%20%20%20%20%20%20%20%20%20%20%20%20crs%3A%20L.CRS.EPSG3857%2C%0A%20%20%20%20%20%20%20%20%20%20%20%20%20%20%20%20%20%20%20%20zoom%3A%2011%2C%0A%20%20%20%20%20%20%20%20%20%20%20%20%20%20%20%20%20%20%20%20zoomControl%3A%20true%2C%0A%20%20%20%20%20%20%20%20%20%20%20%20%20%20%20%20%20%20%20%20preferCanvas%3A%20false%2C%0A%20%20%20%20%20%20%20%20%20%20%20%20%20%20%20%20%20%20%20%20eeInitialize%3A%20true%2C%0A%20%20%20%20%20%20%20%20%20%20%20%20%20%20%20%20%20%20%20%20addGoogleMap%3A%20true%2C%0A%20%20%20%20%20%20%20%20%20%20%20%20%20%20%20%20%20%20%20%20pluginLatlngpopup%3A%20true%2C%0A%20%20%20%20%20%20%20%20%20%20%20%20%20%20%20%20%20%20%20%20pluginFullscreen%3A%20true%2C%0A%20%20%20%20%20%20%20%20%20%20%20%20%20%20%20%20%20%20%20%20pluginDraw%3A%20false%2C%0A%20%20%20%20%20%20%20%20%20%20%20%20%20%20%20%20%20%20%20%20DrawExport%3A%20true%2C%0A%20%20%20%20%20%20%20%20%20%20%20%20%20%20%20%20%20%20%20%20pluginMinimap%3A%20false%2C%0A%20%20%20%20%20%20%20%20%20%20%20%20%20%20%20%20%20%20%20%20pluginLayercontrol%3A%20false%2C%0A%20%20%20%20%20%20%20%20%20%20%20%20%20%20%20%20%7D%0A%20%20%20%20%20%20%20%20%20%20%20%20%29%3B%0A%0A%20%20%20%20%20%20%20%20%20%20%20%20%0A%0A%20%20%20%20%20%20%20%20%0A%20%20%20%20%0A%20%20%20%20%20%20%20%20%20%20%20%20var%20tile_layer_2a77e0ffae56451cb3a6e770c3a6aff5%20%3D%20L.tileLayer%28%0A%20%20%20%20%20%20%20%20%20%20%20%20%20%20%20%20%22https%3A//%7Bs%7D.tile.openstreetmap.org/%7Bz%7D/%7Bx%7D/%7By%7D.png%22%2C%0A%20%20%20%20%20%20%20%20%20%20%20%20%20%20%20%20%7B%22attribution%22%3A%20%22Data%20by%20%5Cu0026copy%3B%20%5Cu003ca%20href%3D%5C%22http%3A//openstreetmap.org%5C%22%5Cu003eOpenStreetMap%5Cu003c/a%5Cu003e%2C%20under%20%5Cu003ca%20href%3D%5C%22http%3A//www.openstreetmap.org/copyright%5C%22%5Cu003eODbL%5Cu003c/a%5Cu003e.%22%2C%20%22detectRetina%22%3A%20false%2C%20%22maxNativeZoom%22%3A%2018%2C%20%22maxZoom%22%3A%2018%2C%20%22minZoom%22%3A%200%2C%20%22noWrap%22%3A%20false%2C%20%22opacity%22%3A%201%2C%20%22subdomains%22%3A%20%22abc%22%2C%20%22tms%22%3A%20false%7D%0A%20%20%20%20%20%20%20%20%20%20%20%20%29.addTo%28map_0d09a87d1b01460e9f54e9c6c9564ac1%29%3B%0A%20%20%20%20%20%20%20%20%0A%20%20%20%20%0A%20%20%20%20%20%20%20%20%20%20%20%20var%20tile_layer_75c2b7caec9e4289a1d5638829767604%20%3D%20L.tileLayer%28%0A%20%20%20%20%20%20%20%20%20%20%20%20%20%20%20%20%22https%3A//mt1.google.com/vt/lyrs%3Dm%5Cu0026x%3D%7Bx%7D%5Cu0026y%3D%7By%7D%5Cu0026z%3D%7Bz%7D%22%2C%0A%20%20%20%20%20%20%20%20%20%20%20%20%20%20%20%20%7B%22attribution%22%3A%20%22Google%22%2C%20%22detectRetina%22%3A%20false%2C%20%22maxNativeZoom%22%3A%2018%2C%20%22maxZoom%22%3A%2018%2C%20%22minZoom%22%3A%200%2C%20%22noWrap%22%3A%20false%2C%20%22opacity%22%3A%201%2C%20%22subdomains%22%3A%20%22abc%22%2C%20%22tms%22%3A%20false%7D%0A%20%20%20%20%20%20%20%20%20%20%20%20%29.addTo%28map_0d09a87d1b01460e9f54e9c6c9564ac1%29%3B%0A%20%20%20%20%20%20%20%20%0A%20%20%20%20%0A%20%20%20%20%20%20%20%20%20%20%20%20%20%20%20%20var%20lat_lng_popup_cb18a2fe9c7b4bf1ade7f7e8470aab8b%20%3D%20L.popup%28%29%3B%0A%20%20%20%20%20%20%20%20%20%20%20%20%20%20%20%20function%20latLngPop%28e%29%20%7B%0A%20%20%20%20%20%20%20%20%20%20%20%20%20%20%20%20%20%20%20%20lat_lng_popup_cb18a2fe9c7b4bf1ade7f7e8470aab8b%0A%20%20%20%20%20%20%20%20%20%20%20%20%20%20%20%20%20%20%20%20%20%20%20%20.setLatLng%28e.latlng%29%0A%20%20%20%20%20%20%20%20%20%20%20%20%20%20%20%20%20%20%20%20%20%20%20%20.setContent%28%22Latitude%3A%20%22%20%2B%20e.latlng.lat.toFixed%284%29%20%2B%0A%20%20%20%20%20%20%20%20%20%20%20%20%20%20%20%20%20%20%20%20%20%20%20%20%20%20%20%20%20%20%20%20%20%20%20%20%22%3Cbr%3ELongitude%3A%20%22%20%2B%20e.latlng.lng.toFixed%284%29%29%0A%20%20%20%20%20%20%20%20%20%20%20%20%20%20%20%20%20%20%20%20%20%20%20%20.openOn%28map_0d09a87d1b01460e9f54e9c6c9564ac1%29%3B%0A%20%20%20%20%20%20%20%20%20%20%20%20%20%20%20%20%20%20%20%20%7D%0A%20%20%20%20%20%20%20%20%20%20%20%20%20%20%20%20map_0d09a87d1b01460e9f54e9c6c9564ac1.on%28%27click%27%2C%20latLngPop%29%3B%0A%20%20%20%20%20%20%20%20%20%20%20%20%0A%20%20%20%20%0A%20%20%20%20%20%20%20%20%20%20%20%20L.control.fullscreen%28%0A%20%20%20%20%20%20%20%20%20%20%20%20%20%20%20%20%7B%22forceSeparateButton%22%3A%20false%2C%20%22position%22%3A%20%22topleft%22%2C%20%22title%22%3A%20%22Full%20Screen%22%2C%20%22titleCancel%22%3A%20%22Exit%20Full%20Screen%22%7D%0A%20%20%20%20%20%20%20%20%20%20%20%20%29.addTo%28map_0d09a87d1b01460e9f54e9c6c9564ac1%29%3B%0A%20%20%20%20%20%20%20%20%0A%20%20%20%20%0A%20%20%20%20%20%20%20%20%20%20%20%20map_0d09a87d1b01460e9f54e9c6c9564ac1.fitBounds%28%0A%20%20%20%20%20%20%20%20%20%20%20%20%20%20%20%20%5B%5B32.3%2C%20-90.9%5D%2C%20%5B32.3%2C%20-90.9%5D%5D%2C%0A%20%20%20%20%20%20%20%20%20%20%20%20%20%20%20%20%7B%22maxZoom%22%3A%2011%7D%0A%20%20%20%20%20%20%20%20%20%20%20%20%29%3B%0A%20%20%20%20%20%20%20%20%0A%20%20%20%20%0A%20%20%20%20%20%20%20%20%20%20%20%20var%20tile_layer_395f0598eb804035a3743018b52b93e3%20%3D%20L.tileLayer%28%0A%20%20%20%20%20%20%20%20%20%20%20%20%20%20%20%20%22https%3A//earthengine.googleapis.com/v1alpha/projects/earthengine-legacy/maps/65a6f8299814e46767bf0be9047f0db1-128c95ee4be482cdc583f1e90dc4c455/tiles/%7Bz%7D/%7Bx%7D/%7By%7D%22%2C%0A%20%20%20%20%20%20%20%20%20%20%20%20%20%20%20%20%7B%22attribution%22%3A%20%22Google%20Earth%20Engine%22%2C%20%22detectRetina%22%3A%20false%2C%20%22maxNativeZoom%22%3A%2018%2C%20%22maxZoom%22%3A%2018%2C%20%22minZoom%22%3A%200%2C%20%22noWrap%22%3A%20false%2C%20%22opacity%22%3A%201.0%2C%20%22subdomains%22%3A%20%22abc%22%2C%20%22tms%22%3A%20false%7D%0A%20%20%20%20%20%20%20%20%20%20%20%20%29.addTo%28map_0d09a87d1b01460e9f54e9c6c9564ac1%29%3B%0A%20%20%20%20%20%20%20%20%0A%20%20%20%20%0A%20%20%20%20%20%20%20%20%20%20%20%20var%20layer_control_65b48fa63a5641c39f677b0f103ca05e%20%3D%20%7B%0A%20%20%20%20%20%20%20%20%20%20%20%20%20%20%20%20base_layers%20%3A%20%7B%0A%20%20%20%20%20%20%20%20%20%20%20%20%20%20%20%20%20%20%20%20%22openstreetmap%22%20%3A%20tile_layer_2a77e0ffae56451cb3a6e770c3a6aff5%2C%0A%20%20%20%20%20%20%20%20%20%20%20%20%20%20%20%20%7D%2C%0A%20%20%20%20%20%20%20%20%20%20%20%20%20%20%20%20overlays%20%3A%20%20%7B%0A%20%20%20%20%20%20%20%20%20%20%20%20%20%20%20%20%20%20%20%20%22Google%20Maps%22%20%3A%20tile_layer_75c2b7caec9e4289a1d5638829767604%2C%0A%20%20%20%20%20%20%20%20%20%20%20%20%20%20%20%20%20%20%20%20%22Layer%202019%20Wet%20season%20NDWI%22%20%3A%20tile_layer_395f0598eb804035a3743018b52b93e3%2C%0A%20%20%20%20%20%20%20%20%20%20%20%20%20%20%20%20%7D%2C%0A%20%20%20%20%20%20%20%20%20%20%20%20%7D%3B%0A%20%20%20%20%20%20%20%20%20%20%20%20L.control.layers%28%0A%20%20%20%20%20%20%20%20%20%20%20%20%20%20%20%20layer_control_65b48fa63a5641c39f677b0f103ca05e.base_layers%2C%0A%20%20%20%20%20%20%20%20%20%20%20%20%20%20%20%20layer_control_65b48fa63a5641c39f677b0f103ca05e.overlays%2C%0A%20%20%20%20%20%20%20%20%20%20%20%20%20%20%20%20%7B%22autoZIndex%22%3A%20true%2C%20%22collapsed%22%3A%20true%2C%20%22position%22%3A%20%22topright%22%7D%0A%20%20%20%20%20%20%20%20%20%20%20%20%29.addTo%28map_0d09a87d1b01460e9f54e9c6c9564ac1%29%3B%0A%20%20%20%20%20%20%20%20%0A%3C/script%3E onload=\"this.contentDocument.open();this.contentDocument.write(    decodeURIComponent(this.getAttribute('data-html')));this.contentDocument.close();\" allowfullscreen webkitallowfullscreen mozallowfullscreen></iframe></div></div>"
      ],
      "text/plain": [
       "<geemap.eefolium.Map at 0x7fbdc0600340>"
      ]
     },
     "execution_count": 12,
     "metadata": {},
     "output_type": "execute_result"
    }
   ],
   "source": [
    "dry_season_Map = geemap.Map(center=[32.3,-90.9], zoom= 11)\n",
    "ndwi_dry = dry_season.normalizedDifference(['B3', 'B8']);\n",
    "dry_season_Map.addLayer(ndwi_dry, {'min': -1, 'max': 0.5, 'palette': waterPalette}, '2019 Wet season NDWI');\n",
    "dry_season_Map"
   ]
  },
  {
   "cell_type": "markdown",
   "id": "eaa613b6",
   "metadata": {},
   "source": [
    "### Display Earth Engine the NDWI images with a color palette in Wet Season"
   ]
  },
  {
   "cell_type": "code",
   "execution_count": 13,
   "id": "1120c537",
   "metadata": {},
   "outputs": [
    {
     "data": {
      "text/html": [
       "<div style=\"width:100%;\"><div style=\"position:relative;width:100%;height:0;padding-bottom:60%;\"><span style=\"color:#565656\">Make this Notebook Trusted to load map: File -> Trust Notebook</span><iframe src=\"about:blank\" style=\"position:absolute;width:100%;height:100%;left:0;top:0;border:none !important;\" data-html=%3C%21DOCTYPE%20html%3E%0A%3Chead%3E%20%20%20%20%0A%20%20%20%20%3Cmeta%20http-equiv%3D%22content-type%22%20content%3D%22text/html%3B%20charset%3DUTF-8%22%20/%3E%0A%20%20%20%20%0A%20%20%20%20%20%20%20%20%3Cscript%3E%0A%20%20%20%20%20%20%20%20%20%20%20%20L_NO_TOUCH%20%3D%20false%3B%0A%20%20%20%20%20%20%20%20%20%20%20%20L_DISABLE_3D%20%3D%20false%3B%0A%20%20%20%20%20%20%20%20%3C/script%3E%0A%20%20%20%20%0A%20%20%20%20%3Cstyle%3Ehtml%2C%20body%20%7Bwidth%3A%20100%25%3Bheight%3A%20100%25%3Bmargin%3A%200%3Bpadding%3A%200%3B%7D%3C/style%3E%0A%20%20%20%20%3Cstyle%3E%23map%20%7Bposition%3Aabsolute%3Btop%3A0%3Bbottom%3A0%3Bright%3A0%3Bleft%3A0%3B%7D%3C/style%3E%0A%20%20%20%20%3Cscript%20src%3D%22https%3A//cdn.jsdelivr.net/npm/leaflet%401.6.0/dist/leaflet.js%22%3E%3C/script%3E%0A%20%20%20%20%3Cscript%20src%3D%22https%3A//code.jquery.com/jquery-1.12.4.min.js%22%3E%3C/script%3E%0A%20%20%20%20%3Cscript%20src%3D%22https%3A//maxcdn.bootstrapcdn.com/bootstrap/3.2.0/js/bootstrap.min.js%22%3E%3C/script%3E%0A%20%20%20%20%3Cscript%20src%3D%22https%3A//cdnjs.cloudflare.com/ajax/libs/Leaflet.awesome-markers/2.0.2/leaflet.awesome-markers.js%22%3E%3C/script%3E%0A%20%20%20%20%3Clink%20rel%3D%22stylesheet%22%20href%3D%22https%3A//cdn.jsdelivr.net/npm/leaflet%401.6.0/dist/leaflet.css%22/%3E%0A%20%20%20%20%3Clink%20rel%3D%22stylesheet%22%20href%3D%22https%3A//maxcdn.bootstrapcdn.com/bootstrap/3.2.0/css/bootstrap.min.css%22/%3E%0A%20%20%20%20%3Clink%20rel%3D%22stylesheet%22%20href%3D%22https%3A//maxcdn.bootstrapcdn.com/bootstrap/3.2.0/css/bootstrap-theme.min.css%22/%3E%0A%20%20%20%20%3Clink%20rel%3D%22stylesheet%22%20href%3D%22https%3A//maxcdn.bootstrapcdn.com/font-awesome/4.6.3/css/font-awesome.min.css%22/%3E%0A%20%20%20%20%3Clink%20rel%3D%22stylesheet%22%20href%3D%22https%3A//cdnjs.cloudflare.com/ajax/libs/Leaflet.awesome-markers/2.0.2/leaflet.awesome-markers.css%22/%3E%0A%20%20%20%20%3Clink%20rel%3D%22stylesheet%22%20href%3D%22https%3A//cdn.jsdelivr.net/gh/python-visualization/folium/folium/templates/leaflet.awesome.rotate.min.css%22/%3E%0A%20%20%20%20%0A%20%20%20%20%20%20%20%20%20%20%20%20%3Cmeta%20name%3D%22viewport%22%20content%3D%22width%3Ddevice-width%2C%0A%20%20%20%20%20%20%20%20%20%20%20%20%20%20%20%20initial-scale%3D1.0%2C%20maximum-scale%3D1.0%2C%20user-scalable%3Dno%22%20/%3E%0A%20%20%20%20%20%20%20%20%20%20%20%20%3Cstyle%3E%0A%20%20%20%20%20%20%20%20%20%20%20%20%20%20%20%20%23map_a9ab398fec5f436fbeaaa1301e907bbf%20%7B%0A%20%20%20%20%20%20%20%20%20%20%20%20%20%20%20%20%20%20%20%20position%3A%20relative%3B%0A%20%20%20%20%20%20%20%20%20%20%20%20%20%20%20%20%20%20%20%20width%3A%20100.0%25%3B%0A%20%20%20%20%20%20%20%20%20%20%20%20%20%20%20%20%20%20%20%20height%3A%20100.0%25%3B%0A%20%20%20%20%20%20%20%20%20%20%20%20%20%20%20%20%20%20%20%20left%3A%200.0%25%3B%0A%20%20%20%20%20%20%20%20%20%20%20%20%20%20%20%20%20%20%20%20top%3A%200.0%25%3B%0A%20%20%20%20%20%20%20%20%20%20%20%20%20%20%20%20%7D%0A%20%20%20%20%20%20%20%20%20%20%20%20%3C/style%3E%0A%20%20%20%20%20%20%20%20%0A%20%20%20%20%3Cscript%20src%3D%22https%3A//cdnjs.cloudflare.com/ajax/libs/leaflet.fullscreen/1.4.2/Control.FullScreen.min.js%22%3E%3C/script%3E%0A%20%20%20%20%3Clink%20rel%3D%22stylesheet%22%20href%3D%22https%3A//cdnjs.cloudflare.com/ajax/libs/leaflet.fullscreen/1.4.2/Control.FullScreen.min.css%22/%3E%0A%3C/head%3E%0A%3Cbody%3E%20%20%20%20%0A%20%20%20%20%0A%20%20%20%20%20%20%20%20%20%20%20%20%3Cdiv%20class%3D%22folium-map%22%20id%3D%22map_a9ab398fec5f436fbeaaa1301e907bbf%22%20%3E%3C/div%3E%0A%20%20%20%20%20%20%20%20%0A%3C/body%3E%0A%3Cscript%3E%20%20%20%20%0A%20%20%20%20%0A%20%20%20%20%20%20%20%20%20%20%20%20var%20map_a9ab398fec5f436fbeaaa1301e907bbf%20%3D%20L.map%28%0A%20%20%20%20%20%20%20%20%20%20%20%20%20%20%20%20%22map_a9ab398fec5f436fbeaaa1301e907bbf%22%2C%0A%20%20%20%20%20%20%20%20%20%20%20%20%20%20%20%20%7B%0A%20%20%20%20%20%20%20%20%20%20%20%20%20%20%20%20%20%20%20%20center%3A%20%5B32.3%2C%20-90.9%5D%2C%0A%20%20%20%20%20%20%20%20%20%20%20%20%20%20%20%20%20%20%20%20crs%3A%20L.CRS.EPSG3857%2C%0A%20%20%20%20%20%20%20%20%20%20%20%20%20%20%20%20%20%20%20%20zoom%3A%2011%2C%0A%20%20%20%20%20%20%20%20%20%20%20%20%20%20%20%20%20%20%20%20zoomControl%3A%20true%2C%0A%20%20%20%20%20%20%20%20%20%20%20%20%20%20%20%20%20%20%20%20preferCanvas%3A%20false%2C%0A%20%20%20%20%20%20%20%20%20%20%20%20%20%20%20%20%20%20%20%20eeInitialize%3A%20true%2C%0A%20%20%20%20%20%20%20%20%20%20%20%20%20%20%20%20%20%20%20%20addGoogleMap%3A%20true%2C%0A%20%20%20%20%20%20%20%20%20%20%20%20%20%20%20%20%20%20%20%20pluginLatlngpopup%3A%20true%2C%0A%20%20%20%20%20%20%20%20%20%20%20%20%20%20%20%20%20%20%20%20pluginFullscreen%3A%20true%2C%0A%20%20%20%20%20%20%20%20%20%20%20%20%20%20%20%20%20%20%20%20pluginDraw%3A%20false%2C%0A%20%20%20%20%20%20%20%20%20%20%20%20%20%20%20%20%20%20%20%20DrawExport%3A%20true%2C%0A%20%20%20%20%20%20%20%20%20%20%20%20%20%20%20%20%20%20%20%20pluginMinimap%3A%20false%2C%0A%20%20%20%20%20%20%20%20%20%20%20%20%20%20%20%20%20%20%20%20pluginLayercontrol%3A%20false%2C%0A%20%20%20%20%20%20%20%20%20%20%20%20%20%20%20%20%7D%0A%20%20%20%20%20%20%20%20%20%20%20%20%29%3B%0A%0A%20%20%20%20%20%20%20%20%20%20%20%20%0A%0A%20%20%20%20%20%20%20%20%0A%20%20%20%20%0A%20%20%20%20%20%20%20%20%20%20%20%20var%20tile_layer_199b45ba22d346718e82fbd782268a02%20%3D%20L.tileLayer%28%0A%20%20%20%20%20%20%20%20%20%20%20%20%20%20%20%20%22https%3A//%7Bs%7D.tile.openstreetmap.org/%7Bz%7D/%7Bx%7D/%7By%7D.png%22%2C%0A%20%20%20%20%20%20%20%20%20%20%20%20%20%20%20%20%7B%22attribution%22%3A%20%22Data%20by%20%5Cu0026copy%3B%20%5Cu003ca%20href%3D%5C%22http%3A//openstreetmap.org%5C%22%5Cu003eOpenStreetMap%5Cu003c/a%5Cu003e%2C%20under%20%5Cu003ca%20href%3D%5C%22http%3A//www.openstreetmap.org/copyright%5C%22%5Cu003eODbL%5Cu003c/a%5Cu003e.%22%2C%20%22detectRetina%22%3A%20false%2C%20%22maxNativeZoom%22%3A%2018%2C%20%22maxZoom%22%3A%2018%2C%20%22minZoom%22%3A%200%2C%20%22noWrap%22%3A%20false%2C%20%22opacity%22%3A%201%2C%20%22subdomains%22%3A%20%22abc%22%2C%20%22tms%22%3A%20false%7D%0A%20%20%20%20%20%20%20%20%20%20%20%20%29.addTo%28map_a9ab398fec5f436fbeaaa1301e907bbf%29%3B%0A%20%20%20%20%20%20%20%20%0A%20%20%20%20%0A%20%20%20%20%20%20%20%20%20%20%20%20var%20tile_layer_75c2b7caec9e4289a1d5638829767604%20%3D%20L.tileLayer%28%0A%20%20%20%20%20%20%20%20%20%20%20%20%20%20%20%20%22https%3A//mt1.google.com/vt/lyrs%3Dm%5Cu0026x%3D%7Bx%7D%5Cu0026y%3D%7By%7D%5Cu0026z%3D%7Bz%7D%22%2C%0A%20%20%20%20%20%20%20%20%20%20%20%20%20%20%20%20%7B%22attribution%22%3A%20%22Google%22%2C%20%22detectRetina%22%3A%20false%2C%20%22maxNativeZoom%22%3A%2018%2C%20%22maxZoom%22%3A%2018%2C%20%22minZoom%22%3A%200%2C%20%22noWrap%22%3A%20false%2C%20%22opacity%22%3A%201%2C%20%22subdomains%22%3A%20%22abc%22%2C%20%22tms%22%3A%20false%7D%0A%20%20%20%20%20%20%20%20%20%20%20%20%29.addTo%28map_a9ab398fec5f436fbeaaa1301e907bbf%29%3B%0A%20%20%20%20%20%20%20%20%0A%20%20%20%20%0A%20%20%20%20%20%20%20%20%20%20%20%20%20%20%20%20var%20lat_lng_popup_79eda1a05a394aab90d4f807078fc536%20%3D%20L.popup%28%29%3B%0A%20%20%20%20%20%20%20%20%20%20%20%20%20%20%20%20function%20latLngPop%28e%29%20%7B%0A%20%20%20%20%20%20%20%20%20%20%20%20%20%20%20%20%20%20%20%20lat_lng_popup_79eda1a05a394aab90d4f807078fc536%0A%20%20%20%20%20%20%20%20%20%20%20%20%20%20%20%20%20%20%20%20%20%20%20%20.setLatLng%28e.latlng%29%0A%20%20%20%20%20%20%20%20%20%20%20%20%20%20%20%20%20%20%20%20%20%20%20%20.setContent%28%22Latitude%3A%20%22%20%2B%20e.latlng.lat.toFixed%284%29%20%2B%0A%20%20%20%20%20%20%20%20%20%20%20%20%20%20%20%20%20%20%20%20%20%20%20%20%20%20%20%20%20%20%20%20%20%20%20%20%22%3Cbr%3ELongitude%3A%20%22%20%2B%20e.latlng.lng.toFixed%284%29%29%0A%20%20%20%20%20%20%20%20%20%20%20%20%20%20%20%20%20%20%20%20%20%20%20%20.openOn%28map_a9ab398fec5f436fbeaaa1301e907bbf%29%3B%0A%20%20%20%20%20%20%20%20%20%20%20%20%20%20%20%20%20%20%20%20%7D%0A%20%20%20%20%20%20%20%20%20%20%20%20%20%20%20%20map_a9ab398fec5f436fbeaaa1301e907bbf.on%28%27click%27%2C%20latLngPop%29%3B%0A%20%20%20%20%20%20%20%20%20%20%20%20%0A%20%20%20%20%0A%20%20%20%20%20%20%20%20%20%20%20%20L.control.fullscreen%28%0A%20%20%20%20%20%20%20%20%20%20%20%20%20%20%20%20%7B%22forceSeparateButton%22%3A%20false%2C%20%22position%22%3A%20%22topleft%22%2C%20%22title%22%3A%20%22Full%20Screen%22%2C%20%22titleCancel%22%3A%20%22Exit%20Full%20Screen%22%7D%0A%20%20%20%20%20%20%20%20%20%20%20%20%29.addTo%28map_a9ab398fec5f436fbeaaa1301e907bbf%29%3B%0A%20%20%20%20%20%20%20%20%0A%20%20%20%20%0A%20%20%20%20%20%20%20%20%20%20%20%20map_a9ab398fec5f436fbeaaa1301e907bbf.fitBounds%28%0A%20%20%20%20%20%20%20%20%20%20%20%20%20%20%20%20%5B%5B32.3%2C%20-90.9%5D%2C%20%5B32.3%2C%20-90.9%5D%5D%2C%0A%20%20%20%20%20%20%20%20%20%20%20%20%20%20%20%20%7B%22maxZoom%22%3A%2011%7D%0A%20%20%20%20%20%20%20%20%20%20%20%20%29%3B%0A%20%20%20%20%20%20%20%20%0A%20%20%20%20%0A%20%20%20%20%20%20%20%20%20%20%20%20var%20tile_layer_0d89399afb58410ea7b1e1f93ca518ce%20%3D%20L.tileLayer%28%0A%20%20%20%20%20%20%20%20%20%20%20%20%20%20%20%20%22https%3A//earthengine.googleapis.com/v1alpha/projects/earthengine-legacy/maps/abba767aab2488e5aed438f1b0c6af0f-2c8deeeb6b0aa65ad813e57c7abd2601/tiles/%7Bz%7D/%7Bx%7D/%7By%7D%22%2C%0A%20%20%20%20%20%20%20%20%20%20%20%20%20%20%20%20%7B%22attribution%22%3A%20%22Google%20Earth%20Engine%22%2C%20%22detectRetina%22%3A%20false%2C%20%22maxNativeZoom%22%3A%2018%2C%20%22maxZoom%22%3A%2018%2C%20%22minZoom%22%3A%200%2C%20%22noWrap%22%3A%20false%2C%20%22opacity%22%3A%201.0%2C%20%22subdomains%22%3A%20%22abc%22%2C%20%22tms%22%3A%20false%7D%0A%20%20%20%20%20%20%20%20%20%20%20%20%29.addTo%28map_a9ab398fec5f436fbeaaa1301e907bbf%29%3B%0A%20%20%20%20%20%20%20%20%0A%20%20%20%20%0A%20%20%20%20%20%20%20%20%20%20%20%20var%20layer_control_04854829ac4d4092b28488f388d625e1%20%3D%20%7B%0A%20%20%20%20%20%20%20%20%20%20%20%20%20%20%20%20base_layers%20%3A%20%7B%0A%20%20%20%20%20%20%20%20%20%20%20%20%20%20%20%20%20%20%20%20%22openstreetmap%22%20%3A%20tile_layer_199b45ba22d346718e82fbd782268a02%2C%0A%20%20%20%20%20%20%20%20%20%20%20%20%20%20%20%20%7D%2C%0A%20%20%20%20%20%20%20%20%20%20%20%20%20%20%20%20overlays%20%3A%20%20%7B%0A%20%20%20%20%20%20%20%20%20%20%20%20%20%20%20%20%20%20%20%20%22Google%20Maps%22%20%3A%20tile_layer_75c2b7caec9e4289a1d5638829767604%2C%0A%20%20%20%20%20%20%20%20%20%20%20%20%20%20%20%20%20%20%20%20%22Layer%202019%20Wet%20season%20NDWI%22%20%3A%20tile_layer_0d89399afb58410ea7b1e1f93ca518ce%2C%0A%20%20%20%20%20%20%20%20%20%20%20%20%20%20%20%20%7D%2C%0A%20%20%20%20%20%20%20%20%20%20%20%20%7D%3B%0A%20%20%20%20%20%20%20%20%20%20%20%20L.control.layers%28%0A%20%20%20%20%20%20%20%20%20%20%20%20%20%20%20%20layer_control_04854829ac4d4092b28488f388d625e1.base_layers%2C%0A%20%20%20%20%20%20%20%20%20%20%20%20%20%20%20%20layer_control_04854829ac4d4092b28488f388d625e1.overlays%2C%0A%20%20%20%20%20%20%20%20%20%20%20%20%20%20%20%20%7B%22autoZIndex%22%3A%20true%2C%20%22collapsed%22%3A%20true%2C%20%22position%22%3A%20%22topright%22%7D%0A%20%20%20%20%20%20%20%20%20%20%20%20%29.addTo%28map_a9ab398fec5f436fbeaaa1301e907bbf%29%3B%0A%20%20%20%20%20%20%20%20%0A%3C/script%3E onload=\"this.contentDocument.open();this.contentDocument.write(    decodeURIComponent(this.getAttribute('data-html')));this.contentDocument.close();\" allowfullscreen webkitallowfullscreen mozallowfullscreen></iframe></div></div>"
      ],
      "text/plain": [
       "<geemap.eefolium.Map at 0x7fbdc0600a90>"
      ]
     },
     "execution_count": 13,
     "metadata": {},
     "output_type": "execute_result"
    }
   ],
   "source": [
    "wet_season_Map = geemap.Map(center=[32.3,-90.9], zoom= 11)\n",
    "ndwi_wet = wet_season.normalizedDifference(['B3', 'B8']);\n",
    "wet_season_Map.addLayer(ndwi_wet, {'min': -1, 'max': 0.5, 'palette': waterPalette}, '2019 Wet season NDWI');\n",
    "wet_season_Map"
   ]
  },
  {
   "cell_type": "markdown",
   "id": "4359b9c5",
   "metadata": {},
   "source": [
    "# Extract Water Pixels"
   ]
  },
  {
   "cell_type": "code",
   "execution_count": 14,
   "id": "095e67ab",
   "metadata": {},
   "outputs": [],
   "source": [
    "water_Map = geemap.Map(center=[32.3,-90.9], zoom= 11)"
   ]
  },
  {
   "cell_type": "code",
   "execution_count": 15,
   "id": "da53944d",
   "metadata": {},
   "outputs": [],
   "source": [
    "ndwi_threshold = 0\n",
    "water_image = ndwi_wet.gt(ndwi_threshold).selfMask()"
   ]
  },
  {
   "cell_type": "code",
   "execution_count": 16,
   "id": "1bf4bded",
   "metadata": {},
   "outputs": [],
   "source": [
    "water_Map.addLayer(water_image, {'palette': 'blue'}, 'Water image')"
   ]
  },
  {
   "cell_type": "code",
   "execution_count": 17,
   "id": "f4b932e6",
   "metadata": {},
   "outputs": [
    {
     "data": {
      "text/html": [
       "<div style=\"width:100%;\"><div style=\"position:relative;width:100%;height:0;padding-bottom:60%;\"><span style=\"color:#565656\">Make this Notebook Trusted to load map: File -> Trust Notebook</span><iframe src=\"about:blank\" style=\"position:absolute;width:100%;height:100%;left:0;top:0;border:none !important;\" data-html=%3C%21DOCTYPE%20html%3E%0A%3Chead%3E%20%20%20%20%0A%20%20%20%20%3Cmeta%20http-equiv%3D%22content-type%22%20content%3D%22text/html%3B%20charset%3DUTF-8%22%20/%3E%0A%20%20%20%20%0A%20%20%20%20%20%20%20%20%3Cscript%3E%0A%20%20%20%20%20%20%20%20%20%20%20%20L_NO_TOUCH%20%3D%20false%3B%0A%20%20%20%20%20%20%20%20%20%20%20%20L_DISABLE_3D%20%3D%20false%3B%0A%20%20%20%20%20%20%20%20%3C/script%3E%0A%20%20%20%20%0A%20%20%20%20%3Cstyle%3Ehtml%2C%20body%20%7Bwidth%3A%20100%25%3Bheight%3A%20100%25%3Bmargin%3A%200%3Bpadding%3A%200%3B%7D%3C/style%3E%0A%20%20%20%20%3Cstyle%3E%23map%20%7Bposition%3Aabsolute%3Btop%3A0%3Bbottom%3A0%3Bright%3A0%3Bleft%3A0%3B%7D%3C/style%3E%0A%20%20%20%20%3Cscript%20src%3D%22https%3A//cdn.jsdelivr.net/npm/leaflet%401.6.0/dist/leaflet.js%22%3E%3C/script%3E%0A%20%20%20%20%3Cscript%20src%3D%22https%3A//code.jquery.com/jquery-1.12.4.min.js%22%3E%3C/script%3E%0A%20%20%20%20%3Cscript%20src%3D%22https%3A//maxcdn.bootstrapcdn.com/bootstrap/3.2.0/js/bootstrap.min.js%22%3E%3C/script%3E%0A%20%20%20%20%3Cscript%20src%3D%22https%3A//cdnjs.cloudflare.com/ajax/libs/Leaflet.awesome-markers/2.0.2/leaflet.awesome-markers.js%22%3E%3C/script%3E%0A%20%20%20%20%3Clink%20rel%3D%22stylesheet%22%20href%3D%22https%3A//cdn.jsdelivr.net/npm/leaflet%401.6.0/dist/leaflet.css%22/%3E%0A%20%20%20%20%3Clink%20rel%3D%22stylesheet%22%20href%3D%22https%3A//maxcdn.bootstrapcdn.com/bootstrap/3.2.0/css/bootstrap.min.css%22/%3E%0A%20%20%20%20%3Clink%20rel%3D%22stylesheet%22%20href%3D%22https%3A//maxcdn.bootstrapcdn.com/bootstrap/3.2.0/css/bootstrap-theme.min.css%22/%3E%0A%20%20%20%20%3Clink%20rel%3D%22stylesheet%22%20href%3D%22https%3A//maxcdn.bootstrapcdn.com/font-awesome/4.6.3/css/font-awesome.min.css%22/%3E%0A%20%20%20%20%3Clink%20rel%3D%22stylesheet%22%20href%3D%22https%3A//cdnjs.cloudflare.com/ajax/libs/Leaflet.awesome-markers/2.0.2/leaflet.awesome-markers.css%22/%3E%0A%20%20%20%20%3Clink%20rel%3D%22stylesheet%22%20href%3D%22https%3A//cdn.jsdelivr.net/gh/python-visualization/folium/folium/templates/leaflet.awesome.rotate.min.css%22/%3E%0A%20%20%20%20%0A%20%20%20%20%20%20%20%20%20%20%20%20%3Cmeta%20name%3D%22viewport%22%20content%3D%22width%3Ddevice-width%2C%0A%20%20%20%20%20%20%20%20%20%20%20%20%20%20%20%20initial-scale%3D1.0%2C%20maximum-scale%3D1.0%2C%20user-scalable%3Dno%22%20/%3E%0A%20%20%20%20%20%20%20%20%20%20%20%20%3Cstyle%3E%0A%20%20%20%20%20%20%20%20%20%20%20%20%20%20%20%20%23map_0893c87ad0874206bf39bc9cfc1ad57a%20%7B%0A%20%20%20%20%20%20%20%20%20%20%20%20%20%20%20%20%20%20%20%20position%3A%20relative%3B%0A%20%20%20%20%20%20%20%20%20%20%20%20%20%20%20%20%20%20%20%20width%3A%20100.0%25%3B%0A%20%20%20%20%20%20%20%20%20%20%20%20%20%20%20%20%20%20%20%20height%3A%20100.0%25%3B%0A%20%20%20%20%20%20%20%20%20%20%20%20%20%20%20%20%20%20%20%20left%3A%200.0%25%3B%0A%20%20%20%20%20%20%20%20%20%20%20%20%20%20%20%20%20%20%20%20top%3A%200.0%25%3B%0A%20%20%20%20%20%20%20%20%20%20%20%20%20%20%20%20%7D%0A%20%20%20%20%20%20%20%20%20%20%20%20%3C/style%3E%0A%20%20%20%20%20%20%20%20%0A%20%20%20%20%3Cscript%20src%3D%22https%3A//cdnjs.cloudflare.com/ajax/libs/leaflet.fullscreen/1.4.2/Control.FullScreen.min.js%22%3E%3C/script%3E%0A%20%20%20%20%3Clink%20rel%3D%22stylesheet%22%20href%3D%22https%3A//cdnjs.cloudflare.com/ajax/libs/leaflet.fullscreen/1.4.2/Control.FullScreen.min.css%22/%3E%0A%3C/head%3E%0A%3Cbody%3E%20%20%20%20%0A%20%20%20%20%0A%20%20%20%20%20%20%20%20%20%20%20%20%3Cdiv%20class%3D%22folium-map%22%20id%3D%22map_0893c87ad0874206bf39bc9cfc1ad57a%22%20%3E%3C/div%3E%0A%20%20%20%20%20%20%20%20%0A%3C/body%3E%0A%3Cscript%3E%20%20%20%20%0A%20%20%20%20%0A%20%20%20%20%20%20%20%20%20%20%20%20var%20map_0893c87ad0874206bf39bc9cfc1ad57a%20%3D%20L.map%28%0A%20%20%20%20%20%20%20%20%20%20%20%20%20%20%20%20%22map_0893c87ad0874206bf39bc9cfc1ad57a%22%2C%0A%20%20%20%20%20%20%20%20%20%20%20%20%20%20%20%20%7B%0A%20%20%20%20%20%20%20%20%20%20%20%20%20%20%20%20%20%20%20%20center%3A%20%5B32.3%2C%20-90.9%5D%2C%0A%20%20%20%20%20%20%20%20%20%20%20%20%20%20%20%20%20%20%20%20crs%3A%20L.CRS.EPSG3857%2C%0A%20%20%20%20%20%20%20%20%20%20%20%20%20%20%20%20%20%20%20%20zoom%3A%2011%2C%0A%20%20%20%20%20%20%20%20%20%20%20%20%20%20%20%20%20%20%20%20zoomControl%3A%20true%2C%0A%20%20%20%20%20%20%20%20%20%20%20%20%20%20%20%20%20%20%20%20preferCanvas%3A%20false%2C%0A%20%20%20%20%20%20%20%20%20%20%20%20%20%20%20%20%20%20%20%20eeInitialize%3A%20true%2C%0A%20%20%20%20%20%20%20%20%20%20%20%20%20%20%20%20%20%20%20%20addGoogleMap%3A%20true%2C%0A%20%20%20%20%20%20%20%20%20%20%20%20%20%20%20%20%20%20%20%20pluginLatlngpopup%3A%20true%2C%0A%20%20%20%20%20%20%20%20%20%20%20%20%20%20%20%20%20%20%20%20pluginFullscreen%3A%20true%2C%0A%20%20%20%20%20%20%20%20%20%20%20%20%20%20%20%20%20%20%20%20pluginDraw%3A%20false%2C%0A%20%20%20%20%20%20%20%20%20%20%20%20%20%20%20%20%20%20%20%20DrawExport%3A%20true%2C%0A%20%20%20%20%20%20%20%20%20%20%20%20%20%20%20%20%20%20%20%20pluginMinimap%3A%20false%2C%0A%20%20%20%20%20%20%20%20%20%20%20%20%20%20%20%20%20%20%20%20pluginLayercontrol%3A%20false%2C%0A%20%20%20%20%20%20%20%20%20%20%20%20%20%20%20%20%7D%0A%20%20%20%20%20%20%20%20%20%20%20%20%29%3B%0A%0A%20%20%20%20%20%20%20%20%20%20%20%20%0A%0A%20%20%20%20%20%20%20%20%0A%20%20%20%20%0A%20%20%20%20%20%20%20%20%20%20%20%20var%20tile_layer_9490c3db13b943b3a550df7efd7a305b%20%3D%20L.tileLayer%28%0A%20%20%20%20%20%20%20%20%20%20%20%20%20%20%20%20%22https%3A//%7Bs%7D.tile.openstreetmap.org/%7Bz%7D/%7Bx%7D/%7By%7D.png%22%2C%0A%20%20%20%20%20%20%20%20%20%20%20%20%20%20%20%20%7B%22attribution%22%3A%20%22Data%20by%20%5Cu0026copy%3B%20%5Cu003ca%20href%3D%5C%22http%3A//openstreetmap.org%5C%22%5Cu003eOpenStreetMap%5Cu003c/a%5Cu003e%2C%20under%20%5Cu003ca%20href%3D%5C%22http%3A//www.openstreetmap.org/copyright%5C%22%5Cu003eODbL%5Cu003c/a%5Cu003e.%22%2C%20%22detectRetina%22%3A%20false%2C%20%22maxNativeZoom%22%3A%2018%2C%20%22maxZoom%22%3A%2018%2C%20%22minZoom%22%3A%200%2C%20%22noWrap%22%3A%20false%2C%20%22opacity%22%3A%201%2C%20%22subdomains%22%3A%20%22abc%22%2C%20%22tms%22%3A%20false%7D%0A%20%20%20%20%20%20%20%20%20%20%20%20%29.addTo%28map_0893c87ad0874206bf39bc9cfc1ad57a%29%3B%0A%20%20%20%20%20%20%20%20%0A%20%20%20%20%0A%20%20%20%20%20%20%20%20%20%20%20%20var%20tile_layer_75c2b7caec9e4289a1d5638829767604%20%3D%20L.tileLayer%28%0A%20%20%20%20%20%20%20%20%20%20%20%20%20%20%20%20%22https%3A//mt1.google.com/vt/lyrs%3Dm%5Cu0026x%3D%7Bx%7D%5Cu0026y%3D%7By%7D%5Cu0026z%3D%7Bz%7D%22%2C%0A%20%20%20%20%20%20%20%20%20%20%20%20%20%20%20%20%7B%22attribution%22%3A%20%22Google%22%2C%20%22detectRetina%22%3A%20false%2C%20%22maxNativeZoom%22%3A%2018%2C%20%22maxZoom%22%3A%2018%2C%20%22minZoom%22%3A%200%2C%20%22noWrap%22%3A%20false%2C%20%22opacity%22%3A%201%2C%20%22subdomains%22%3A%20%22abc%22%2C%20%22tms%22%3A%20false%7D%0A%20%20%20%20%20%20%20%20%20%20%20%20%29.addTo%28map_0893c87ad0874206bf39bc9cfc1ad57a%29%3B%0A%20%20%20%20%20%20%20%20%0A%20%20%20%20%0A%20%20%20%20%20%20%20%20%20%20%20%20%20%20%20%20var%20lat_lng_popup_be99bd0c27f34e2b80671add9287b8ab%20%3D%20L.popup%28%29%3B%0A%20%20%20%20%20%20%20%20%20%20%20%20%20%20%20%20function%20latLngPop%28e%29%20%7B%0A%20%20%20%20%20%20%20%20%20%20%20%20%20%20%20%20%20%20%20%20lat_lng_popup_be99bd0c27f34e2b80671add9287b8ab%0A%20%20%20%20%20%20%20%20%20%20%20%20%20%20%20%20%20%20%20%20%20%20%20%20.setLatLng%28e.latlng%29%0A%20%20%20%20%20%20%20%20%20%20%20%20%20%20%20%20%20%20%20%20%20%20%20%20.setContent%28%22Latitude%3A%20%22%20%2B%20e.latlng.lat.toFixed%284%29%20%2B%0A%20%20%20%20%20%20%20%20%20%20%20%20%20%20%20%20%20%20%20%20%20%20%20%20%20%20%20%20%20%20%20%20%20%20%20%20%22%3Cbr%3ELongitude%3A%20%22%20%2B%20e.latlng.lng.toFixed%284%29%29%0A%20%20%20%20%20%20%20%20%20%20%20%20%20%20%20%20%20%20%20%20%20%20%20%20.openOn%28map_0893c87ad0874206bf39bc9cfc1ad57a%29%3B%0A%20%20%20%20%20%20%20%20%20%20%20%20%20%20%20%20%20%20%20%20%7D%0A%20%20%20%20%20%20%20%20%20%20%20%20%20%20%20%20map_0893c87ad0874206bf39bc9cfc1ad57a.on%28%27click%27%2C%20latLngPop%29%3B%0A%20%20%20%20%20%20%20%20%20%20%20%20%0A%20%20%20%20%0A%20%20%20%20%20%20%20%20%20%20%20%20L.control.fullscreen%28%0A%20%20%20%20%20%20%20%20%20%20%20%20%20%20%20%20%7B%22forceSeparateButton%22%3A%20false%2C%20%22position%22%3A%20%22topleft%22%2C%20%22title%22%3A%20%22Full%20Screen%22%2C%20%22titleCancel%22%3A%20%22Exit%20Full%20Screen%22%7D%0A%20%20%20%20%20%20%20%20%20%20%20%20%29.addTo%28map_0893c87ad0874206bf39bc9cfc1ad57a%29%3B%0A%20%20%20%20%20%20%20%20%0A%20%20%20%20%0A%20%20%20%20%20%20%20%20%20%20%20%20map_0893c87ad0874206bf39bc9cfc1ad57a.fitBounds%28%0A%20%20%20%20%20%20%20%20%20%20%20%20%20%20%20%20%5B%5B32.3%2C%20-90.9%5D%2C%20%5B32.3%2C%20-90.9%5D%5D%2C%0A%20%20%20%20%20%20%20%20%20%20%20%20%20%20%20%20%7B%22maxZoom%22%3A%2011%7D%0A%20%20%20%20%20%20%20%20%20%20%20%20%29%3B%0A%20%20%20%20%20%20%20%20%0A%20%20%20%20%0A%20%20%20%20%20%20%20%20%20%20%20%20var%20tile_layer_a3de3a019bbc421d8a80423c12a0ad16%20%3D%20L.tileLayer%28%0A%20%20%20%20%20%20%20%20%20%20%20%20%20%20%20%20%22https%3A//earthengine.googleapis.com/v1alpha/projects/earthengine-legacy/maps/03d2633004d21c52bad913f5a85cbee0-74b9c35d42ec8022c8a2bf70781c9cc2/tiles/%7Bz%7D/%7Bx%7D/%7By%7D%22%2C%0A%20%20%20%20%20%20%20%20%20%20%20%20%20%20%20%20%7B%22attribution%22%3A%20%22Google%20Earth%20Engine%22%2C%20%22detectRetina%22%3A%20false%2C%20%22maxNativeZoom%22%3A%2018%2C%20%22maxZoom%22%3A%2018%2C%20%22minZoom%22%3A%200%2C%20%22noWrap%22%3A%20false%2C%20%22opacity%22%3A%201.0%2C%20%22subdomains%22%3A%20%22abc%22%2C%20%22tms%22%3A%20false%7D%0A%20%20%20%20%20%20%20%20%20%20%20%20%29.addTo%28map_0893c87ad0874206bf39bc9cfc1ad57a%29%3B%0A%20%20%20%20%20%20%20%20%0A%20%20%20%20%0A%20%20%20%20%20%20%20%20%20%20%20%20var%20layer_control_24cc1b837a444782b6ce192860c075b7%20%3D%20%7B%0A%20%20%20%20%20%20%20%20%20%20%20%20%20%20%20%20base_layers%20%3A%20%7B%0A%20%20%20%20%20%20%20%20%20%20%20%20%20%20%20%20%20%20%20%20%22openstreetmap%22%20%3A%20tile_layer_9490c3db13b943b3a550df7efd7a305b%2C%0A%20%20%20%20%20%20%20%20%20%20%20%20%20%20%20%20%7D%2C%0A%20%20%20%20%20%20%20%20%20%20%20%20%20%20%20%20overlays%20%3A%20%20%7B%0A%20%20%20%20%20%20%20%20%20%20%20%20%20%20%20%20%20%20%20%20%22Google%20Maps%22%20%3A%20tile_layer_75c2b7caec9e4289a1d5638829767604%2C%0A%20%20%20%20%20%20%20%20%20%20%20%20%20%20%20%20%20%20%20%20%22Water%20image%22%20%3A%20tile_layer_a3de3a019bbc421d8a80423c12a0ad16%2C%0A%20%20%20%20%20%20%20%20%20%20%20%20%20%20%20%20%7D%2C%0A%20%20%20%20%20%20%20%20%20%20%20%20%7D%3B%0A%20%20%20%20%20%20%20%20%20%20%20%20L.control.layers%28%0A%20%20%20%20%20%20%20%20%20%20%20%20%20%20%20%20layer_control_24cc1b837a444782b6ce192860c075b7.base_layers%2C%0A%20%20%20%20%20%20%20%20%20%20%20%20%20%20%20%20layer_control_24cc1b837a444782b6ce192860c075b7.overlays%2C%0A%20%20%20%20%20%20%20%20%20%20%20%20%20%20%20%20%7B%22autoZIndex%22%3A%20true%2C%20%22collapsed%22%3A%20true%2C%20%22position%22%3A%20%22topright%22%7D%0A%20%20%20%20%20%20%20%20%20%20%20%20%29.addTo%28map_0893c87ad0874206bf39bc9cfc1ad57a%29%3B%0A%20%20%20%20%20%20%20%20%0A%3C/script%3E onload=\"this.contentDocument.open();this.contentDocument.write(    decodeURIComponent(this.getAttribute('data-html')));this.contentDocument.close();\" allowfullscreen webkitallowfullscreen mozallowfullscreen></iframe></div></div>"
      ],
      "text/plain": [
       "<geemap.eefolium.Map at 0x7fbdc06130d0>"
      ]
     },
     "execution_count": 17,
     "metadata": {},
     "output_type": "execute_result"
    }
   ],
   "source": [
    "water_Map"
   ]
  },
  {
   "cell_type": "markdown",
   "id": "b991747f",
   "metadata": {},
   "source": [
    "# Transfer from Raster to Vector"
   ]
  },
  {
   "cell_type": "code",
   "execution_count": 18,
   "id": "417631ef",
   "metadata": {},
   "outputs": [],
   "source": [
    "vector_Map = geemap.Map(center=[32.3,-90.9], zoom= 11)"
   ]
  },
  {
   "cell_type": "code",
   "execution_count": 19,
   "id": "f66650da",
   "metadata": {
    "scrolled": false
   },
   "outputs": [
    {
     "data": {
      "text/html": [
       "<div style=\"width:100%;\"><div style=\"position:relative;width:100%;height:0;padding-bottom:60%;\"><span style=\"color:#565656\">Make this Notebook Trusted to load map: File -> Trust Notebook</span><iframe src=\"about:blank\" style=\"position:absolute;width:100%;height:100%;left:0;top:0;border:none !important;\" data-html=%3C%21DOCTYPE%20html%3E%0A%3Chead%3E%20%20%20%20%0A%20%20%20%20%3Cmeta%20http-equiv%3D%22content-type%22%20content%3D%22text/html%3B%20charset%3DUTF-8%22%20/%3E%0A%20%20%20%20%0A%20%20%20%20%20%20%20%20%3Cscript%3E%0A%20%20%20%20%20%20%20%20%20%20%20%20L_NO_TOUCH%20%3D%20false%3B%0A%20%20%20%20%20%20%20%20%20%20%20%20L_DISABLE_3D%20%3D%20false%3B%0A%20%20%20%20%20%20%20%20%3C/script%3E%0A%20%20%20%20%0A%20%20%20%20%3Cstyle%3Ehtml%2C%20body%20%7Bwidth%3A%20100%25%3Bheight%3A%20100%25%3Bmargin%3A%200%3Bpadding%3A%200%3B%7D%3C/style%3E%0A%20%20%20%20%3Cstyle%3E%23map%20%7Bposition%3Aabsolute%3Btop%3A0%3Bbottom%3A0%3Bright%3A0%3Bleft%3A0%3B%7D%3C/style%3E%0A%20%20%20%20%3Cscript%20src%3D%22https%3A//cdn.jsdelivr.net/npm/leaflet%401.6.0/dist/leaflet.js%22%3E%3C/script%3E%0A%20%20%20%20%3Cscript%20src%3D%22https%3A//code.jquery.com/jquery-1.12.4.min.js%22%3E%3C/script%3E%0A%20%20%20%20%3Cscript%20src%3D%22https%3A//maxcdn.bootstrapcdn.com/bootstrap/3.2.0/js/bootstrap.min.js%22%3E%3C/script%3E%0A%20%20%20%20%3Cscript%20src%3D%22https%3A//cdnjs.cloudflare.com/ajax/libs/Leaflet.awesome-markers/2.0.2/leaflet.awesome-markers.js%22%3E%3C/script%3E%0A%20%20%20%20%3Clink%20rel%3D%22stylesheet%22%20href%3D%22https%3A//cdn.jsdelivr.net/npm/leaflet%401.6.0/dist/leaflet.css%22/%3E%0A%20%20%20%20%3Clink%20rel%3D%22stylesheet%22%20href%3D%22https%3A//maxcdn.bootstrapcdn.com/bootstrap/3.2.0/css/bootstrap.min.css%22/%3E%0A%20%20%20%20%3Clink%20rel%3D%22stylesheet%22%20href%3D%22https%3A//maxcdn.bootstrapcdn.com/bootstrap/3.2.0/css/bootstrap-theme.min.css%22/%3E%0A%20%20%20%20%3Clink%20rel%3D%22stylesheet%22%20href%3D%22https%3A//maxcdn.bootstrapcdn.com/font-awesome/4.6.3/css/font-awesome.min.css%22/%3E%0A%20%20%20%20%3Clink%20rel%3D%22stylesheet%22%20href%3D%22https%3A//cdnjs.cloudflare.com/ajax/libs/Leaflet.awesome-markers/2.0.2/leaflet.awesome-markers.css%22/%3E%0A%20%20%20%20%3Clink%20rel%3D%22stylesheet%22%20href%3D%22https%3A//cdn.jsdelivr.net/gh/python-visualization/folium/folium/templates/leaflet.awesome.rotate.min.css%22/%3E%0A%20%20%20%20%0A%20%20%20%20%20%20%20%20%20%20%20%20%3Cmeta%20name%3D%22viewport%22%20content%3D%22width%3Ddevice-width%2C%0A%20%20%20%20%20%20%20%20%20%20%20%20%20%20%20%20initial-scale%3D1.0%2C%20maximum-scale%3D1.0%2C%20user-scalable%3Dno%22%20/%3E%0A%20%20%20%20%20%20%20%20%20%20%20%20%3Cstyle%3E%0A%20%20%20%20%20%20%20%20%20%20%20%20%20%20%20%20%23map_f8dbfb31c01d4cfdb936ca9483d1c2a2%20%7B%0A%20%20%20%20%20%20%20%20%20%20%20%20%20%20%20%20%20%20%20%20position%3A%20relative%3B%0A%20%20%20%20%20%20%20%20%20%20%20%20%20%20%20%20%20%20%20%20width%3A%20100.0%25%3B%0A%20%20%20%20%20%20%20%20%20%20%20%20%20%20%20%20%20%20%20%20height%3A%20100.0%25%3B%0A%20%20%20%20%20%20%20%20%20%20%20%20%20%20%20%20%20%20%20%20left%3A%200.0%25%3B%0A%20%20%20%20%20%20%20%20%20%20%20%20%20%20%20%20%20%20%20%20top%3A%200.0%25%3B%0A%20%20%20%20%20%20%20%20%20%20%20%20%20%20%20%20%7D%0A%20%20%20%20%20%20%20%20%20%20%20%20%3C/style%3E%0A%20%20%20%20%20%20%20%20%0A%20%20%20%20%3Cscript%20src%3D%22https%3A//cdnjs.cloudflare.com/ajax/libs/leaflet.fullscreen/1.4.2/Control.FullScreen.min.js%22%3E%3C/script%3E%0A%20%20%20%20%3Clink%20rel%3D%22stylesheet%22%20href%3D%22https%3A//cdnjs.cloudflare.com/ajax/libs/leaflet.fullscreen/1.4.2/Control.FullScreen.min.css%22/%3E%0A%3C/head%3E%0A%3Cbody%3E%20%20%20%20%0A%20%20%20%20%0A%20%20%20%20%20%20%20%20%20%20%20%20%3Cdiv%20class%3D%22folium-map%22%20id%3D%22map_f8dbfb31c01d4cfdb936ca9483d1c2a2%22%20%3E%3C/div%3E%0A%20%20%20%20%20%20%20%20%0A%3C/body%3E%0A%3Cscript%3E%20%20%20%20%0A%20%20%20%20%0A%20%20%20%20%20%20%20%20%20%20%20%20var%20map_f8dbfb31c01d4cfdb936ca9483d1c2a2%20%3D%20L.map%28%0A%20%20%20%20%20%20%20%20%20%20%20%20%20%20%20%20%22map_f8dbfb31c01d4cfdb936ca9483d1c2a2%22%2C%0A%20%20%20%20%20%20%20%20%20%20%20%20%20%20%20%20%7B%0A%20%20%20%20%20%20%20%20%20%20%20%20%20%20%20%20%20%20%20%20center%3A%20%5B32.3%2C%20-90.9%5D%2C%0A%20%20%20%20%20%20%20%20%20%20%20%20%20%20%20%20%20%20%20%20crs%3A%20L.CRS.EPSG3857%2C%0A%20%20%20%20%20%20%20%20%20%20%20%20%20%20%20%20%20%20%20%20zoom%3A%2011%2C%0A%20%20%20%20%20%20%20%20%20%20%20%20%20%20%20%20%20%20%20%20zoomControl%3A%20true%2C%0A%20%20%20%20%20%20%20%20%20%20%20%20%20%20%20%20%20%20%20%20preferCanvas%3A%20false%2C%0A%20%20%20%20%20%20%20%20%20%20%20%20%20%20%20%20%20%20%20%20eeInitialize%3A%20true%2C%0A%20%20%20%20%20%20%20%20%20%20%20%20%20%20%20%20%20%20%20%20addGoogleMap%3A%20true%2C%0A%20%20%20%20%20%20%20%20%20%20%20%20%20%20%20%20%20%20%20%20pluginLatlngpopup%3A%20true%2C%0A%20%20%20%20%20%20%20%20%20%20%20%20%20%20%20%20%20%20%20%20pluginFullscreen%3A%20true%2C%0A%20%20%20%20%20%20%20%20%20%20%20%20%20%20%20%20%20%20%20%20pluginDraw%3A%20false%2C%0A%20%20%20%20%20%20%20%20%20%20%20%20%20%20%20%20%20%20%20%20DrawExport%3A%20true%2C%0A%20%20%20%20%20%20%20%20%20%20%20%20%20%20%20%20%20%20%20%20pluginMinimap%3A%20false%2C%0A%20%20%20%20%20%20%20%20%20%20%20%20%20%20%20%20%20%20%20%20pluginLayercontrol%3A%20false%2C%0A%20%20%20%20%20%20%20%20%20%20%20%20%20%20%20%20%7D%0A%20%20%20%20%20%20%20%20%20%20%20%20%29%3B%0A%0A%20%20%20%20%20%20%20%20%20%20%20%20%0A%0A%20%20%20%20%20%20%20%20%0A%20%20%20%20%0A%20%20%20%20%20%20%20%20%20%20%20%20var%20tile_layer_0886569bbb5142639d6e6d19494ad9c1%20%3D%20L.tileLayer%28%0A%20%20%20%20%20%20%20%20%20%20%20%20%20%20%20%20%22https%3A//%7Bs%7D.tile.openstreetmap.org/%7Bz%7D/%7Bx%7D/%7By%7D.png%22%2C%0A%20%20%20%20%20%20%20%20%20%20%20%20%20%20%20%20%7B%22attribution%22%3A%20%22Data%20by%20%5Cu0026copy%3B%20%5Cu003ca%20href%3D%5C%22http%3A//openstreetmap.org%5C%22%5Cu003eOpenStreetMap%5Cu003c/a%5Cu003e%2C%20under%20%5Cu003ca%20href%3D%5C%22http%3A//www.openstreetmap.org/copyright%5C%22%5Cu003eODbL%5Cu003c/a%5Cu003e.%22%2C%20%22detectRetina%22%3A%20false%2C%20%22maxNativeZoom%22%3A%2018%2C%20%22maxZoom%22%3A%2018%2C%20%22minZoom%22%3A%200%2C%20%22noWrap%22%3A%20false%2C%20%22opacity%22%3A%201%2C%20%22subdomains%22%3A%20%22abc%22%2C%20%22tms%22%3A%20false%7D%0A%20%20%20%20%20%20%20%20%20%20%20%20%29.addTo%28map_f8dbfb31c01d4cfdb936ca9483d1c2a2%29%3B%0A%20%20%20%20%20%20%20%20%0A%20%20%20%20%0A%20%20%20%20%20%20%20%20%20%20%20%20var%20tile_layer_75c2b7caec9e4289a1d5638829767604%20%3D%20L.tileLayer%28%0A%20%20%20%20%20%20%20%20%20%20%20%20%20%20%20%20%22https%3A//mt1.google.com/vt/lyrs%3Dm%5Cu0026x%3D%7Bx%7D%5Cu0026y%3D%7By%7D%5Cu0026z%3D%7Bz%7D%22%2C%0A%20%20%20%20%20%20%20%20%20%20%20%20%20%20%20%20%7B%22attribution%22%3A%20%22Google%22%2C%20%22detectRetina%22%3A%20false%2C%20%22maxNativeZoom%22%3A%2018%2C%20%22maxZoom%22%3A%2018%2C%20%22minZoom%22%3A%200%2C%20%22noWrap%22%3A%20false%2C%20%22opacity%22%3A%201%2C%20%22subdomains%22%3A%20%22abc%22%2C%20%22tms%22%3A%20false%7D%0A%20%20%20%20%20%20%20%20%20%20%20%20%29.addTo%28map_f8dbfb31c01d4cfdb936ca9483d1c2a2%29%3B%0A%20%20%20%20%20%20%20%20%0A%20%20%20%20%0A%20%20%20%20%20%20%20%20%20%20%20%20%20%20%20%20var%20lat_lng_popup_435877bb91874905a0f9a0b34cfb9906%20%3D%20L.popup%28%29%3B%0A%20%20%20%20%20%20%20%20%20%20%20%20%20%20%20%20function%20latLngPop%28e%29%20%7B%0A%20%20%20%20%20%20%20%20%20%20%20%20%20%20%20%20%20%20%20%20lat_lng_popup_435877bb91874905a0f9a0b34cfb9906%0A%20%20%20%20%20%20%20%20%20%20%20%20%20%20%20%20%20%20%20%20%20%20%20%20.setLatLng%28e.latlng%29%0A%20%20%20%20%20%20%20%20%20%20%20%20%20%20%20%20%20%20%20%20%20%20%20%20.setContent%28%22Latitude%3A%20%22%20%2B%20e.latlng.lat.toFixed%284%29%20%2B%0A%20%20%20%20%20%20%20%20%20%20%20%20%20%20%20%20%20%20%20%20%20%20%20%20%20%20%20%20%20%20%20%20%20%20%20%20%22%3Cbr%3ELongitude%3A%20%22%20%2B%20e.latlng.lng.toFixed%284%29%29%0A%20%20%20%20%20%20%20%20%20%20%20%20%20%20%20%20%20%20%20%20%20%20%20%20.openOn%28map_f8dbfb31c01d4cfdb936ca9483d1c2a2%29%3B%0A%20%20%20%20%20%20%20%20%20%20%20%20%20%20%20%20%20%20%20%20%7D%0A%20%20%20%20%20%20%20%20%20%20%20%20%20%20%20%20map_f8dbfb31c01d4cfdb936ca9483d1c2a2.on%28%27click%27%2C%20latLngPop%29%3B%0A%20%20%20%20%20%20%20%20%20%20%20%20%0A%20%20%20%20%0A%20%20%20%20%20%20%20%20%20%20%20%20L.control.fullscreen%28%0A%20%20%20%20%20%20%20%20%20%20%20%20%20%20%20%20%7B%22forceSeparateButton%22%3A%20false%2C%20%22position%22%3A%20%22topleft%22%2C%20%22title%22%3A%20%22Full%20Screen%22%2C%20%22titleCancel%22%3A%20%22Exit%20Full%20Screen%22%7D%0A%20%20%20%20%20%20%20%20%20%20%20%20%29.addTo%28map_f8dbfb31c01d4cfdb936ca9483d1c2a2%29%3B%0A%20%20%20%20%20%20%20%20%0A%20%20%20%20%0A%20%20%20%20%20%20%20%20%20%20%20%20map_f8dbfb31c01d4cfdb936ca9483d1c2a2.fitBounds%28%0A%20%20%20%20%20%20%20%20%20%20%20%20%20%20%20%20%5B%5B32.3%2C%20-90.9%5D%2C%20%5B32.3%2C%20-90.9%5D%5D%2C%0A%20%20%20%20%20%20%20%20%20%20%20%20%20%20%20%20%7B%22maxZoom%22%3A%2011%7D%0A%20%20%20%20%20%20%20%20%20%20%20%20%29%3B%0A%20%20%20%20%20%20%20%20%0A%20%20%20%20%0A%20%20%20%20%20%20%20%20%20%20%20%20var%20tile_layer_150a1a143e7c4738a9ada937f81b4565%20%3D%20L.tileLayer%28%0A%20%20%20%20%20%20%20%20%20%20%20%20%20%20%20%20%22https%3A//earthengine.googleapis.com/v1alpha/projects/earthengine-legacy/maps/c4f8a6a764195b4a41da34cfc6439efb-f5d06847328ef4975f6fbb4028c5ca8f/tiles/%7Bz%7D/%7Bx%7D/%7By%7D%22%2C%0A%20%20%20%20%20%20%20%20%20%20%20%20%20%20%20%20%7B%22attribution%22%3A%20%22Google%20Earth%20Engine%22%2C%20%22detectRetina%22%3A%20false%2C%20%22maxNativeZoom%22%3A%2018%2C%20%22maxZoom%22%3A%2018%2C%20%22minZoom%22%3A%200%2C%20%22noWrap%22%3A%20false%2C%20%22opacity%22%3A%201.0%2C%20%22subdomains%22%3A%20%22abc%22%2C%20%22tms%22%3A%20false%7D%0A%20%20%20%20%20%20%20%20%20%20%20%20%29.addTo%28map_f8dbfb31c01d4cfdb936ca9483d1c2a2%29%3B%0A%20%20%20%20%20%20%20%20%0A%20%20%20%20%0A%20%20%20%20%20%20%20%20%20%20%20%20var%20layer_control_61634cd837ac49e58c2e4a2d3fa0bd0b%20%3D%20%7B%0A%20%20%20%20%20%20%20%20%20%20%20%20%20%20%20%20base_layers%20%3A%20%7B%0A%20%20%20%20%20%20%20%20%20%20%20%20%20%20%20%20%20%20%20%20%22openstreetmap%22%20%3A%20tile_layer_0886569bbb5142639d6e6d19494ad9c1%2C%0A%20%20%20%20%20%20%20%20%20%20%20%20%20%20%20%20%7D%2C%0A%20%20%20%20%20%20%20%20%20%20%20%20%20%20%20%20overlays%20%3A%20%20%7B%0A%20%20%20%20%20%20%20%20%20%20%20%20%20%20%20%20%20%20%20%20%22Google%20Maps%22%20%3A%20tile_layer_75c2b7caec9e4289a1d5638829767604%2C%0A%20%20%20%20%20%20%20%20%20%20%20%20%20%20%20%20%20%20%20%20%22Water%20vector%22%20%3A%20tile_layer_150a1a143e7c4738a9ada937f81b4565%2C%0A%20%20%20%20%20%20%20%20%20%20%20%20%20%20%20%20%7D%2C%0A%20%20%20%20%20%20%20%20%20%20%20%20%7D%3B%0A%20%20%20%20%20%20%20%20%20%20%20%20L.control.layers%28%0A%20%20%20%20%20%20%20%20%20%20%20%20%20%20%20%20layer_control_61634cd837ac49e58c2e4a2d3fa0bd0b.base_layers%2C%0A%20%20%20%20%20%20%20%20%20%20%20%20%20%20%20%20layer_control_61634cd837ac49e58c2e4a2d3fa0bd0b.overlays%2C%0A%20%20%20%20%20%20%20%20%20%20%20%20%20%20%20%20%7B%22autoZIndex%22%3A%20true%2C%20%22collapsed%22%3A%20true%2C%20%22position%22%3A%20%22topright%22%7D%0A%20%20%20%20%20%20%20%20%20%20%20%20%29.addTo%28map_f8dbfb31c01d4cfdb936ca9483d1c2a2%29%3B%0A%20%20%20%20%20%20%20%20%0A%3C/script%3E onload=\"this.contentDocument.open();this.contentDocument.write(    decodeURIComponent(this.getAttribute('data-html')));this.contentDocument.close();\" allowfullscreen webkitallowfullscreen mozallowfullscreen></iframe></div></div>"
      ],
      "text/plain": [
       "<geemap.eefolium.Map at 0x7fbdc062b2b0>"
      ]
     },
     "execution_count": 19,
     "metadata": {},
     "output_type": "execute_result"
    }
   ],
   "source": [
    "water_vector = water_image.reduceToVectors(scale=30, maxPixels=60000000, geometry = rectangleGeoJSON)\n",
    "vector_Map.addLayer(water_vector, {}, 'Water vector')\n",
    "vector_Map"
   ]
  },
  {
   "cell_type": "code",
   "execution_count": null,
   "id": "96445bd8",
   "metadata": {},
   "outputs": [],
   "source": []
  }
 ],
 "metadata": {
  "kernelspec": {
   "display_name": "Python 3 (ipykernel)",
   "language": "python",
   "name": "python3"
  },
  "language_info": {
   "codemirror_mode": {
    "name": "ipython",
    "version": 3
   },
   "file_extension": ".py",
   "mimetype": "text/x-python",
   "name": "python",
   "nbconvert_exporter": "python",
   "pygments_lexer": "ipython3",
   "version": "3.8.12"
  }
 },
 "nbformat": 4,
 "nbformat_minor": 5
}
